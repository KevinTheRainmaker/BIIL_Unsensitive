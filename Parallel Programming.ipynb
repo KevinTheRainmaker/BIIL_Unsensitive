{
 "cells": [
  {
   "cell_type": "markdown",
   "metadata": {},
   "source": [
    "# Parallel Programming\n",
    "\n",
    "### 병렬 프로그래밍(parallel programming)은 계산을 여러 부분으로 나누어 계산하여도 될 때, 이를 병렬화하여 여러개의 thread에 할당하여 동시에 작업을 수행하는 테크닉이다."
   ]
  },
  {
   "cell_type": "markdown",
   "metadata": {},
   "source": [
    "1. 병렬화하여 수행할 function_to_apply 함수를 설정한다. 이 때, 일반적인 함수처럼 return을 사용하지 않고, output이라는 아규먼트를 받아서 output.put(result)를 이용하여 결과를 반환한다.\n",
    "2. original_data는 원본 데이터이다. np.array_split(original_data, n_threads)는 original_data를n_threads 개수 만큼 균일하게 나누어준다. 각각 나누어진 데이터에 function_to_apply 를 수행할 것이다.\n",
    "3. Queue()를 n_threads 개수만큼 생성한다.\n",
    "4. Process() 에 수행할 작업인 function_to_apply 를 할당하고 데이터와 생성된 Queue()를 함수의 파라미터로 넣어준다.\n",
    "5. 생성된 Process().start()를 시작한다.\n",
    "6. 작업이 완료되면 Process().get()를 통하여 작업결과를 반환받는다.\n",
    "7. 생성된 큐와 프로세스를 Queue().close()와 Process().join()를 통하여 닫아준다\n",
    "8. np.concatenate(results)를 통하여 나누어서 계산한 결과를 병합한다."
   ]
  },
  {
   "cell_type": "code",
   "execution_count": 3,
   "metadata": {},
   "outputs": [
    {
     "ename": "SyntaxError",
     "evalue": "Missing parentheses in call to 'print'. Did you mean print(outputs)? (<ipython-input-3-baea0f29edd3>, line 28)",
     "output_type": "error",
     "traceback": [
      "\u001b[1;36m  File \u001b[1;32m\"<ipython-input-3-baea0f29edd3>\"\u001b[1;36m, line \u001b[1;32m28\u001b[0m\n\u001b[1;33m    print outputs\u001b[0m\n\u001b[1;37m          ^\u001b[0m\n\u001b[1;31mSyntaxError\u001b[0m\u001b[1;31m:\u001b[0m Missing parentheses in call to 'print'. Did you mean print(outputs)?\n"
     ]
    }
   ],
   "source": [
    "import numpy as np\n",
    "from multiprocessing import Process, Queue\n",
    " \n",
    "n_threads = 40\n",
    " \n",
    "splitted = np.array_split(original_data, n_threads)\n",
    " \n",
    "def function_to_apply(a, output):\n",
    "    applied = do_function(a)\n",
    "    output.put(applied)\n",
    " \n",
    "if __name__ == '__main__':\n",
    "    outputs = []\n",
    "    procs = []\n",
    "    print \"append process\"\n",
    "    for i in splitted:\n",
    "        print \"hello queue!\"\n",
    "        output = Queue()\n",
    "        outputs.append(output)\n",
    "    for i, data_i in enumerate(splitted):\n",
    "        procs.append(Process(target=function_to_apply, args=(data_i, outputs[i])))\n",
    "    print \"process starts\"\n",
    "    for p in procs:\n",
    "        p.start()\n",
    "    results = []\n",
    "    print procs\n",
    "    print \"append outputs\"\n",
    "    print outputs\n",
    "    for output in outputs:\n",
    "        result = output.get()\n",
    "        results.append(result)\n",
    "    for output in outputs:\n",
    "        output.close()\n",
    "        print \"output end!\"\n",
    "    print \"finish process\"\n",
    "    for p in procs:\n",
    "        p.join()\n",
    " \n",
    "results = np.concatenate(results)"
   ]
  },
  {
   "cell_type": "markdown",
   "metadata": {},
   "source": [
    "### Pandas 데이터프레임의 경우는 다음과 같이 병렬화할 수 있다."
   ]
  },
  {
   "cell_type": "code",
   "execution_count": 4,
   "metadata": {},
   "outputs": [
    {
     "ename": "NameError",
     "evalue": "name 'df' is not defined",
     "output_type": "error",
     "traceback": [
      "\u001b[1;31m---------------------------------------------------------------------------\u001b[0m",
      "\u001b[1;31mNameError\u001b[0m                                 Traceback (most recent call last)",
      "\u001b[1;32m<ipython-input-4-218ce0708460>\u001b[0m in \u001b[0;36m<module>\u001b[1;34m\u001b[0m\n\u001b[0;32m      7\u001b[0m     \u001b[1;32mreturn\u001b[0m \u001b[0mdf\u001b[0m\u001b[1;33m\u001b[0m\u001b[1;33m\u001b[0m\u001b[0m\n\u001b[0;32m      8\u001b[0m \u001b[1;33m\u001b[0m\u001b[0m\n\u001b[1;32m----> 9\u001b[1;33m \u001b[0mresult_df\u001b[0m \u001b[1;33m=\u001b[0m \u001b[0mparallelize_dataframe\u001b[0m\u001b[1;33m(\u001b[0m\u001b[0mdf\u001b[0m\u001b[1;33m,\u001b[0m \u001b[0mfunction_to_apply\u001b[0m\u001b[1;33m)\u001b[0m\u001b[1;33m\u001b[0m\u001b[1;33m\u001b[0m\u001b[0m\n\u001b[0m",
      "\u001b[1;31mNameError\u001b[0m: name 'df' is not defined"
     ]
    }
   ],
   "source": [
    "def parallelize_dataframe(df, func):\n",
    "    df_split = np.array_split(df, num_partitions)\n",
    "    pool = Pool(num_cores)\n",
    "    df = pd.concat(pool.map(func, df_split))\n",
    "    pool.close()\n",
    "    pool.join()\n",
    "    return df\n",
    " \n",
    "result_df = parallelize_dataframe(df, function_to_apply)"
   ]
  },
  {
   "cell_type": "markdown",
   "metadata": {},
   "source": [
    "#### 출처: CSBL Wiki (Ingoo Lee 2018/04/17 15:12)"
   ]
  }
 ],
 "metadata": {
  "kernelspec": {
   "display_name": "Python 3",
   "language": "python",
   "name": "python3"
  },
  "language_info": {
   "codemirror_mode": {
    "name": "ipython",
    "version": 3
   },
   "file_extension": ".py",
   "mimetype": "text/x-python",
   "name": "python",
   "nbconvert_exporter": "python",
   "pygments_lexer": "ipython3",
   "version": "3.8.3"
  }
 },
 "nbformat": 4,
 "nbformat_minor": 4
}

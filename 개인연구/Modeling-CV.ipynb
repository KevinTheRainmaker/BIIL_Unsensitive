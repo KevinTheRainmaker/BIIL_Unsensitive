{
 "cells": [
  {
   "cell_type": "code",
   "execution_count": 2,
   "id": "3fc78262",
   "metadata": {},
   "outputs": [],
   "source": [
    "import pandas as pd\n",
    "import numpy as np\n",
    "\n",
    "from sklearn.model_selection import train_test_split\n",
    "from sklearn.model_selection import cross_val_score\n",
    "\n",
    "from sklearn.preprocessing import MinMaxScaler\n",
    "from sklearn.metrics import *\n",
    "from sklearn.model_selection import StratifiedKFold\n",
    "\n",
    "from sklearn.linear_model import LogisticRegression\n",
    "from lightgbm import LGBMClassifier\n",
    "from sklearn.neighbors import KNeighborsClassifier\n",
    "from sklearn.ensemble import RandomForestClassifier\n",
    "from sklearn.naive_bayes import MultinomialNB\n",
    "from sklearn.svm import SVC\n",
    "\n",
    "from imblearn.over_sampling import SMOTE\n",
    "\n",
    "import warnings\n",
    "warnings.filterwarnings(\"ignore\")"
   ]
  },
  {
   "cell_type": "code",
   "execution_count": 3,
   "id": "5f441b85",
   "metadata": {},
   "outputs": [],
   "source": [
    "#Stratified CV\n",
    "skf = StratifiedKFold(n_splits=5, shuffle=True, random_state=10)"
   ]
  },
  {
   "cell_type": "code",
   "execution_count": 45,
   "id": "28e6b036",
   "metadata": {},
   "outputs": [],
   "source": [
    "#Metircs\n",
    "def metrics(model, data, target, cv=skf):\n",
    "    accuracy = cross_val_score(model, data, target, cv=skf, scoring = 'accuracy').mean()\n",
    "    precision = cross_val_score(model, data, target, cv=skf, scoring = 'precision').mean()\n",
    "    recall = cross_val_score(model, data, target, cv=skf, scoring = 'recall').mean()\n",
    "    f1 = cross_val_score(model, data, target, cv=skf, scoring = 'f1').mean()\n",
    "    balanced = cross_val_score(model, data, target, cv=skf, scoring = 'balanced_accuracy').mean()\n",
    "    print(f'Accuracy : \\t\\t{accuracy}')\n",
    "    print(f'Precision : \\t\\t{precision}')\n",
    "    print(f'Recall : \\t\\t{recall}')\n",
    "    print(f'F1 : \\t\\t\\t{f1}')\n",
    "    print(f'Balanced Accuracy : \\t{balanced}')"
   ]
  },
  {
   "cell_type": "code",
   "execution_count": 59,
   "id": "12d06cbf",
   "metadata": {},
   "outputs": [],
   "source": [
    "#MinMaxScaler\n",
    "def minMax(data):\n",
    "    scaler = MinMaxScaler()\n",
    "    scaler.fit(data)\n",
    "    scale = scaler.transform(data)\n",
    "\n",
    "    scaled_df = pd.DataFrame(scale)\n",
    "    \n",
    "    return scaled_df"
   ]
  },
  {
   "cell_type": "code",
   "execution_count": 72,
   "id": "a7881372",
   "metadata": {},
   "outputs": [],
   "source": [
    "#SMOTE\n",
    "def smote(data, target):\n",
    "    smote = SMOTE(random_state=0)\n",
    "    X_over, y_over = smote.fit_resample(data, target)\n",
    "    return X_over, y_over"
   ]
  },
  {
   "cell_type": "markdown",
   "id": "9afb0679",
   "metadata": {},
   "source": [
    "# DILI"
   ]
  },
  {
   "cell_type": "code",
   "execution_count": 46,
   "id": "48f0528c",
   "metadata": {},
   "outputs": [
    {
     "name": "stdout",
     "output_type": "stream",
     "text": [
      "1    54.447439\n",
      "0    45.552561\n",
      "Name: DILI, dtype: float64\n"
     ]
    },
    {
     "data": {
      "image/png": "[encoded data removed]",
      "text/plain": [
       "<Figure size 432x288 with 1 Axes>"
      ]
     },
     "metadata": {
      "needs_background": "light"
     },
     "output_type": "display_data"
    }
   ],
   "source": [
    "df_raw = pd.read_csv('DILI/final/DILI_GSD.csv') # Need to input Binary class Data\n",
    "df_raw.DILI.value_counts(normalize=True).plot(kind='bar')\n",
    "print(df_raw.DILI.value_counts(normalize=True)*100)\n",
    "\n",
    "df = df_raw.iloc[:, 3:]\n",
    "X = df.iloc[:,1:]\n",
    "y = df.iloc[:,0]"
   ]
  },
  {
   "cell_type": "code",
   "execution_count": 51,
   "id": "51899429",
   "metadata": {},
   "outputs": [
    {
     "name": "stdout",
     "output_type": "stream",
     "text": [
      "Accuracy : \t\t0.5943447372398851\n",
      "Precision : \t\t0.6041911354165836\n",
      "Recall : \t\t0.7408971873618339\n",
      "F1 : \t\t\t0.6653860773789165\n",
      "Balanced Accuracy : \t0.5799959769906764\n"
     ]
    }
   ],
   "source": [
    "model = LogisticRegression()\n",
    "metrics(model, X, y)"
   ]
  },
  {
   "cell_type": "code",
   "execution_count": 52,
   "id": "3cb50db8",
   "metadata": {},
   "outputs": [
    {
     "name": "stdout",
     "output_type": "stream",
     "text": [
      "Accuracy : \t\t0.7147306897767924\n",
      "Precision : \t\t0.7215341753193683\n",
      "Recall : \t\t0.7755433119069484\n",
      "F1 : \t\t\t0.7473243393455593\n",
      "Balanced Accuracy : \t0.7087856539049935\n"
     ]
    }
   ],
   "source": [
    "model = LGBMClassifier()\n",
    "metrics(model, X, y)"
   ]
  },
  {
   "cell_type": "code",
   "execution_count": 53,
   "id": "d0b44dc0",
   "metadata": {},
   "outputs": [
    {
     "name": "stdout",
     "output_type": "stream",
     "text": [
      "Accuracy : \t\t0.720114878822996\n",
      "Precision : \t\t0.7209510958650718\n",
      "Recall : \t\t0.7977927422371867\n",
      "F1 : \t\t\t0.755091948726458\n",
      "Balanced Accuracy : \t0.7152715019391342\n"
     ]
    }
   ],
   "source": [
    "model = RandomForestClassifier()\n",
    "metrics(model, X, y)"
   ]
  },
  {
   "cell_type": "code",
   "execution_count": 54,
   "id": "b794efcc",
   "metadata": {},
   "outputs": [
    {
     "name": "stdout",
     "output_type": "stream",
     "text": [
      "Accuracy : \t\t0.6235410893334006\n",
      "Precision : \t\t0.6419842223461327\n",
      "Recall : \t\t0.697993402033806\n",
      "F1 : \t\t\t0.6685925026878486\n",
      "Balanced Accuracy : \t0.616245396329784\n"
     ]
    }
   ],
   "source": [
    "model = KNeighborsClassifier()\n",
    "metrics(model, X, y)"
   ]
  },
  {
   "cell_type": "code",
   "execution_count": 55,
   "id": "3f6d4766",
   "metadata": {},
   "outputs": [
    {
     "name": "stdout",
     "output_type": "stream",
     "text": [
      "Accuracy : \t\t0.5539063838363479\n",
      "Precision : \t\t0.5501054867420543\n",
      "Recall : \t\t0.9917457402305887\n",
      "F1 : \t\t\t0.7076732374783331\n",
      "Balanced Accuracy : \t0.511158438080958\n"
     ]
    }
   ],
   "source": [
    "model = SVC()\n",
    "metrics(model, X, y)"
   ]
  },
  {
   "cell_type": "markdown",
   "id": "eb38f37c",
   "metadata": {},
   "source": [
    "## Normalization - MinMaxScaling"
   ]
  },
  {
   "cell_type": "code",
   "execution_count": 63,
   "id": "5e9599d2",
   "metadata": {},
   "outputs": [],
   "source": [
    "X_scaled = minMax(X)"
   ]
  },
  {
   "cell_type": "code",
   "execution_count": 64,
   "id": "da32fc37",
   "metadata": {},
   "outputs": [
    {
     "name": "stdout",
     "output_type": "stream",
     "text": [
      "Accuracy : \t\t0.6769960195495541\n",
      "Precision : \t\t0.6978907497754492\n",
      "Recall : \t\t0.7177941026425875\n",
      "F1 : \t\t\t0.7075385084025919\n",
      "Balanced Accuracy : \t0.673004742878627\n"
     ]
    }
   ],
   "source": [
    "model = LogisticRegression()\n",
    "metrics(model, X_scaled, y)"
   ]
  },
  {
   "cell_type": "code",
   "execution_count": 65,
   "id": "cefba1d9",
   "metadata": {},
   "outputs": [
    {
     "name": "stdout",
     "output_type": "stream",
     "text": [
      "Accuracy : \t\t0.7079860936161636\n",
      "Precision : \t\t0.7171196461602578\n",
      "Recall : \t\t0.7656293575485494\n",
      "F1 : \t\t\t0.740173802615773\n",
      "Balanced Accuracy : \t0.7023581602160149\n"
     ]
    }
   ],
   "source": [
    "model = LGBMClassifier()\n",
    "metrics(model, X_scaled, y)"
   ]
  },
  {
   "cell_type": "code",
   "execution_count": 66,
   "id": "43836477",
   "metadata": {},
   "outputs": [
    {
     "name": "stdout",
     "output_type": "stream",
     "text": [
      "Accuracy : \t\t0.7183181337229808\n",
      "Precision : \t\t0.715075855588027\n",
      "Recall : \t\t0.7969969050777131\n",
      "F1 : \t\t\t0.7571152389692303\n",
      "Balanced Accuracy : \t0.7122300955610148\n"
     ]
    }
   ],
   "source": [
    "model = RandomForestClassifier()\n",
    "metrics(model, X_scaled, y)"
   ]
  },
  {
   "cell_type": "code",
   "execution_count": 67,
   "id": "93cb5a25",
   "metadata": {},
   "outputs": [
    {
     "name": "stdout",
     "output_type": "stream",
     "text": [
      "Accuracy : \t\t0.6684597168337785\n",
      "Precision : \t\t0.6974564589540957\n",
      "Recall : \t\t0.6905621875318845\n",
      "F1 : \t\t\t0.6937903847270817\n",
      "Balanced Accuracy : \t0.6663219170600942\n"
     ]
    }
   ],
   "source": [
    "model = KNeighborsClassifier()\n",
    "metrics(model, X_scaled, y)"
   ]
  },
  {
   "cell_type": "code",
   "execution_count": 68,
   "id": "73924d5d",
   "metadata": {},
   "outputs": [
    {
     "name": "stdout",
     "output_type": "stream",
     "text": [
      "Accuracy : \t\t0.7093475084395626\n",
      "Precision : \t\t0.6999470875907022\n",
      "Recall : \t\t0.8184641023024861\n",
      "F1 : \t\t\t0.7542714453856151\n",
      "Balanced Accuracy : \t0.698675059491486\n"
     ]
    }
   ],
   "source": [
    "model = SVC()\n",
    "metrics(model, X_scaled, y)"
   ]
  },
  {
   "cell_type": "markdown",
   "id": "d4a30905",
   "metadata": {},
   "source": [
    "## OverSampling - SMOTE"
   ]
  },
  {
   "cell_type": "code",
   "execution_count": 78,
   "id": "a7027bfb",
   "metadata": {},
   "outputs": [],
   "source": [
    "X_over, y_over = smote(X_scaled,y)"
   ]
  },
  {
   "cell_type": "code",
   "execution_count": 79,
   "id": "eb490e99",
   "metadata": {},
   "outputs": [
    {
     "name": "stdout",
     "output_type": "stream",
     "text": [
      "Accuracy : \t\t0.7009159069608929\n",
      "Precision : \t\t0.7103870846560374\n",
      "Recall : \t\t0.6806516341869877\n",
      "F1 : \t\t\t0.6947103447729541\n",
      "Balanced Accuracy : \t0.7008825630037752\n"
     ]
    }
   ],
   "source": [
    "model = LogisticRegression()\n",
    "metrics(model, X_over, y_over)"
   ]
  },
  {
   "cell_type": "code",
   "execution_count": 80,
   "id": "2dbd5daa",
   "metadata": {},
   "outputs": [
    {
     "name": "stdout",
     "output_type": "stream",
     "text": [
      "Accuracy : \t\t0.740516315924001\n",
      "Precision : \t\t0.7385491205638128\n",
      "Recall : \t\t0.7458422609937762\n",
      "F1 : \t\t\t0.7417122815331352\n",
      "Balanced Accuracy : \t0.7404720606740809\n"
     ]
    }
   ],
   "source": [
    "model = LGBMClassifier()\n",
    "metrics(model, X_over, y_over)"
   ]
  },
  {
   "cell_type": "code",
   "execution_count": 81,
   "id": "471259c6",
   "metadata": {},
   "outputs": [
    {
     "name": "stdout",
     "output_type": "stream",
     "text": [
      "Accuracy : \t\t0.7446374712447815\n",
      "Precision : \t\t0.7344505435834932\n",
      "Recall : \t\t0.7664796109240555\n",
      "F1 : \t\t\t0.7573048840603654\n",
      "Balanced Accuracy : \t0.743791449852056\n"
     ]
    }
   ],
   "source": [
    "model = RandomForestClassifier()\n",
    "metrics(model, X_over, y_over)"
   ]
  },
  {
   "cell_type": "code",
   "execution_count": 86,
   "id": "c4f48600",
   "metadata": {},
   "outputs": [
    {
     "name": "stdout",
     "output_type": "stream",
     "text": [
      "Accuracy : \t\t0.6394351197069097\n",
      "Precision : \t\t0.7170460990014569\n",
      "Recall : \t\t0.46201067918239636\n",
      "F1 : \t\t\t0.5614544668325201\n",
      "Balanced Accuracy : \t0.6394075434479475\n"
     ]
    }
   ],
   "source": [
    "model = KNeighborsClassifier()\n",
    "metrics(model, X_over, y_over)"
   ]
  },
  {
   "cell_type": "code",
   "execution_count": null,
   "id": "4b9096f7",
   "metadata": {},
   "outputs": [],
   "source": [
    "model = SVC()\n",
    "metrics(model, X_over, y_over)"
   ]
  },
  {
   "cell_type": "code",
   "execution_count": null,
   "id": "5d05ed99",
   "metadata": {},
   "outputs": [],
   "source": []
  },
  {
   "cell_type": "code",
   "execution_count": null,
   "id": "3eb78b93",
   "metadata": {},
   "outputs": [],
   "source": []
  },
  {
   "cell_type": "code",
   "execution_count": null,
   "id": "1a3a2325",
   "metadata": {},
   "outputs": [],
   "source": []
  },
  {
   "cell_type": "code",
   "execution_count": null,
   "id": "5b6dda02",
   "metadata": {},
   "outputs": [],
   "source": []
  },
  {
   "cell_type": "code",
   "execution_count": null,
   "id": "4ee12357",
   "metadata": {},
   "outputs": [],
   "source": []
  }
 ],
 "metadata": {
  "kernelspec": {
   "display_name": "Python [conda env:my-rdkit-env] *",
   "language": "python",
   "name": "conda-env-my-rdkit-env-py"
  },
  "language_info": {
   "codemirror_mode": {
    "name": "ipython",
    "version": 3
   },
   "file_extension": ".py",
   "mimetype": "text/x-python",
   "name": "python",
   "nbconvert_exporter": "python",
   "pygments_lexer": "ipython3",
   "version": "3.7.10"
  }
 },
 "nbformat": 4,
 "nbformat_minor": 5
}

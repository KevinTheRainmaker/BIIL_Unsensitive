{
 "cells": [
  {
   "cell_type": "code",
   "execution_count": 2,
   "id": "92e4179e",
   "metadata": {},
   "outputs": [],
   "source": [
    "import pandas as pd\n",
    "import numpy as np\n",
    "\n",
    "from sklearn.model_selection import train_test_split\n",
    "from sklearn.model_selection import cross_val_score\n",
    "\n",
    "from sklearn.preprocessing import MinMaxScaler\n",
    "from sklearn.metrics import *\n",
    "from sklearn.model_selection import StratifiedKFold\n",
    "\n",
    "from sklearn.linear_model import LogisticRegression\n",
    "from lightgbm import LGBMClassifier\n",
    "from sklearn.neighbors import KNeighborsClassifier\n",
    "from sklearn.ensemble import RandomForestClassifier\n",
    "from sklearn.svm import SVC\n",
    "\n",
    "from imblearn.over_sampling import SMOTE\n",
    "\n",
    "import warnings\n",
    "warnings.filterwarnings(\"ignore\")"
   ]
  },
  {
   "cell_type": "code",
   "execution_count": 237,
   "id": "c6c56552",
   "metadata": {},
   "outputs": [],
   "source": [
    "#Stratified CV\n",
    "skf = StratifiedKFold(n_splits=5, shuffle=True, random_state=10)"
   ]
  },
  {
   "cell_type": "code",
   "execution_count": 249,
   "id": "c22ed700",
   "metadata": {},
   "outputs": [],
   "source": [
    "#Metircs\n",
    "def metrics(model, data, target, cv=skf):\n",
    "    accuracy = cross_val_score(model, data, target, cv=skf, scoring = 'accuracy', error_score = 'raise').mean()\n",
    "    precision = cross_val_score(model, data, target, cv=skf, scoring = 'precision_macro', error_score = 'raise').mean()\n",
    "    recall = cross_val_score(model, data, target, cv=skf, scoring = 'recall_macro', error_score = 'raise').mean()\n",
    "    f1 = cross_val_score(model, data, target, cv=skf, scoring = 'f1_macro', error_score = 'raise').mean()\n",
    "    balanced = cross_val_score(model, data, target, cv=skf, scoring = 'balanced_accuracy', error_score = 'raise').mean()\n",
    "    print(f'Accuracy : \\t\\t{accuracy}')\n",
    "    print(f'Precision : \\t\\t{precision}')\n",
    "    print(f'Recall : \\t\\t{recall}')\n",
    "    print(f'F1 : \\t\\t\\t{f1}')\n",
    "    print(f'Balanced Accuracy : \\t{balanced}')"
   ]
  },
  {
   "cell_type": "code",
   "execution_count": 239,
   "id": "6d453060",
   "metadata": {},
   "outputs": [],
   "source": [
    "#MinMaxScaler\n",
    "def minMax(data):\n",
    "    scaler = MinMaxScaler()\n",
    "    scaler.fit(data)\n",
    "    scale = scaler.transform(data)\n",
    "\n",
    "    scaled_df = pd.DataFrame(scale)\n",
    "    \n",
    "    return scaled_df"
   ]
  },
  {
   "cell_type": "code",
   "execution_count": 240,
   "id": "a1e9b392",
   "metadata": {},
   "outputs": [],
   "source": [
    "#SMOTE\n",
    "def smote(data, target):\n",
    "    smote = SMOTE(random_state=0)\n",
    "    X_over, y_over = smote.fit_resample(data, target)\n",
    "    return X_over, y_over"
   ]
  },
  {
   "cell_type": "markdown",
   "id": "c5fb1912",
   "metadata": {},
   "source": [
    "# DILI"
   ]
  },
  {
   "cell_type": "code",
   "execution_count": 192,
   "id": "9d55c53a",
   "metadata": {},
   "outputs": [
    {
     "name": "stdout",
     "output_type": "stream",
     "text": [
      "1    54.447439\n",
      "0    45.552561\n",
      "Name: DILI, dtype: float64\n"
     ]
    },
    {
     "data": {
      "image/png": "[encoded data removed]",
      "text/plain": [
       "<Figure size 432x288 with 1 Axes>"
      ]
     },
     "metadata": {
      "needs_background": "light"
     },
     "output_type": "display_data"
    }
   ],
   "source": [
    "df_raw = pd.read_csv('DILI/final/DILI_GSD.csv') # Need to input Binary class Data\n",
    "df_raw\n",
    "\n",
    "df_raw.DILI.value_counts(normalize=True).plot(kind='bar')\n",
    "print(df_raw.DILI.value_counts(normalize=True)*100)\n",
    "\n",
    "df = df_raw.iloc[:, 3:]\n",
    "X = df.iloc[:,1:]\n",
    "y = df.iloc[:,0]"
   ]
  },
  {
   "cell_type": "code",
   "execution_count": 193,
   "id": "99149ed2",
   "metadata": {},
   "outputs": [
    {
     "ename": "KeyboardInterrupt",
     "evalue": "",
     "output_type": "error",
     "traceback": [
      "\u001b[1;31m---------------------------------------------------------------------------\u001b[0m",
      "\u001b[1;31mKeyboardInterrupt\u001b[0m                         Traceback (most recent call last)",
      "\u001b[1;32m<ipython-input-193-42c6722504d0>\u001b[0m in \u001b[0;36m<module>\u001b[1;34m\u001b[0m\n\u001b[0;32m      1\u001b[0m \u001b[0mmodel\u001b[0m \u001b[1;33m=\u001b[0m \u001b[0mLogisticRegression\u001b[0m\u001b[1;33m(\u001b[0m\u001b[1;33m)\u001b[0m\u001b[1;33m\u001b[0m\u001b[1;33m\u001b[0m\u001b[0m\n\u001b[1;32m----> 2\u001b[1;33m \u001b[0mmetrics\u001b[0m\u001b[1;33m(\u001b[0m\u001b[0mmodel\u001b[0m\u001b[1;33m,\u001b[0m \u001b[0mX\u001b[0m\u001b[1;33m,\u001b[0m \u001b[0my\u001b[0m\u001b[1;33m)\u001b[0m\u001b[1;33m\u001b[0m\u001b[1;33m\u001b[0m\u001b[0m\n\u001b[0m",
      "\u001b[1;32m<ipython-input-189-1b73c391be7a>\u001b[0m in \u001b[0;36mmetrics\u001b[1;34m(model, data, target, cv)\u001b[0m\n\u001b[0;32m      2\u001b[0m \u001b[1;32mdef\u001b[0m \u001b[0mmetrics\u001b[0m\u001b[1;33m(\u001b[0m\u001b[0mmodel\u001b[0m\u001b[1;33m,\u001b[0m \u001b[0mdata\u001b[0m\u001b[1;33m,\u001b[0m \u001b[0mtarget\u001b[0m\u001b[1;33m,\u001b[0m \u001b[0mcv\u001b[0m\u001b[1;33m=\u001b[0m\u001b[0mskf\u001b[0m\u001b[1;33m)\u001b[0m\u001b[1;33m:\u001b[0m\u001b[1;33m\u001b[0m\u001b[1;33m\u001b[0m\u001b[0m\n\u001b[0;32m      3\u001b[0m     \u001b[0maccuracy\u001b[0m \u001b[1;33m=\u001b[0m \u001b[0mcross_val_score\u001b[0m\u001b[1;33m(\u001b[0m\u001b[0mmodel\u001b[0m\u001b[1;33m,\u001b[0m \u001b[0mdata\u001b[0m\u001b[1;33m,\u001b[0m \u001b[0mtarget\u001b[0m\u001b[1;33m,\u001b[0m \u001b[0mcv\u001b[0m\u001b[1;33m=\u001b[0m\u001b[0mskf\u001b[0m\u001b[1;33m,\u001b[0m \u001b[0mscoring\u001b[0m \u001b[1;33m=\u001b[0m \u001b[1;34m'accuracy'\u001b[0m\u001b[1;33m,\u001b[0m \u001b[0merror_score\u001b[0m \u001b[1;33m=\u001b[0m \u001b[1;34m'raise'\u001b[0m\u001b[1;33m)\u001b[0m\u001b[1;33m.\u001b[0m\u001b[0mmean\u001b[0m\u001b[1;33m(\u001b[0m\u001b[1;33m)\u001b[0m\u001b[1;33m\u001b[0m\u001b[1;33m\u001b[0m\u001b[0m\n\u001b[1;32m----> 4\u001b[1;33m     \u001b[0mprecision\u001b[0m \u001b[1;33m=\u001b[0m \u001b[0mcross_val_score\u001b[0m\u001b[1;33m(\u001b[0m\u001b[0mmodel\u001b[0m\u001b[1;33m,\u001b[0m \u001b[0mdata\u001b[0m\u001b[1;33m,\u001b[0m \u001b[0mtarget\u001b[0m\u001b[1;33m,\u001b[0m \u001b[0mcv\u001b[0m\u001b[1;33m=\u001b[0m\u001b[0mskf\u001b[0m\u001b[1;33m,\u001b[0m \u001b[0mscoring\u001b[0m \u001b[1;33m=\u001b[0m \u001b[1;34m'precision'\u001b[0m\u001b[1;33m,\u001b[0m \u001b[0merror_score\u001b[0m \u001b[1;33m=\u001b[0m \u001b[1;34m'raise'\u001b[0m\u001b[1;33m)\u001b[0m\u001b[1;33m.\u001b[0m\u001b[0mmean\u001b[0m\u001b[1;33m(\u001b[0m\u001b[1;33m)\u001b[0m\u001b[1;33m\u001b[0m\u001b[1;33m\u001b[0m\u001b[0m\n\u001b[0m\u001b[0;32m      5\u001b[0m     \u001b[0mrecall\u001b[0m \u001b[1;33m=\u001b[0m \u001b[0mcross_val_score\u001b[0m\u001b[1;33m(\u001b[0m\u001b[0mmodel\u001b[0m\u001b[1;33m,\u001b[0m \u001b[0mdata\u001b[0m\u001b[1;33m,\u001b[0m \u001b[0mtarget\u001b[0m\u001b[1;33m,\u001b[0m \u001b[0mcv\u001b[0m\u001b[1;33m=\u001b[0m\u001b[0mskf\u001b[0m\u001b[1;33m,\u001b[0m \u001b[0mscoring\u001b[0m \u001b[1;33m=\u001b[0m \u001b[1;34m'recall'\u001b[0m\u001b[1;33m,\u001b[0m \u001b[0merror_score\u001b[0m \u001b[1;33m=\u001b[0m \u001b[1;34m'raise'\u001b[0m\u001b[1;33m)\u001b[0m\u001b[1;33m.\u001b[0m\u001b[0mmean\u001b[0m\u001b[1;33m(\u001b[0m\u001b[1;33m)\u001b[0m\u001b[1;33m\u001b[0m\u001b[1;33m\u001b[0m\u001b[0m\n\u001b[0;32m      6\u001b[0m     \u001b[0mf1\u001b[0m \u001b[1;33m=\u001b[0m \u001b[0mcross_val_score\u001b[0m\u001b[1;33m(\u001b[0m\u001b[0mmodel\u001b[0m\u001b[1;33m,\u001b[0m \u001b[0mdata\u001b[0m\u001b[1;33m,\u001b[0m \u001b[0mtarget\u001b[0m\u001b[1;33m,\u001b[0m \u001b[0mcv\u001b[0m\u001b[1;33m=\u001b[0m\u001b[0mskf\u001b[0m\u001b[1;33m,\u001b[0m \u001b[0mscoring\u001b[0m \u001b[1;33m=\u001b[0m \u001b[1;34m'f1'\u001b[0m\u001b[1;33m,\u001b[0m \u001b[0merror_score\u001b[0m \u001b[1;33m=\u001b[0m \u001b[1;34m'raise'\u001b[0m\u001b[1;33m)\u001b[0m\u001b[1;33m.\u001b[0m\u001b[0mmean\u001b[0m\u001b[1;33m(\u001b[0m\u001b[1;33m)\u001b[0m\u001b[1;33m\u001b[0m\u001b[1;33m\u001b[0m\u001b[0m\n",
      "\u001b[1;32m~\\anaconda3\\envs\\my-rdkit-env\\lib\\site-packages\\sklearn\\utils\\validation.py\u001b[0m in \u001b[0;36minner_f\u001b[1;34m(*args, **kwargs)\u001b[0m\n\u001b[0;32m     61\u001b[0m             \u001b[0mextra_args\u001b[0m \u001b[1;33m=\u001b[0m \u001b[0mlen\u001b[0m\u001b[1;33m(\u001b[0m\u001b[0margs\u001b[0m\u001b[1;33m)\u001b[0m \u001b[1;33m-\u001b[0m \u001b[0mlen\u001b[0m\u001b[1;33m(\u001b[0m\u001b[0mall_args\u001b[0m\u001b[1;33m)\u001b[0m\u001b[1;33m\u001b[0m\u001b[1;33m\u001b[0m\u001b[0m\n\u001b[0;32m     62\u001b[0m             \u001b[1;32mif\u001b[0m \u001b[0mextra_args\u001b[0m \u001b[1;33m<=\u001b[0m \u001b[1;36m0\u001b[0m\u001b[1;33m:\u001b[0m\u001b[1;33m\u001b[0m\u001b[1;33m\u001b[0m\u001b[0m\n\u001b[1;32m---> 63\u001b[1;33m                 \u001b[1;32mreturn\u001b[0m \u001b[0mf\u001b[0m\u001b[1;33m(\u001b[0m\u001b[1;33m*\u001b[0m\u001b[0margs\u001b[0m\u001b[1;33m,\u001b[0m \u001b[1;33m**\u001b[0m\u001b[0mkwargs\u001b[0m\u001b[1;33m)\u001b[0m\u001b[1;33m\u001b[0m\u001b[1;33m\u001b[0m\u001b[0m\n\u001b[0m\u001b[0;32m     64\u001b[0m \u001b[1;33m\u001b[0m\u001b[0m\n\u001b[0;32m     65\u001b[0m             \u001b[1;31m# extra_args > 0\u001b[0m\u001b[1;33m\u001b[0m\u001b[1;33m\u001b[0m\u001b[1;33m\u001b[0m\u001b[0m\n",
      "\u001b[1;32m~\\anaconda3\\envs\\my-rdkit-env\\lib\\site-packages\\sklearn\\model_selection\\_validation.py\u001b[0m in \u001b[0;36mcross_val_score\u001b[1;34m(estimator, X, y, groups, scoring, cv, n_jobs, verbose, fit_params, pre_dispatch, error_score)\u001b[0m\n\u001b[0;32m    448\u001b[0m                                 \u001b[0mfit_params\u001b[0m\u001b[1;33m=\u001b[0m\u001b[0mfit_params\u001b[0m\u001b[1;33m,\u001b[0m\u001b[1;33m\u001b[0m\u001b[1;33m\u001b[0m\u001b[0m\n\u001b[0;32m    449\u001b[0m                                 \u001b[0mpre_dispatch\u001b[0m\u001b[1;33m=\u001b[0m\u001b[0mpre_dispatch\u001b[0m\u001b[1;33m,\u001b[0m\u001b[1;33m\u001b[0m\u001b[1;33m\u001b[0m\u001b[0m\n\u001b[1;32m--> 450\u001b[1;33m                                 error_score=error_score)\n\u001b[0m\u001b[0;32m    451\u001b[0m     \u001b[1;32mreturn\u001b[0m \u001b[0mcv_results\u001b[0m\u001b[1;33m[\u001b[0m\u001b[1;34m'test_score'\u001b[0m\u001b[1;33m]\u001b[0m\u001b[1;33m\u001b[0m\u001b[1;33m\u001b[0m\u001b[0m\n\u001b[0;32m    452\u001b[0m \u001b[1;33m\u001b[0m\u001b[0m\n",
      "\u001b[1;32m~\\anaconda3\\envs\\my-rdkit-env\\lib\\site-packages\\sklearn\\utils\\validation.py\u001b[0m in \u001b[0;36minner_f\u001b[1;34m(*args, **kwargs)\u001b[0m\n\u001b[0;32m     61\u001b[0m             \u001b[0mextra_args\u001b[0m \u001b[1;33m=\u001b[0m \u001b[0mlen\u001b[0m\u001b[1;33m(\u001b[0m\u001b[0margs\u001b[0m\u001b[1;33m)\u001b[0m \u001b[1;33m-\u001b[0m \u001b[0mlen\u001b[0m\u001b[1;33m(\u001b[0m\u001b[0mall_args\u001b[0m\u001b[1;33m)\u001b[0m\u001b[1;33m\u001b[0m\u001b[1;33m\u001b[0m\u001b[0m\n\u001b[0;32m     62\u001b[0m             \u001b[1;32mif\u001b[0m \u001b[0mextra_args\u001b[0m \u001b[1;33m<=\u001b[0m \u001b[1;36m0\u001b[0m\u001b[1;33m:\u001b[0m\u001b[1;33m\u001b[0m\u001b[1;33m\u001b[0m\u001b[0m\n\u001b[1;32m---> 63\u001b[1;33m                 \u001b[1;32mreturn\u001b[0m \u001b[0mf\u001b[0m\u001b[1;33m(\u001b[0m\u001b[1;33m*\u001b[0m\u001b[0margs\u001b[0m\u001b[1;33m,\u001b[0m \u001b[1;33m**\u001b[0m\u001b[0mkwargs\u001b[0m\u001b[1;33m)\u001b[0m\u001b[1;33m\u001b[0m\u001b[1;33m\u001b[0m\u001b[0m\n\u001b[0m\u001b[0;32m     64\u001b[0m \u001b[1;33m\u001b[0m\u001b[0m\n\u001b[0;32m     65\u001b[0m             \u001b[1;31m# extra_args > 0\u001b[0m\u001b[1;33m\u001b[0m\u001b[1;33m\u001b[0m\u001b[1;33m\u001b[0m\u001b[0m\n",
      "\u001b[1;32m~\\anaconda3\\envs\\my-rdkit-env\\lib\\site-packages\\sklearn\\model_selection\\_validation.py\u001b[0m in \u001b[0;36mcross_validate\u001b[1;34m(estimator, X, y, groups, scoring, cv, n_jobs, verbose, fit_params, pre_dispatch, return_train_score, return_estimator, error_score)\u001b[0m\n\u001b[0;32m    254\u001b[0m             \u001b[0mreturn_times\u001b[0m\u001b[1;33m=\u001b[0m\u001b[1;32mTrue\u001b[0m\u001b[1;33m,\u001b[0m \u001b[0mreturn_estimator\u001b[0m\u001b[1;33m=\u001b[0m\u001b[0mreturn_estimator\u001b[0m\u001b[1;33m,\u001b[0m\u001b[1;33m\u001b[0m\u001b[1;33m\u001b[0m\u001b[0m\n\u001b[0;32m    255\u001b[0m             error_score=error_score)\n\u001b[1;32m--> 256\u001b[1;33m         for train, test in cv.split(X, y, groups))\n\u001b[0m\u001b[0;32m    257\u001b[0m \u001b[1;33m\u001b[0m\u001b[0m\n\u001b[0;32m    258\u001b[0m     \u001b[1;31m# For callabe scoring, the return type is only know after calling. If the\u001b[0m\u001b[1;33m\u001b[0m\u001b[1;33m\u001b[0m\u001b[1;33m\u001b[0m\u001b[0m\n",
      "\u001b[1;32m~\\anaconda3\\envs\\my-rdkit-env\\lib\\site-packages\\joblib\\parallel.py\u001b[0m in \u001b[0;36m__call__\u001b[1;34m(self, iterable)\u001b[0m\n\u001b[0;32m   1042\u001b[0m                 \u001b[0mself\u001b[0m\u001b[1;33m.\u001b[0m\u001b[0m_iterating\u001b[0m \u001b[1;33m=\u001b[0m \u001b[0mself\u001b[0m\u001b[1;33m.\u001b[0m\u001b[0m_original_iterator\u001b[0m \u001b[1;32mis\u001b[0m \u001b[1;32mnot\u001b[0m \u001b[1;32mNone\u001b[0m\u001b[1;33m\u001b[0m\u001b[1;33m\u001b[0m\u001b[0m\n\u001b[0;32m   1043\u001b[0m \u001b[1;33m\u001b[0m\u001b[0m\n\u001b[1;32m-> 1044\u001b[1;33m             \u001b[1;32mwhile\u001b[0m \u001b[0mself\u001b[0m\u001b[1;33m.\u001b[0m\u001b[0mdispatch_one_batch\u001b[0m\u001b[1;33m(\u001b[0m\u001b[0miterator\u001b[0m\u001b[1;33m)\u001b[0m\u001b[1;33m:\u001b[0m\u001b[1;33m\u001b[0m\u001b[1;33m\u001b[0m\u001b[0m\n\u001b[0m\u001b[0;32m   1045\u001b[0m                 \u001b[1;32mpass\u001b[0m\u001b[1;33m\u001b[0m\u001b[1;33m\u001b[0m\u001b[0m\n\u001b[0;32m   1046\u001b[0m \u001b[1;33m\u001b[0m\u001b[0m\n",
      "\u001b[1;32m~\\anaconda3\\envs\\my-rdkit-env\\lib\\site-packages\\joblib\\parallel.py\u001b[0m in \u001b[0;36mdispatch_one_batch\u001b[1;34m(self, iterator)\u001b[0m\n\u001b[0;32m    857\u001b[0m                 \u001b[1;32mreturn\u001b[0m \u001b[1;32mFalse\u001b[0m\u001b[1;33m\u001b[0m\u001b[1;33m\u001b[0m\u001b[0m\n\u001b[0;32m    858\u001b[0m             \u001b[1;32melse\u001b[0m\u001b[1;33m:\u001b[0m\u001b[1;33m\u001b[0m\u001b[1;33m\u001b[0m\u001b[0m\n\u001b[1;32m--> 859\u001b[1;33m                 \u001b[0mself\u001b[0m\u001b[1;33m.\u001b[0m\u001b[0m_dispatch\u001b[0m\u001b[1;33m(\u001b[0m\u001b[0mtasks\u001b[0m\u001b[1;33m)\u001b[0m\u001b[1;33m\u001b[0m\u001b[1;33m\u001b[0m\u001b[0m\n\u001b[0m\u001b[0;32m    860\u001b[0m                 \u001b[1;32mreturn\u001b[0m \u001b[1;32mTrue\u001b[0m\u001b[1;33m\u001b[0m\u001b[1;33m\u001b[0m\u001b[0m\n\u001b[0;32m    861\u001b[0m \u001b[1;33m\u001b[0m\u001b[0m\n",
      "\u001b[1;32m~\\anaconda3\\envs\\my-rdkit-env\\lib\\site-packages\\joblib\\parallel.py\u001b[0m in \u001b[0;36m_dispatch\u001b[1;34m(self, batch)\u001b[0m\n\u001b[0;32m    775\u001b[0m         \u001b[1;32mwith\u001b[0m \u001b[0mself\u001b[0m\u001b[1;33m.\u001b[0m\u001b[0m_lock\u001b[0m\u001b[1;33m:\u001b[0m\u001b[1;33m\u001b[0m\u001b[1;33m\u001b[0m\u001b[0m\n\u001b[0;32m    776\u001b[0m             \u001b[0mjob_idx\u001b[0m \u001b[1;33m=\u001b[0m \u001b[0mlen\u001b[0m\u001b[1;33m(\u001b[0m\u001b[0mself\u001b[0m\u001b[1;33m.\u001b[0m\u001b[0m_jobs\u001b[0m\u001b[1;33m)\u001b[0m\u001b[1;33m\u001b[0m\u001b[1;33m\u001b[0m\u001b[0m\n\u001b[1;32m--> 777\u001b[1;33m             \u001b[0mjob\u001b[0m \u001b[1;33m=\u001b[0m \u001b[0mself\u001b[0m\u001b[1;33m.\u001b[0m\u001b[0m_backend\u001b[0m\u001b[1;33m.\u001b[0m\u001b[0mapply_async\u001b[0m\u001b[1;33m(\u001b[0m\u001b[0mbatch\u001b[0m\u001b[1;33m,\u001b[0m \u001b[0mcallback\u001b[0m\u001b[1;33m=\u001b[0m\u001b[0mcb\u001b[0m\u001b[1;33m)\u001b[0m\u001b[1;33m\u001b[0m\u001b[1;33m\u001b[0m\u001b[0m\n\u001b[0m\u001b[0;32m    778\u001b[0m             \u001b[1;31m# A job can complete so quickly than its callback is\u001b[0m\u001b[1;33m\u001b[0m\u001b[1;33m\u001b[0m\u001b[1;33m\u001b[0m\u001b[0m\n\u001b[0;32m    779\u001b[0m             \u001b[1;31m# called before we get here, causing self._jobs to\u001b[0m\u001b[1;33m\u001b[0m\u001b[1;33m\u001b[0m\u001b[1;33m\u001b[0m\u001b[0m\n",
      "\u001b[1;32m~\\anaconda3\\envs\\my-rdkit-env\\lib\\site-packages\\joblib\\_parallel_backends.py\u001b[0m in \u001b[0;36mapply_async\u001b[1;34m(self, func, callback)\u001b[0m\n\u001b[0;32m    206\u001b[0m     \u001b[1;32mdef\u001b[0m \u001b[0mapply_async\u001b[0m\u001b[1;33m(\u001b[0m\u001b[0mself\u001b[0m\u001b[1;33m,\u001b[0m \u001b[0mfunc\u001b[0m\u001b[1;33m,\u001b[0m \u001b[0mcallback\u001b[0m\u001b[1;33m=\u001b[0m\u001b[1;32mNone\u001b[0m\u001b[1;33m)\u001b[0m\u001b[1;33m:\u001b[0m\u001b[1;33m\u001b[0m\u001b[1;33m\u001b[0m\u001b[0m\n\u001b[0;32m    207\u001b[0m         \u001b[1;34m\"\"\"Schedule a func to be run\"\"\"\u001b[0m\u001b[1;33m\u001b[0m\u001b[1;33m\u001b[0m\u001b[0m\n\u001b[1;32m--> 208\u001b[1;33m         \u001b[0mresult\u001b[0m \u001b[1;33m=\u001b[0m \u001b[0mImmediateResult\u001b[0m\u001b[1;33m(\u001b[0m\u001b[0mfunc\u001b[0m\u001b[1;33m)\u001b[0m\u001b[1;33m\u001b[0m\u001b[1;33m\u001b[0m\u001b[0m\n\u001b[0m\u001b[0;32m    209\u001b[0m         \u001b[1;32mif\u001b[0m \u001b[0mcallback\u001b[0m\u001b[1;33m:\u001b[0m\u001b[1;33m\u001b[0m\u001b[1;33m\u001b[0m\u001b[0m\n\u001b[0;32m    210\u001b[0m             \u001b[0mcallback\u001b[0m\u001b[1;33m(\u001b[0m\u001b[0mresult\u001b[0m\u001b[1;33m)\u001b[0m\u001b[1;33m\u001b[0m\u001b[1;33m\u001b[0m\u001b[0m\n",
      "\u001b[1;32m~\\anaconda3\\envs\\my-rdkit-env\\lib\\site-packages\\joblib\\_parallel_backends.py\u001b[0m in \u001b[0;36m__init__\u001b[1;34m(self, batch)\u001b[0m\n\u001b[0;32m    570\u001b[0m         \u001b[1;31m# Don't delay the application, to avoid keeping the input\u001b[0m\u001b[1;33m\u001b[0m\u001b[1;33m\u001b[0m\u001b[1;33m\u001b[0m\u001b[0m\n\u001b[0;32m    571\u001b[0m         \u001b[1;31m# arguments in memory\u001b[0m\u001b[1;33m\u001b[0m\u001b[1;33m\u001b[0m\u001b[1;33m\u001b[0m\u001b[0m\n\u001b[1;32m--> 572\u001b[1;33m         \u001b[0mself\u001b[0m\u001b[1;33m.\u001b[0m\u001b[0mresults\u001b[0m \u001b[1;33m=\u001b[0m \u001b[0mbatch\u001b[0m\u001b[1;33m(\u001b[0m\u001b[1;33m)\u001b[0m\u001b[1;33m\u001b[0m\u001b[1;33m\u001b[0m\u001b[0m\n\u001b[0m\u001b[0;32m    573\u001b[0m \u001b[1;33m\u001b[0m\u001b[0m\n\u001b[0;32m    574\u001b[0m     \u001b[1;32mdef\u001b[0m \u001b[0mget\u001b[0m\u001b[1;33m(\u001b[0m\u001b[0mself\u001b[0m\u001b[1;33m)\u001b[0m\u001b[1;33m:\u001b[0m\u001b[1;33m\u001b[0m\u001b[1;33m\u001b[0m\u001b[0m\n",
      "\u001b[1;32m~\\anaconda3\\envs\\my-rdkit-env\\lib\\site-packages\\joblib\\parallel.py\u001b[0m in \u001b[0;36m__call__\u001b[1;34m(self)\u001b[0m\n\u001b[0;32m    261\u001b[0m         \u001b[1;32mwith\u001b[0m \u001b[0mparallel_backend\u001b[0m\u001b[1;33m(\u001b[0m\u001b[0mself\u001b[0m\u001b[1;33m.\u001b[0m\u001b[0m_backend\u001b[0m\u001b[1;33m,\u001b[0m \u001b[0mn_jobs\u001b[0m\u001b[1;33m=\u001b[0m\u001b[0mself\u001b[0m\u001b[1;33m.\u001b[0m\u001b[0m_n_jobs\u001b[0m\u001b[1;33m)\u001b[0m\u001b[1;33m:\u001b[0m\u001b[1;33m\u001b[0m\u001b[1;33m\u001b[0m\u001b[0m\n\u001b[0;32m    262\u001b[0m             return [func(*args, **kwargs)\n\u001b[1;32m--> 263\u001b[1;33m                     for func, args, kwargs in self.items]\n\u001b[0m\u001b[0;32m    264\u001b[0m \u001b[1;33m\u001b[0m\u001b[0m\n\u001b[0;32m    265\u001b[0m     \u001b[1;32mdef\u001b[0m \u001b[0m__reduce__\u001b[0m\u001b[1;33m(\u001b[0m\u001b[0mself\u001b[0m\u001b[1;33m)\u001b[0m\u001b[1;33m:\u001b[0m\u001b[1;33m\u001b[0m\u001b[1;33m\u001b[0m\u001b[0m\n",
      "\u001b[1;32m~\\anaconda3\\envs\\my-rdkit-env\\lib\\site-packages\\joblib\\parallel.py\u001b[0m in \u001b[0;36m<listcomp>\u001b[1;34m(.0)\u001b[0m\n\u001b[0;32m    261\u001b[0m         \u001b[1;32mwith\u001b[0m \u001b[0mparallel_backend\u001b[0m\u001b[1;33m(\u001b[0m\u001b[0mself\u001b[0m\u001b[1;33m.\u001b[0m\u001b[0m_backend\u001b[0m\u001b[1;33m,\u001b[0m \u001b[0mn_jobs\u001b[0m\u001b[1;33m=\u001b[0m\u001b[0mself\u001b[0m\u001b[1;33m.\u001b[0m\u001b[0m_n_jobs\u001b[0m\u001b[1;33m)\u001b[0m\u001b[1;33m:\u001b[0m\u001b[1;33m\u001b[0m\u001b[1;33m\u001b[0m\u001b[0m\n\u001b[0;32m    262\u001b[0m             return [func(*args, **kwargs)\n\u001b[1;32m--> 263\u001b[1;33m                     for func, args, kwargs in self.items]\n\u001b[0m\u001b[0;32m    264\u001b[0m \u001b[1;33m\u001b[0m\u001b[0m\n\u001b[0;32m    265\u001b[0m     \u001b[1;32mdef\u001b[0m \u001b[0m__reduce__\u001b[0m\u001b[1;33m(\u001b[0m\u001b[0mself\u001b[0m\u001b[1;33m)\u001b[0m\u001b[1;33m:\u001b[0m\u001b[1;33m\u001b[0m\u001b[1;33m\u001b[0m\u001b[0m\n",
      "\u001b[1;32m~\\anaconda3\\envs\\my-rdkit-env\\lib\\site-packages\\sklearn\\utils\\fixes.py\u001b[0m in \u001b[0;36m__call__\u001b[1;34m(self, *args, **kwargs)\u001b[0m\n\u001b[0;32m    220\u001b[0m     \u001b[1;32mdef\u001b[0m \u001b[0m__call__\u001b[0m\u001b[1;33m(\u001b[0m\u001b[0mself\u001b[0m\u001b[1;33m,\u001b[0m \u001b[1;33m*\u001b[0m\u001b[0margs\u001b[0m\u001b[1;33m,\u001b[0m \u001b[1;33m**\u001b[0m\u001b[0mkwargs\u001b[0m\u001b[1;33m)\u001b[0m\u001b[1;33m:\u001b[0m\u001b[1;33m\u001b[0m\u001b[1;33m\u001b[0m\u001b[0m\n\u001b[0;32m    221\u001b[0m         \u001b[1;32mwith\u001b[0m \u001b[0mconfig_context\u001b[0m\u001b[1;33m(\u001b[0m\u001b[1;33m**\u001b[0m\u001b[0mself\u001b[0m\u001b[1;33m.\u001b[0m\u001b[0mconfig\u001b[0m\u001b[1;33m)\u001b[0m\u001b[1;33m:\u001b[0m\u001b[1;33m\u001b[0m\u001b[1;33m\u001b[0m\u001b[0m\n\u001b[1;32m--> 222\u001b[1;33m             \u001b[1;32mreturn\u001b[0m \u001b[0mself\u001b[0m\u001b[1;33m.\u001b[0m\u001b[0mfunction\u001b[0m\u001b[1;33m(\u001b[0m\u001b[1;33m*\u001b[0m\u001b[0margs\u001b[0m\u001b[1;33m,\u001b[0m \u001b[1;33m**\u001b[0m\u001b[0mkwargs\u001b[0m\u001b[1;33m)\u001b[0m\u001b[1;33m\u001b[0m\u001b[1;33m\u001b[0m\u001b[0m\n\u001b[0m",
      "\u001b[1;32m~\\anaconda3\\envs\\my-rdkit-env\\lib\\site-packages\\sklearn\\model_selection\\_validation.py\u001b[0m in \u001b[0;36m_fit_and_score\u001b[1;34m(estimator, X, y, scorer, train, test, verbose, parameters, fit_params, return_train_score, return_parameters, return_n_test_samples, return_times, return_estimator, split_progress, candidate_progress, error_score)\u001b[0m\n\u001b[0;32m    623\u001b[0m \u001b[1;33m\u001b[0m\u001b[0m\n\u001b[0;32m    624\u001b[0m         \u001b[0mfit_time\u001b[0m \u001b[1;33m=\u001b[0m \u001b[0mtime\u001b[0m\u001b[1;33m.\u001b[0m\u001b[0mtime\u001b[0m\u001b[1;33m(\u001b[0m\u001b[1;33m)\u001b[0m \u001b[1;33m-\u001b[0m \u001b[0mstart_time\u001b[0m\u001b[1;33m\u001b[0m\u001b[1;33m\u001b[0m\u001b[0m\n\u001b[1;32m--> 625\u001b[1;33m         \u001b[0mtest_scores\u001b[0m \u001b[1;33m=\u001b[0m \u001b[0m_score\u001b[0m\u001b[1;33m(\u001b[0m\u001b[0mestimator\u001b[0m\u001b[1;33m,\u001b[0m \u001b[0mX_test\u001b[0m\u001b[1;33m,\u001b[0m \u001b[0my_test\u001b[0m\u001b[1;33m,\u001b[0m \u001b[0mscorer\u001b[0m\u001b[1;33m,\u001b[0m \u001b[0merror_score\u001b[0m\u001b[1;33m)\u001b[0m\u001b[1;33m\u001b[0m\u001b[1;33m\u001b[0m\u001b[0m\n\u001b[0m\u001b[0;32m    626\u001b[0m         \u001b[0mscore_time\u001b[0m \u001b[1;33m=\u001b[0m \u001b[0mtime\u001b[0m\u001b[1;33m.\u001b[0m\u001b[0mtime\u001b[0m\u001b[1;33m(\u001b[0m\u001b[1;33m)\u001b[0m \u001b[1;33m-\u001b[0m \u001b[0mstart_time\u001b[0m \u001b[1;33m-\u001b[0m \u001b[0mfit_time\u001b[0m\u001b[1;33m\u001b[0m\u001b[1;33m\u001b[0m\u001b[0m\n\u001b[0;32m    627\u001b[0m         \u001b[1;32mif\u001b[0m \u001b[0mreturn_train_score\u001b[0m\u001b[1;33m:\u001b[0m\u001b[1;33m\u001b[0m\u001b[1;33m\u001b[0m\u001b[0m\n",
      "\u001b[1;32m~\\anaconda3\\envs\\my-rdkit-env\\lib\\site-packages\\sklearn\\model_selection\\_validation.py\u001b[0m in \u001b[0;36m_score\u001b[1;34m(estimator, X_test, y_test, scorer, error_score)\u001b[0m\n\u001b[0;32m    685\u001b[0m             \u001b[0mscores\u001b[0m \u001b[1;33m=\u001b[0m \u001b[0mscorer\u001b[0m\u001b[1;33m(\u001b[0m\u001b[0mestimator\u001b[0m\u001b[1;33m,\u001b[0m \u001b[0mX_test\u001b[0m\u001b[1;33m)\u001b[0m\u001b[1;33m\u001b[0m\u001b[1;33m\u001b[0m\u001b[0m\n\u001b[0;32m    686\u001b[0m         \u001b[1;32melse\u001b[0m\u001b[1;33m:\u001b[0m\u001b[1;33m\u001b[0m\u001b[1;33m\u001b[0m\u001b[0m\n\u001b[1;32m--> 687\u001b[1;33m             \u001b[0mscores\u001b[0m \u001b[1;33m=\u001b[0m \u001b[0mscorer\u001b[0m\u001b[1;33m(\u001b[0m\u001b[0mestimator\u001b[0m\u001b[1;33m,\u001b[0m \u001b[0mX_test\u001b[0m\u001b[1;33m,\u001b[0m \u001b[0my_test\u001b[0m\u001b[1;33m)\u001b[0m\u001b[1;33m\u001b[0m\u001b[1;33m\u001b[0m\u001b[0m\n\u001b[0m\u001b[0;32m    688\u001b[0m     \u001b[1;32mexcept\u001b[0m \u001b[0mException\u001b[0m\u001b[1;33m:\u001b[0m\u001b[1;33m\u001b[0m\u001b[1;33m\u001b[0m\u001b[0m\n\u001b[0;32m    689\u001b[0m         \u001b[1;32mif\u001b[0m \u001b[0merror_score\u001b[0m \u001b[1;33m==\u001b[0m \u001b[1;34m'raise'\u001b[0m\u001b[1;33m:\u001b[0m\u001b[1;33m\u001b[0m\u001b[1;33m\u001b[0m\u001b[0m\n",
      "\u001b[1;32m~\\anaconda3\\envs\\my-rdkit-env\\lib\\site-packages\\sklearn\\metrics\\_scorer.py\u001b[0m in \u001b[0;36m__call__\u001b[1;34m(self, estimator, *args, **kwargs)\u001b[0m\n\u001b[0;32m     86\u001b[0m             \u001b[1;32mif\u001b[0m \u001b[0misinstance\u001b[0m\u001b[1;33m(\u001b[0m\u001b[0mscorer\u001b[0m\u001b[1;33m,\u001b[0m \u001b[0m_BaseScorer\u001b[0m\u001b[1;33m)\u001b[0m\u001b[1;33m:\u001b[0m\u001b[1;33m\u001b[0m\u001b[1;33m\u001b[0m\u001b[0m\n\u001b[0;32m     87\u001b[0m                 score = scorer._score(cached_call, estimator,\n\u001b[1;32m---> 88\u001b[1;33m                                       *args, **kwargs)\n\u001b[0m\u001b[0;32m     89\u001b[0m             \u001b[1;32melse\u001b[0m\u001b[1;33m:\u001b[0m\u001b[1;33m\u001b[0m\u001b[1;33m\u001b[0m\u001b[0m\n\u001b[0;32m     90\u001b[0m                 \u001b[0mscore\u001b[0m \u001b[1;33m=\u001b[0m \u001b[0mscorer\u001b[0m\u001b[1;33m(\u001b[0m\u001b[0mestimator\u001b[0m\u001b[1;33m,\u001b[0m \u001b[1;33m*\u001b[0m\u001b[0margs\u001b[0m\u001b[1;33m,\u001b[0m \u001b[1;33m**\u001b[0m\u001b[0mkwargs\u001b[0m\u001b[1;33m)\u001b[0m\u001b[1;33m\u001b[0m\u001b[1;33m\u001b[0m\u001b[0m\n",
      "\u001b[1;32m~\\anaconda3\\envs\\my-rdkit-env\\lib\\site-packages\\sklearn\\metrics\\_scorer.py\u001b[0m in \u001b[0;36m_score\u001b[1;34m(self, method_caller, estimator, X, y_true, sample_weight)\u001b[0m\n\u001b[0;32m    234\u001b[0m         \"\"\"\n\u001b[0;32m    235\u001b[0m \u001b[1;33m\u001b[0m\u001b[0m\n\u001b[1;32m--> 236\u001b[1;33m         \u001b[0my_pred\u001b[0m \u001b[1;33m=\u001b[0m \u001b[0mmethod_caller\u001b[0m\u001b[1;33m(\u001b[0m\u001b[0mestimator\u001b[0m\u001b[1;33m,\u001b[0m \u001b[1;34m\"predict\"\u001b[0m\u001b[1;33m,\u001b[0m \u001b[0mX\u001b[0m\u001b[1;33m)\u001b[0m\u001b[1;33m\u001b[0m\u001b[1;33m\u001b[0m\u001b[0m\n\u001b[0m\u001b[0;32m    237\u001b[0m         \u001b[1;32mif\u001b[0m \u001b[0msample_weight\u001b[0m \u001b[1;32mis\u001b[0m \u001b[1;32mnot\u001b[0m \u001b[1;32mNone\u001b[0m\u001b[1;33m:\u001b[0m\u001b[1;33m\u001b[0m\u001b[1;33m\u001b[0m\u001b[0m\n\u001b[0;32m    238\u001b[0m             return self._sign * self._score_func(y_true, y_pred,\n",
      "\u001b[1;32m~\\anaconda3\\envs\\my-rdkit-env\\lib\\site-packages\\sklearn\\metrics\\_scorer.py\u001b[0m in \u001b[0;36m_cached_call\u001b[1;34m(cache, estimator, method, *args, **kwargs)\u001b[0m\n\u001b[0;32m     51\u001b[0m     \u001b[1;34m\"\"\"Call estimator with method and args and kwargs.\"\"\"\u001b[0m\u001b[1;33m\u001b[0m\u001b[1;33m\u001b[0m\u001b[0m\n\u001b[0;32m     52\u001b[0m     \u001b[1;32mif\u001b[0m \u001b[0mcache\u001b[0m \u001b[1;32mis\u001b[0m \u001b[1;32mNone\u001b[0m\u001b[1;33m:\u001b[0m\u001b[1;33m\u001b[0m\u001b[1;33m\u001b[0m\u001b[0m\n\u001b[1;32m---> 53\u001b[1;33m         \u001b[1;32mreturn\u001b[0m \u001b[0mgetattr\u001b[0m\u001b[1;33m(\u001b[0m\u001b[0mestimator\u001b[0m\u001b[1;33m,\u001b[0m \u001b[0mmethod\u001b[0m\u001b[1;33m)\u001b[0m\u001b[1;33m(\u001b[0m\u001b[1;33m*\u001b[0m\u001b[0margs\u001b[0m\u001b[1;33m,\u001b[0m \u001b[1;33m**\u001b[0m\u001b[0mkwargs\u001b[0m\u001b[1;33m)\u001b[0m\u001b[1;33m\u001b[0m\u001b[1;33m\u001b[0m\u001b[0m\n\u001b[0m\u001b[0;32m     54\u001b[0m \u001b[1;33m\u001b[0m\u001b[0m\n\u001b[0;32m     55\u001b[0m     \u001b[1;32mtry\u001b[0m\u001b[1;33m:\u001b[0m\u001b[1;33m\u001b[0m\u001b[1;33m\u001b[0m\u001b[0m\n",
      "\u001b[1;32m~\\anaconda3\\envs\\my-rdkit-env\\lib\\site-packages\\sklearn\\linear_model\\_base.py\u001b[0m in \u001b[0;36mpredict\u001b[1;34m(self, X)\u001b[0m\n\u001b[0;32m    307\u001b[0m             \u001b[0mPredicted\u001b[0m \u001b[1;32mclass\u001b[0m \u001b[0mlabel\u001b[0m \u001b[0mper\u001b[0m \u001b[0msample\u001b[0m\u001b[1;33m.\u001b[0m\u001b[1;33m\u001b[0m\u001b[1;33m\u001b[0m\u001b[0m\n\u001b[0;32m    308\u001b[0m         \"\"\"\n\u001b[1;32m--> 309\u001b[1;33m         \u001b[0mscores\u001b[0m \u001b[1;33m=\u001b[0m \u001b[0mself\u001b[0m\u001b[1;33m.\u001b[0m\u001b[0mdecision_function\u001b[0m\u001b[1;33m(\u001b[0m\u001b[0mX\u001b[0m\u001b[1;33m)\u001b[0m\u001b[1;33m\u001b[0m\u001b[1;33m\u001b[0m\u001b[0m\n\u001b[0m\u001b[0;32m    310\u001b[0m         \u001b[1;32mif\u001b[0m \u001b[0mlen\u001b[0m\u001b[1;33m(\u001b[0m\u001b[0mscores\u001b[0m\u001b[1;33m.\u001b[0m\u001b[0mshape\u001b[0m\u001b[1;33m)\u001b[0m \u001b[1;33m==\u001b[0m \u001b[1;36m1\u001b[0m\u001b[1;33m:\u001b[0m\u001b[1;33m\u001b[0m\u001b[1;33m\u001b[0m\u001b[0m\n\u001b[0;32m    311\u001b[0m             \u001b[0mindices\u001b[0m \u001b[1;33m=\u001b[0m \u001b[1;33m(\u001b[0m\u001b[0mscores\u001b[0m \u001b[1;33m>\u001b[0m \u001b[1;36m0\u001b[0m\u001b[1;33m)\u001b[0m\u001b[1;33m.\u001b[0m\u001b[0mastype\u001b[0m\u001b[1;33m(\u001b[0m\u001b[0mint\u001b[0m\u001b[1;33m)\u001b[0m\u001b[1;33m\u001b[0m\u001b[1;33m\u001b[0m\u001b[0m\n",
      "\u001b[1;32m~\\anaconda3\\envs\\my-rdkit-env\\lib\\site-packages\\sklearn\\linear_model\\_base.py\u001b[0m in \u001b[0;36mdecision_function\u001b[1;34m(self, X)\u001b[0m\n\u001b[0;32m    282\u001b[0m         \u001b[0mcheck_is_fitted\u001b[0m\u001b[1;33m(\u001b[0m\u001b[0mself\u001b[0m\u001b[1;33m)\u001b[0m\u001b[1;33m\u001b[0m\u001b[1;33m\u001b[0m\u001b[0m\n\u001b[0;32m    283\u001b[0m \u001b[1;33m\u001b[0m\u001b[0m\n\u001b[1;32m--> 284\u001b[1;33m         \u001b[0mX\u001b[0m \u001b[1;33m=\u001b[0m \u001b[0mcheck_array\u001b[0m\u001b[1;33m(\u001b[0m\u001b[0mX\u001b[0m\u001b[1;33m,\u001b[0m \u001b[0maccept_sparse\u001b[0m\u001b[1;33m=\u001b[0m\u001b[1;34m'csr'\u001b[0m\u001b[1;33m)\u001b[0m\u001b[1;33m\u001b[0m\u001b[1;33m\u001b[0m\u001b[0m\n\u001b[0m\u001b[0;32m    285\u001b[0m \u001b[1;33m\u001b[0m\u001b[0m\n\u001b[0;32m    286\u001b[0m         \u001b[0mn_features\u001b[0m \u001b[1;33m=\u001b[0m \u001b[0mself\u001b[0m\u001b[1;33m.\u001b[0m\u001b[0mcoef_\u001b[0m\u001b[1;33m.\u001b[0m\u001b[0mshape\u001b[0m\u001b[1;33m[\u001b[0m\u001b[1;36m1\u001b[0m\u001b[1;33m]\u001b[0m\u001b[1;33m\u001b[0m\u001b[1;33m\u001b[0m\u001b[0m\n",
      "\u001b[1;32m~\\anaconda3\\envs\\my-rdkit-env\\lib\\site-packages\\sklearn\\utils\\validation.py\u001b[0m in \u001b[0;36minner_f\u001b[1;34m(*args, **kwargs)\u001b[0m\n\u001b[0;32m     61\u001b[0m             \u001b[0mextra_args\u001b[0m \u001b[1;33m=\u001b[0m \u001b[0mlen\u001b[0m\u001b[1;33m(\u001b[0m\u001b[0margs\u001b[0m\u001b[1;33m)\u001b[0m \u001b[1;33m-\u001b[0m \u001b[0mlen\u001b[0m\u001b[1;33m(\u001b[0m\u001b[0mall_args\u001b[0m\u001b[1;33m)\u001b[0m\u001b[1;33m\u001b[0m\u001b[1;33m\u001b[0m\u001b[0m\n\u001b[0;32m     62\u001b[0m             \u001b[1;32mif\u001b[0m \u001b[0mextra_args\u001b[0m \u001b[1;33m<=\u001b[0m \u001b[1;36m0\u001b[0m\u001b[1;33m:\u001b[0m\u001b[1;33m\u001b[0m\u001b[1;33m\u001b[0m\u001b[0m\n\u001b[1;32m---> 63\u001b[1;33m                 \u001b[1;32mreturn\u001b[0m \u001b[0mf\u001b[0m\u001b[1;33m(\u001b[0m\u001b[1;33m*\u001b[0m\u001b[0margs\u001b[0m\u001b[1;33m,\u001b[0m \u001b[1;33m**\u001b[0m\u001b[0mkwargs\u001b[0m\u001b[1;33m)\u001b[0m\u001b[1;33m\u001b[0m\u001b[1;33m\u001b[0m\u001b[0m\n\u001b[0m\u001b[0;32m     64\u001b[0m \u001b[1;33m\u001b[0m\u001b[0m\n\u001b[0;32m     65\u001b[0m             \u001b[1;31m# extra_args > 0\u001b[0m\u001b[1;33m\u001b[0m\u001b[1;33m\u001b[0m\u001b[1;33m\u001b[0m\u001b[0m\n",
      "\u001b[1;32m~\\anaconda3\\envs\\my-rdkit-env\\lib\\site-packages\\sklearn\\utils\\validation.py\u001b[0m in \u001b[0;36mcheck_array\u001b[1;34m(array, accept_sparse, accept_large_sparse, dtype, order, copy, force_all_finite, ensure_2d, allow_nd, ensure_min_samples, ensure_min_features, estimator)\u001b[0m\n\u001b[0;32m    671\u001b[0m                     \u001b[0marray\u001b[0m \u001b[1;33m=\u001b[0m \u001b[0marray\u001b[0m\u001b[1;33m.\u001b[0m\u001b[0mastype\u001b[0m\u001b[1;33m(\u001b[0m\u001b[0mdtype\u001b[0m\u001b[1;33m,\u001b[0m \u001b[0mcasting\u001b[0m\u001b[1;33m=\u001b[0m\u001b[1;34m\"unsafe\"\u001b[0m\u001b[1;33m,\u001b[0m \u001b[0mcopy\u001b[0m\u001b[1;33m=\u001b[0m\u001b[1;32mFalse\u001b[0m\u001b[1;33m)\u001b[0m\u001b[1;33m\u001b[0m\u001b[1;33m\u001b[0m\u001b[0m\n\u001b[0;32m    672\u001b[0m                 \u001b[1;32melse\u001b[0m\u001b[1;33m:\u001b[0m\u001b[1;33m\u001b[0m\u001b[1;33m\u001b[0m\u001b[0m\n\u001b[1;32m--> 673\u001b[1;33m                     \u001b[0marray\u001b[0m \u001b[1;33m=\u001b[0m \u001b[0mnp\u001b[0m\u001b[1;33m.\u001b[0m\u001b[0masarray\u001b[0m\u001b[1;33m(\u001b[0m\u001b[0marray\u001b[0m\u001b[1;33m,\u001b[0m \u001b[0morder\u001b[0m\u001b[1;33m=\u001b[0m\u001b[0morder\u001b[0m\u001b[1;33m,\u001b[0m \u001b[0mdtype\u001b[0m\u001b[1;33m=\u001b[0m\u001b[0mdtype\u001b[0m\u001b[1;33m)\u001b[0m\u001b[1;33m\u001b[0m\u001b[1;33m\u001b[0m\u001b[0m\n\u001b[0m\u001b[0;32m    674\u001b[0m             \u001b[1;32mexcept\u001b[0m \u001b[0mComplexWarning\u001b[0m \u001b[1;32mas\u001b[0m \u001b[0mcomplex_warning\u001b[0m\u001b[1;33m:\u001b[0m\u001b[1;33m\u001b[0m\u001b[1;33m\u001b[0m\u001b[0m\n\u001b[0;32m    675\u001b[0m                 raise ValueError(\"Complex data not supported\\n\"\n",
      "\u001b[1;32m~\\anaconda3\\envs\\my-rdkit-env\\lib\\site-packages\\numpy\\core\\_asarray.py\u001b[0m in \u001b[0;36masarray\u001b[1;34m(a, dtype, order, like)\u001b[0m\n\u001b[0;32m    100\u001b[0m         \u001b[1;32mreturn\u001b[0m \u001b[0m_asarray_with_like\u001b[0m\u001b[1;33m(\u001b[0m\u001b[0ma\u001b[0m\u001b[1;33m,\u001b[0m \u001b[0mdtype\u001b[0m\u001b[1;33m=\u001b[0m\u001b[0mdtype\u001b[0m\u001b[1;33m,\u001b[0m \u001b[0morder\u001b[0m\u001b[1;33m=\u001b[0m\u001b[0morder\u001b[0m\u001b[1;33m,\u001b[0m \u001b[0mlike\u001b[0m\u001b[1;33m=\u001b[0m\u001b[0mlike\u001b[0m\u001b[1;33m)\u001b[0m\u001b[1;33m\u001b[0m\u001b[1;33m\u001b[0m\u001b[0m\n\u001b[0;32m    101\u001b[0m \u001b[1;33m\u001b[0m\u001b[0m\n\u001b[1;32m--> 102\u001b[1;33m     \u001b[1;32mreturn\u001b[0m \u001b[0marray\u001b[0m\u001b[1;33m(\u001b[0m\u001b[0ma\u001b[0m\u001b[1;33m,\u001b[0m \u001b[0mdtype\u001b[0m\u001b[1;33m,\u001b[0m \u001b[0mcopy\u001b[0m\u001b[1;33m=\u001b[0m\u001b[1;32mFalse\u001b[0m\u001b[1;33m,\u001b[0m \u001b[0morder\u001b[0m\u001b[1;33m=\u001b[0m\u001b[0morder\u001b[0m\u001b[1;33m)\u001b[0m\u001b[1;33m\u001b[0m\u001b[1;33m\u001b[0m\u001b[0m\n\u001b[0m\u001b[0;32m    103\u001b[0m \u001b[1;33m\u001b[0m\u001b[0m\n\u001b[0;32m    104\u001b[0m \u001b[1;33m\u001b[0m\u001b[0m\n",
      "\u001b[1;32m~\\anaconda3\\envs\\my-rdkit-env\\lib\\site-packages\\pandas\\core\\generic.py\u001b[0m in \u001b[0;36m__array__\u001b[1;34m(self, dtype)\u001b[0m\n\u001b[0;32m   1988\u001b[0m \u001b[1;33m\u001b[0m\u001b[0m\n\u001b[0;32m   1989\u001b[0m     \u001b[1;32mdef\u001b[0m \u001b[0m__array__\u001b[0m\u001b[1;33m(\u001b[0m\u001b[0mself\u001b[0m\u001b[1;33m,\u001b[0m \u001b[0mdtype\u001b[0m\u001b[1;33m:\u001b[0m \u001b[0mNpDtype\u001b[0m \u001b[1;33m|\u001b[0m \u001b[1;32mNone\u001b[0m \u001b[1;33m=\u001b[0m \u001b[1;32mNone\u001b[0m\u001b[1;33m)\u001b[0m \u001b[1;33m->\u001b[0m \u001b[0mnp\u001b[0m\u001b[1;33m.\u001b[0m\u001b[0mndarray\u001b[0m\u001b[1;33m:\u001b[0m\u001b[1;33m\u001b[0m\u001b[1;33m\u001b[0m\u001b[0m\n\u001b[1;32m-> 1990\u001b[1;33m         \u001b[1;32mreturn\u001b[0m \u001b[0mnp\u001b[0m\u001b[1;33m.\u001b[0m\u001b[0masarray\u001b[0m\u001b[1;33m(\u001b[0m\u001b[0mself\u001b[0m\u001b[1;33m.\u001b[0m\u001b[0m_values\u001b[0m\u001b[1;33m,\u001b[0m \u001b[0mdtype\u001b[0m\u001b[1;33m=\u001b[0m\u001b[0mdtype\u001b[0m\u001b[1;33m)\u001b[0m\u001b[1;33m\u001b[0m\u001b[1;33m\u001b[0m\u001b[0m\n\u001b[0m\u001b[0;32m   1991\u001b[0m \u001b[1;33m\u001b[0m\u001b[0m\n\u001b[0;32m   1992\u001b[0m     def __array_wrap__(\n",
      "\u001b[1;32m~\\anaconda3\\envs\\my-rdkit-env\\lib\\site-packages\\pandas\\core\\frame.py\u001b[0m in \u001b[0;36m_values\u001b[1;34m(self)\u001b[0m\n\u001b[0;32m    892\u001b[0m         \u001b[0mblocks\u001b[0m \u001b[1;33m=\u001b[0m \u001b[0mmgr\u001b[0m\u001b[1;33m.\u001b[0m\u001b[0mblocks\u001b[0m\u001b[1;33m\u001b[0m\u001b[1;33m\u001b[0m\u001b[0m\n\u001b[0;32m    893\u001b[0m         \u001b[1;32mif\u001b[0m \u001b[0mlen\u001b[0m\u001b[1;33m(\u001b[0m\u001b[0mblocks\u001b[0m\u001b[1;33m)\u001b[0m \u001b[1;33m!=\u001b[0m \u001b[1;36m1\u001b[0m\u001b[1;33m:\u001b[0m\u001b[1;33m\u001b[0m\u001b[1;33m\u001b[0m\u001b[0m\n\u001b[1;32m--> 894\u001b[1;33m             \u001b[1;32mreturn\u001b[0m \u001b[0mself\u001b[0m\u001b[1;33m.\u001b[0m\u001b[0mvalues\u001b[0m\u001b[1;33m\u001b[0m\u001b[1;33m\u001b[0m\u001b[0m\n\u001b[0m\u001b[0;32m    895\u001b[0m \u001b[1;33m\u001b[0m\u001b[0m\n\u001b[0;32m    896\u001b[0m         \u001b[0marr\u001b[0m \u001b[1;33m=\u001b[0m \u001b[0mblocks\u001b[0m\u001b[1;33m[\u001b[0m\u001b[1;36m0\u001b[0m\u001b[1;33m]\u001b[0m\u001b[1;33m.\u001b[0m\u001b[0mvalues\u001b[0m\u001b[1;33m\u001b[0m\u001b[1;33m\u001b[0m\u001b[0m\n",
      "\u001b[1;32m~\\anaconda3\\envs\\my-rdkit-env\\lib\\site-packages\\pandas\\core\\frame.py\u001b[0m in \u001b[0;36mvalues\u001b[1;34m(self)\u001b[0m\n\u001b[0;32m  10659\u001b[0m         \"\"\"\n\u001b[0;32m  10660\u001b[0m         \u001b[0mself\u001b[0m\u001b[1;33m.\u001b[0m\u001b[0m_consolidate_inplace\u001b[0m\u001b[1;33m(\u001b[0m\u001b[1;33m)\u001b[0m\u001b[1;33m\u001b[0m\u001b[1;33m\u001b[0m\u001b[0m\n\u001b[1;32m> 10661\u001b[1;33m         \u001b[1;32mreturn\u001b[0m \u001b[0mself\u001b[0m\u001b[1;33m.\u001b[0m\u001b[0m_mgr\u001b[0m\u001b[1;33m.\u001b[0m\u001b[0mas_array\u001b[0m\u001b[1;33m(\u001b[0m\u001b[0mtranspose\u001b[0m\u001b[1;33m=\u001b[0m\u001b[1;32mTrue\u001b[0m\u001b[1;33m)\u001b[0m\u001b[1;33m\u001b[0m\u001b[1;33m\u001b[0m\u001b[0m\n\u001b[0m\u001b[0;32m  10662\u001b[0m \u001b[1;33m\u001b[0m\u001b[0m\n\u001b[0;32m  10663\u001b[0m     \u001b[1;33m@\u001b[0m\u001b[0mdeprecate_nonkeyword_arguments\u001b[0m\u001b[1;33m(\u001b[0m\u001b[0mversion\u001b[0m\u001b[1;33m=\u001b[0m\u001b[1;32mNone\u001b[0m\u001b[1;33m,\u001b[0m \u001b[0mallowed_args\u001b[0m\u001b[1;33m=\u001b[0m\u001b[1;33m[\u001b[0m\u001b[1;34m\"self\"\u001b[0m\u001b[1;33m]\u001b[0m\u001b[1;33m)\u001b[0m\u001b[1;33m\u001b[0m\u001b[1;33m\u001b[0m\u001b[0m\n",
      "\u001b[1;32m~\\anaconda3\\envs\\my-rdkit-env\\lib\\site-packages\\pandas\\core\\internals\\managers.py\u001b[0m in \u001b[0;36mas_array\u001b[1;34m(self, transpose, dtype, copy, na_value)\u001b[0m\n\u001b[0;32m   1457\u001b[0m                     \u001b[0marr\u001b[0m \u001b[1;33m=\u001b[0m \u001b[0marr\u001b[0m\u001b[1;33m.\u001b[0m\u001b[0mastype\u001b[0m\u001b[1;33m(\u001b[0m\u001b[0mdtype\u001b[0m\u001b[1;33m,\u001b[0m \u001b[0mcopy\u001b[0m\u001b[1;33m=\u001b[0m\u001b[1;32mFalse\u001b[0m\u001b[1;33m)\u001b[0m  \u001b[1;31m# type: ignore[arg-type]\u001b[0m\u001b[1;33m\u001b[0m\u001b[1;33m\u001b[0m\u001b[0m\n\u001b[0;32m   1458\u001b[0m         \u001b[1;32melse\u001b[0m\u001b[1;33m:\u001b[0m\u001b[1;33m\u001b[0m\u001b[1;33m\u001b[0m\u001b[0m\n\u001b[1;32m-> 1459\u001b[1;33m             \u001b[0marr\u001b[0m \u001b[1;33m=\u001b[0m \u001b[0mself\u001b[0m\u001b[1;33m.\u001b[0m\u001b[0m_interleave\u001b[0m\u001b[1;33m(\u001b[0m\u001b[0mdtype\u001b[0m\u001b[1;33m=\u001b[0m\u001b[0mdtype\u001b[0m\u001b[1;33m,\u001b[0m \u001b[0mna_value\u001b[0m\u001b[1;33m=\u001b[0m\u001b[0mna_value\u001b[0m\u001b[1;33m)\u001b[0m\u001b[1;33m\u001b[0m\u001b[1;33m\u001b[0m\u001b[0m\n\u001b[0m\u001b[0;32m   1460\u001b[0m             \u001b[1;31m# The underlying data was copied within _interleave\u001b[0m\u001b[1;33m\u001b[0m\u001b[1;33m\u001b[0m\u001b[1;33m\u001b[0m\u001b[0m\n\u001b[0;32m   1461\u001b[0m             \u001b[0mcopy\u001b[0m \u001b[1;33m=\u001b[0m \u001b[1;32mFalse\u001b[0m\u001b[1;33m\u001b[0m\u001b[1;33m\u001b[0m\u001b[0m\n",
      "\u001b[1;32m~\\anaconda3\\envs\\my-rdkit-env\\lib\\site-packages\\pandas\\core\\internals\\managers.py\u001b[0m in \u001b[0;36m_interleave\u001b[1;34m(self, dtype, na_value)\u001b[0m\n\u001b[0;32m   1512\u001b[0m                 \u001b[1;31m# \"Union[dtype[Any], ExtensionDtype, None]\"\u001b[0m\u001b[1;33m\u001b[0m\u001b[1;33m\u001b[0m\u001b[1;33m\u001b[0m\u001b[0m\n\u001b[0;32m   1513\u001b[0m                 \u001b[0marr\u001b[0m \u001b[1;33m=\u001b[0m \u001b[0mblk\u001b[0m\u001b[1;33m.\u001b[0m\u001b[0mget_values\u001b[0m\u001b[1;33m(\u001b[0m\u001b[0mdtype\u001b[0m\u001b[1;33m)\u001b[0m  \u001b[1;31m# type: ignore[arg-type]\u001b[0m\u001b[1;33m\u001b[0m\u001b[1;33m\u001b[0m\u001b[0m\n\u001b[1;32m-> 1514\u001b[1;33m             \u001b[0mresult\u001b[0m\u001b[1;33m[\u001b[0m\u001b[0mrl\u001b[0m\u001b[1;33m.\u001b[0m\u001b[0mindexer\u001b[0m\u001b[1;33m]\u001b[0m \u001b[1;33m=\u001b[0m \u001b[0marr\u001b[0m\u001b[1;33m\u001b[0m\u001b[1;33m\u001b[0m\u001b[0m\n\u001b[0m\u001b[0;32m   1515\u001b[0m             \u001b[0mitemmask\u001b[0m\u001b[1;33m[\u001b[0m\u001b[0mrl\u001b[0m\u001b[1;33m.\u001b[0m\u001b[0mindexer\u001b[0m\u001b[1;33m]\u001b[0m \u001b[1;33m=\u001b[0m \u001b[1;36m1\u001b[0m\u001b[1;33m\u001b[0m\u001b[1;33m\u001b[0m\u001b[0m\n\u001b[0;32m   1516\u001b[0m \u001b[1;33m\u001b[0m\u001b[0m\n",
      "\u001b[1;31mKeyboardInterrupt\u001b[0m: "
     ]
    }
   ],
   "source": [
    "model = LogisticRegression()\n",
    "metrics(model, X, y)"
   ]
  },
  {
   "cell_type": "code",
   "execution_count": 52,
   "id": "70a16820",
   "metadata": {},
   "outputs": [
    {
     "name": "stdout",
     "output_type": "stream",
     "text": [
      "Accuracy : \t\t0.7147306897767924\n",
      "Precision : \t\t0.7215341753193683\n",
      "Recall : \t\t0.7755433119069484\n",
      "F1 : \t\t\t0.7473243393455593\n",
      "Balanced Accuracy : \t0.7087856539049935\n"
     ]
    }
   ],
   "source": [
    "model = LGBMClassifier()\n",
    "metrics(model, X, y)"
   ]
  },
  {
   "cell_type": "code",
   "execution_count": 53,
   "id": "654b311f",
   "metadata": {},
   "outputs": [
    {
     "name": "stdout",
     "output_type": "stream",
     "text": [
      "Accuracy : \t\t0.720114878822996\n",
      "Precision : \t\t0.7209510958650718\n",
      "Recall : \t\t0.7977927422371867\n",
      "F1 : \t\t\t0.755091948726458\n",
      "Balanced Accuracy : \t0.7152715019391342\n"
     ]
    }
   ],
   "source": [
    "model = RandomForestClassifier()\n",
    "metrics(model, X, y)"
   ]
  },
  {
   "cell_type": "code",
   "execution_count": 54,
   "id": "f4015572",
   "metadata": {},
   "outputs": [
    {
     "name": "stdout",
     "output_type": "stream",
     "text": [
      "Accuracy : \t\t0.6235410893334006\n",
      "Precision : \t\t0.6419842223461327\n",
      "Recall : \t\t0.697993402033806\n",
      "F1 : \t\t\t0.6685925026878486\n",
      "Balanced Accuracy : \t0.616245396329784\n"
     ]
    }
   ],
   "source": [
    "model = KNeighborsClassifier()\n",
    "metrics(model, X, y)"
   ]
  },
  {
   "cell_type": "code",
   "execution_count": 55,
   "id": "31261af2",
   "metadata": {},
   "outputs": [
    {
     "name": "stdout",
     "output_type": "stream",
     "text": [
      "Accuracy : \t\t0.5539063838363479\n",
      "Precision : \t\t0.5501054867420543\n",
      "Recall : \t\t0.9917457402305887\n",
      "F1 : \t\t\t0.7076732374783331\n",
      "Balanced Accuracy : \t0.511158438080958\n"
     ]
    }
   ],
   "source": [
    "model = SVC()\n",
    "metrics(model, X, y)"
   ]
  },
  {
   "cell_type": "markdown",
   "id": "224b34d0",
   "metadata": {},
   "source": [
    "## Normalization - MinMaxScaling"
   ]
  },
  {
   "cell_type": "code",
   "execution_count": 63,
   "id": "0726e5db",
   "metadata": {},
   "outputs": [],
   "source": [
    "X_scaled = minMax(X)"
   ]
  },
  {
   "cell_type": "code",
   "execution_count": 64,
   "id": "839292bb",
   "metadata": {},
   "outputs": [
    {
     "name": "stdout",
     "output_type": "stream",
     "text": [
      "Accuracy : \t\t0.6769960195495541\n",
      "Precision : \t\t0.6978907497754492\n",
      "Recall : \t\t0.7177941026425875\n",
      "F1 : \t\t\t0.7075385084025919\n",
      "Balanced Accuracy : \t0.673004742878627\n"
     ]
    }
   ],
   "source": [
    "model = LogisticRegression()\n",
    "metrics(model, X_scaled, y)"
   ]
  },
  {
   "cell_type": "code",
   "execution_count": 65,
   "id": "bb4bedd9",
   "metadata": {},
   "outputs": [
    {
     "name": "stdout",
     "output_type": "stream",
     "text": [
      "Accuracy : \t\t0.7079860936161636\n",
      "Precision : \t\t0.7171196461602578\n",
      "Recall : \t\t0.7656293575485494\n",
      "F1 : \t\t\t0.740173802615773\n",
      "Balanced Accuracy : \t0.7023581602160149\n"
     ]
    }
   ],
   "source": [
    "model = LGBMClassifier()\n",
    "metrics(model, X_scaled, y)"
   ]
  },
  {
   "cell_type": "code",
   "execution_count": 66,
   "id": "43f969ef",
   "metadata": {},
   "outputs": [
    {
     "name": "stdout",
     "output_type": "stream",
     "text": [
      "Accuracy : \t\t0.7183181337229808\n",
      "Precision : \t\t0.715075855588027\n",
      "Recall : \t\t0.7969969050777131\n",
      "F1 : \t\t\t0.7571152389692303\n",
      "Balanced Accuracy : \t0.7122300955610148\n"
     ]
    }
   ],
   "source": [
    "model = RandomForestClassifier()\n",
    "metrics(model, X_scaled, y)"
   ]
  },
  {
   "cell_type": "code",
   "execution_count": 67,
   "id": "9d5f48aa",
   "metadata": {},
   "outputs": [
    {
     "name": "stdout",
     "output_type": "stream",
     "text": [
      "Accuracy : \t\t0.6684597168337785\n",
      "Precision : \t\t0.6974564589540957\n",
      "Recall : \t\t0.6905621875318845\n",
      "F1 : \t\t\t0.6937903847270817\n",
      "Balanced Accuracy : \t0.6663219170600942\n"
     ]
    }
   ],
   "source": [
    "model = KNeighborsClassifier()\n",
    "metrics(model, X_scaled, y)"
   ]
  },
  {
   "cell_type": "code",
   "execution_count": 68,
   "id": "315470c2",
   "metadata": {},
   "outputs": [
    {
     "name": "stdout",
     "output_type": "stream",
     "text": [
      "Accuracy : \t\t0.7093475084395626\n",
      "Precision : \t\t0.6999470875907022\n",
      "Recall : \t\t0.8184641023024861\n",
      "F1 : \t\t\t0.7542714453856151\n",
      "Balanced Accuracy : \t0.698675059491486\n"
     ]
    }
   ],
   "source": [
    "model = SVC()\n",
    "metrics(model, X_scaled, y)"
   ]
  },
  {
   "cell_type": "markdown",
   "id": "ffad94f4",
   "metadata": {},
   "source": [
    "## OverSampling - SMOTE"
   ]
  },
  {
   "cell_type": "code",
   "execution_count": 78,
   "id": "26c04b7a",
   "metadata": {},
   "outputs": [],
   "source": [
    "X_over, y_over = smote(X_scaled,y)"
   ]
  },
  {
   "cell_type": "code",
   "execution_count": 79,
   "id": "9f4e9072",
   "metadata": {},
   "outputs": [
    {
     "name": "stdout",
     "output_type": "stream",
     "text": [
      "Accuracy : \t\t0.7009159069608929\n",
      "Precision : \t\t0.7103870846560374\n",
      "Recall : \t\t0.6806516341869877\n",
      "F1 : \t\t\t0.6947103447729541\n",
      "Balanced Accuracy : \t0.7008825630037752\n"
     ]
    }
   ],
   "source": [
    "model = LogisticRegression()\n",
    "metrics(model, X_over, y_over)"
   ]
  },
  {
   "cell_type": "code",
   "execution_count": 80,
   "id": "4b9ed874",
   "metadata": {},
   "outputs": [
    {
     "name": "stdout",
     "output_type": "stream",
     "text": [
      "Accuracy : \t\t0.740516315924001\n",
      "Precision : \t\t0.7385491205638128\n",
      "Recall : \t\t0.7458422609937762\n",
      "F1 : \t\t\t0.7417122815331352\n",
      "Balanced Accuracy : \t0.7404720606740809\n"
     ]
    }
   ],
   "source": [
    "model = LGBMClassifier()\n",
    "metrics(model, X_over, y_over)"
   ]
  },
  {
   "cell_type": "code",
   "execution_count": 81,
   "id": "8220fa2e",
   "metadata": {},
   "outputs": [
    {
     "name": "stdout",
     "output_type": "stream",
     "text": [
      "Accuracy : \t\t0.7446374712447815\n",
      "Precision : \t\t0.7344505435834932\n",
      "Recall : \t\t0.7664796109240555\n",
      "F1 : \t\t\t0.7573048840603654\n",
      "Balanced Accuracy : \t0.743791449852056\n"
     ]
    }
   ],
   "source": [
    "model = RandomForestClassifier()\n",
    "metrics(model, X_over, y_over)"
   ]
  },
  {
   "cell_type": "code",
   "execution_count": 86,
   "id": "4acb2f45",
   "metadata": {},
   "outputs": [
    {
     "name": "stdout",
     "output_type": "stream",
     "text": [
      "Accuracy : \t\t0.6394351197069097\n",
      "Precision : \t\t0.7170460990014569\n",
      "Recall : \t\t0.46201067918239636\n",
      "F1 : \t\t\t0.5614544668325201\n",
      "Balanced Accuracy : \t0.6394075434479475\n"
     ]
    }
   ],
   "source": [
    "model = KNeighborsClassifier()\n",
    "metrics(model, X_over, y_over)"
   ]
  },
  {
   "cell_type": "code",
   "execution_count": 87,
   "id": "a4534667",
   "metadata": {},
   "outputs": [
    {
     "name": "stdout",
     "output_type": "stream",
     "text": [
      "Accuracy : \t\t0.7273119195705888\n",
      "Precision : \t\t0.719721900426946\n",
      "Recall : \t\t0.7466721082882698\n",
      "F1 : \t\t\t0.7325844030353256\n",
      "Balanced Accuracy : \t0.7272812298064822\n"
     ]
    }
   ],
   "source": [
    "model = SVC()\n",
    "metrics(model, X_over, y_over)"
   ]
  },
  {
   "cell_type": "markdown",
   "id": "a731e8b2",
   "metadata": {},
   "source": [
    "# AMES Mutagenicity"
   ]
  },
  {
   "cell_type": "code",
   "execution_count": 165,
   "id": "e0ba2eb7",
   "metadata": {},
   "outputs": [
    {
     "name": "stdout",
     "output_type": "stream",
     "text": [
      "1    56.009281\n",
      "0    43.990719\n",
      "Name: Mutagenicity, dtype: float64\n"
     ]
    },
    {
     "data": {
      "image/png": "[encoded data removed]",
      "text/plain": [
       "<Figure size 432x288 with 1 Axes>"
      ]
     },
     "metadata": {
      "needs_background": "light"
     },
     "output_type": "display_data"
    }
   ],
   "source": [
    "df_raw = pd.read_csv('AMES Mutagenesis/final/AMES_GSD.csv') # Need to input Binary class Data\n",
    "categorical_features = ['fr_Al_OH_noTert','fr_COO','fr_NH2','fr_N_O','fr_Ndealkylation2','fr_Nhpyrrole','fr_alkyl_halide','fr_allylic_oxid','fr_lactam']\n",
    "for var in categorical_features:\n",
    "    df_raw[var] = df_raw[var].astype(\"category\")\n",
    "df_raw['Mutagenicity'] = df_raw['Mutagenicity'].astype('category')\n",
    "\n",
    "df_raw.Mutagenicity.value_counts(normalize=True).plot(kind='bar')\n",
    "print(df_raw.Mutagenicity.value_counts(normalize=True)*100)\n",
    "\n",
    "df = df_raw.iloc[:, 3:]\n",
    "X = df.iloc[:,1:]\n",
    "y = df.iloc[:,0]\n",
    "y = y.astype('category')"
   ]
  },
  {
   "cell_type": "code",
   "execution_count": 166,
   "id": "4a307885",
   "metadata": {},
   "outputs": [
    {
     "name": "stdout",
     "output_type": "stream",
     "text": [
      "Accuracy : \t\t0.7612529002320185\n",
      "Precision : \t\t0.7798413186498722\n",
      "Recall : \t\t0.7999227625269526\n",
      "F1 : \t\t\t0.7895658873533165\n",
      "Balanced Accuracy : \t0.755977316687465\n"
     ]
    }
   ],
   "source": [
    "model = LogisticRegression()\n",
    "metrics(model, X, y)"
   ]
  },
  {
   "cell_type": "code",
   "execution_count": 107,
   "id": "17862e9d",
   "metadata": {},
   "outputs": [
    {
     "name": "stdout",
     "output_type": "stream",
     "text": [
      "Accuracy : \t\t0.8157772621809747\n",
      "Precision : \t\t0.8285267658400386\n",
      "Recall : \t\t0.8463180252952724\n",
      "F1 : \t\t\t0.8372690676408044\n",
      "Balanced Accuracy : \t0.811610001832823\n"
     ]
    }
   ],
   "source": [
    "model = LGBMClassifier()\n",
    "metrics(model, X, y)"
   ]
  },
  {
   "cell_type": "code",
   "execution_count": 108,
   "id": "021163fe",
   "metadata": {},
   "outputs": [
    {
     "name": "stdout",
     "output_type": "stream",
     "text": [
      "Accuracy : \t\t0.8293503480278422\n",
      "Precision : \t\t0.8481704149873522\n",
      "Recall : \t\t0.8508748216565293\n",
      "F1 : \t\t\t0.8467502359791667\n",
      "Balanced Accuracy : \t0.8268462973385757\n"
     ]
    }
   ],
   "source": [
    "model = RandomForestClassifier()\n",
    "metrics(model, X, y)"
   ]
  },
  {
   "cell_type": "code",
   "execution_count": 109,
   "id": "748951cb",
   "metadata": {},
   "outputs": [
    {
     "name": "stdout",
     "output_type": "stream",
     "text": [
      "Accuracy : \t\t0.7054524361948956\n",
      "Precision : \t\t0.7254035590835244\n",
      "Recall : \t\t0.7630521674765876\n",
      "F1 : \t\t\t0.7437185098815718\n",
      "Balanced Accuracy : \t0.6975875241142919\n"
     ]
    }
   ],
   "source": [
    "model = KNeighborsClassifier()\n",
    "metrics(model, X, y)"
   ]
  },
  {
   "cell_type": "code",
   "execution_count": 110,
   "id": "55e5ace5",
   "metadata": {},
   "outputs": [
    {
     "name": "stdout",
     "output_type": "stream",
     "text": [
      "Accuracy : \t\t0.7140371229698377\n",
      "Precision : \t\t0.7058279890481417\n",
      "Recall : \t\t0.8394801488966841\n",
      "F1 : \t\t\t0.7668441590132506\n",
      "Balanced Accuracy : \t0.6968972142761254\n"
     ]
    }
   ],
   "source": [
    "model = SVC()\n",
    "metrics(model, X, y)"
   ]
  },
  {
   "cell_type": "markdown",
   "id": "3dcc2766",
   "metadata": {},
   "source": [
    "## Normalization - MinMaxScaling"
   ]
  },
  {
   "cell_type": "code",
   "execution_count": 116,
   "id": "f7367f19",
   "metadata": {},
   "outputs": [],
   "source": [
    "X_scaled = minMax(X)"
   ]
  },
  {
   "cell_type": "code",
   "execution_count": 117,
   "id": "993ce639",
   "metadata": {},
   "outputs": [
    {
     "name": "stdout",
     "output_type": "stream",
     "text": [
      "Accuracy : \t\t0.7603248259860789\n",
      "Precision : \t\t0.7820504336289307\n",
      "Recall : \t\t0.793707076883468\n",
      "F1 : \t\t\t0.7876479791879755\n",
      "Balanced Accuracy : \t0.7557675031432403\n"
     ]
    }
   ],
   "source": [
    "model = LogisticRegression()\n",
    "metrics(model, X_scaled, y)"
   ]
  },
  {
   "cell_type": "code",
   "execution_count": 118,
   "id": "be6b97b6",
   "metadata": {},
   "outputs": [
    {
     "name": "stdout",
     "output_type": "stream",
     "text": [
      "Accuracy : \t\t0.8148491879350347\n",
      "Precision : \t\t0.8274877403850682\n",
      "Recall : \t\t0.8459050193630053\n",
      "F1 : \t\t\t0.836512592172312\n",
      "Balanced Accuracy : \t0.8106135064798174\n"
     ]
    }
   ],
   "source": [
    "model = LGBMClassifier()\n",
    "metrics(model, X_scaled, y)"
   ]
  },
  {
   "cell_type": "code",
   "execution_count": 119,
   "id": "0ca9e825",
   "metadata": {},
   "outputs": [
    {
     "name": "stdout",
     "output_type": "stream",
     "text": [
      "Accuracy : \t\t0.8292343387470998\n",
      "Precision : \t\t0.8525612816873492\n",
      "Recall : \t\t0.8502515581587444\n",
      "F1 : \t\t\t0.8474628071950934\n",
      "Balanced Accuracy : \t0.8282491429875704\n"
     ]
    }
   ],
   "source": [
    "model = RandomForestClassifier()\n",
    "metrics(model, X_scaled, y)"
   ]
  },
  {
   "cell_type": "code",
   "execution_count": 120,
   "id": "41e64cb9",
   "metadata": {},
   "outputs": [
    {
     "name": "stdout",
     "output_type": "stream",
     "text": [
      "Accuracy : \t\t0.7836426914153132\n",
      "Precision : \t\t0.8207841878628228\n",
      "Recall : \t\t0.7854152050547636\n",
      "F1 : \t\t\t0.8026036207730665\n",
      "Balanced Accuracy : \t0.7833992499874128\n"
     ]
    }
   ],
   "source": [
    "model = KNeighborsClassifier()\n",
    "metrics(model, X_scaled, y)"
   ]
  },
  {
   "cell_type": "code",
   "execution_count": 121,
   "id": "99d38bd7",
   "metadata": {},
   "outputs": [
    {
     "name": "stdout",
     "output_type": "stream",
     "text": [
      "Accuracy : \t\t0.8097447795823666\n",
      "Precision : \t\t0.8274383032185424\n",
      "Recall : \t\t0.8345107757002328\n",
      "F1 : \t\t\t0.8308987754196122\n",
      "Balanced Accuracy : \t0.8063649647479233\n"
     ]
    }
   ],
   "source": [
    "model = SVC()\n",
    "metrics(model, X_scaled, y)"
   ]
  },
  {
   "cell_type": "markdown",
   "id": "8067dded",
   "metadata": {},
   "source": [
    "## OverSampling - SMOTE"
   ]
  },
  {
   "cell_type": "code",
   "execution_count": 122,
   "id": "b57552b7",
   "metadata": {},
   "outputs": [],
   "source": [
    "X_over, y_over = smote(X_scaled,y)"
   ]
  },
  {
   "cell_type": "code",
   "execution_count": 123,
   "id": "214ae7b5",
   "metadata": {},
   "outputs": [
    {
     "name": "stdout",
     "output_type": "stream",
     "text": [
      "Accuracy : \t\t0.7712305920724628\n",
      "Precision : \t\t0.7767764977886262\n",
      "Recall : \t\t0.7613930636458233\n",
      "F1 : \t\t\t0.768961180868976\n",
      "Balanced Accuracy : \t0.7712303285810832\n"
     ]
    }
   ],
   "source": [
    "model = LogisticRegression()\n",
    "metrics(model, X_over, y_over)"
   ]
  },
  {
   "cell_type": "code",
   "execution_count": 124,
   "id": "146e62da",
   "metadata": {},
   "outputs": [
    {
     "name": "stdout",
     "output_type": "stream",
     "text": [
      "Accuracy : \t\t0.8354392161025354\n",
      "Precision : \t\t0.8387577627137812\n",
      "Recall : \t\t0.8305740246087172\n",
      "F1 : \t\t\t0.83462870519276\n",
      "Balanced Accuracy : \t0.8354405217820402\n"
     ]
    }
   ],
   "source": [
    "model = LGBMClassifier()\n",
    "metrics(model, X_over, y_over)"
   ]
  },
  {
   "cell_type": "code",
   "execution_count": 125,
   "id": "b953900d",
   "metadata": {},
   "outputs": [
    {
     "name": "stdout",
     "output_type": "stream",
     "text": [
      "Accuracy : \t\t0.8512838904953826\n",
      "Precision : \t\t0.8687681507687868\n",
      "Recall : \t\t0.8324365204518391\n",
      "F1 : \t\t\t0.8483745448067974\n",
      "Balanced Accuracy : \t0.8521138394533303\n"
     ]
    }
   ],
   "source": [
    "model = RandomForestClassifier()\n",
    "metrics(model, X_over, y_over)"
   ]
  },
  {
   "cell_type": "code",
   "execution_count": 126,
   "id": "e425d3fd",
   "metadata": {},
   "outputs": [
    {
     "name": "stdout",
     "output_type": "stream",
     "text": [
      "Accuracy : \t\t0.7863497710344355\n",
      "Precision : \t\t0.857723511102346\n",
      "Recall : \t\t0.6866207532799107\n",
      "F1 : \t\t\t0.762619779041156\n",
      "Balanced Accuracy : \t0.7863511730441219\n"
     ]
    }
   ],
   "source": [
    "model = KNeighborsClassifier()\n",
    "metrics(model, X_over, y_over)"
   ]
  },
  {
   "cell_type": "code",
   "execution_count": 127,
   "id": "7c8b0251",
   "metadata": {},
   "outputs": [
    {
     "name": "stdout",
     "output_type": "stream",
     "text": [
      "Accuracy : \t\t0.8314003943504314\n",
      "Precision : \t\t0.8471471666731041\n",
      "Recall : \t\t0.8088239521985863\n",
      "F1 : \t\t\t0.8275042089709288\n",
      "Balanced Accuracy : \t0.8314004655703237\n"
     ]
    }
   ],
   "source": [
    "model = SVC()\n",
    "metrics(model, X_over, y_over)"
   ]
  },
  {
   "cell_type": "markdown",
   "id": "a61d64bb",
   "metadata": {},
   "source": [
    "# hERG"
   ]
  },
  {
   "cell_type": "code",
   "execution_count": 132,
   "id": "b5e7741b",
   "metadata": {},
   "outputs": [
    {
     "name": "stdout",
     "output_type": "stream",
     "text": [
      "1    58.355514\n",
      "0    41.644486\n",
      "Name: hERG, dtype: float64\n"
     ]
    },
    {
     "data": {
      "image/png": "[encoded data removed]",
      "text/plain": [
       "<Figure size 432x288 with 1 Axes>"
      ]
     },
     "metadata": {
      "needs_background": "light"
     },
     "output_type": "display_data"
    }
   ],
   "source": [
    "df_raw = pd.read_csv('hERG/final/hERG_GSD.csv') # Need to input Binary class Data\n",
    "df_raw.hERG.value_counts(normalize=True).plot(kind='bar')\n",
    "print(df_raw.hERG.value_counts(normalize=True)*100)\n",
    "\n",
    "df = df_raw.iloc[:, 3:]\n",
    "X = df.iloc[:,1:]\n",
    "y = df.iloc[:,0]"
   ]
  },
  {
   "cell_type": "code",
   "execution_count": 133,
   "id": "3ab01816",
   "metadata": {},
   "outputs": [
    {
     "name": "stdout",
     "output_type": "stream",
     "text": [
      "Accuracy : \t\t0.679087125121909\n",
      "Precision : \t\t0.7002033511674055\n",
      "Recall : \t\t0.787725536048161\n",
      "F1 : \t\t\t0.7412164553694041\n",
      "Balanced Accuracy : \t0.6572969517790421\n"
     ]
    }
   ],
   "source": [
    "model = LogisticRegression()\n",
    "metrics(model, X, y)"
   ]
  },
  {
   "cell_type": "code",
   "execution_count": 134,
   "id": "83f2e413",
   "metadata": {},
   "outputs": [
    {
     "name": "stdout",
     "output_type": "stream",
     "text": [
      "Accuracy : \t\t0.8177115783101675\n",
      "Precision : \t\t0.8249685436246509\n",
      "Recall : \t\t0.8730276778096613\n",
      "F1 : \t\t\t0.8482643555164447\n",
      "Balanced Accuracy : \t0.8066131667179619\n"
     ]
    }
   ],
   "source": [
    "model = LGBMClassifier()\n",
    "metrics(model, X, y)"
   ]
  },
  {
   "cell_type": "code",
   "execution_count": 135,
   "id": "4a07165a",
   "metadata": {},
   "outputs": [
    {
     "name": "stdout",
     "output_type": "stream",
     "text": [
      "Accuracy : \t\t0.848213002413603\n",
      "Precision : \t\t0.8512204362086866\n",
      "Recall : \t\t0.8921374538177689\n",
      "F1 : \t\t\t0.8729967261658353\n",
      "Balanced Accuracy : \t0.8348637897949793\n"
     ]
    }
   ],
   "source": [
    "model = RandomForestClassifier()\n",
    "metrics(model, X, y)"
   ]
  },
  {
   "cell_type": "code",
   "execution_count": 136,
   "id": "7ed4a82b",
   "metadata": {},
   "outputs": [
    {
     "name": "stdout",
     "output_type": "stream",
     "text": [
      "Accuracy : \t\t0.6984403157085981\n",
      "Precision : \t\t0.7255221699234221\n",
      "Recall : \t\t0.7774898898615995\n",
      "F1 : \t\t\t0.7505878341803579\n",
      "Balanced Accuracy : \t0.6825786044307571\n"
     ]
    }
   ],
   "source": [
    "model = KNeighborsClassifier()\n",
    "metrics(model, X, y)"
   ]
  },
  {
   "cell_type": "code",
   "execution_count": 137,
   "id": "5be5a3c5",
   "metadata": {},
   "outputs": [
    {
     "name": "stdout",
     "output_type": "stream",
     "text": [
      "Accuracy : \t\t0.5850657984938911\n",
      "Precision : \t\t0.584438131364452\n",
      "Recall : \t\t1.0\n",
      "F1 : \t\t\t0.7377228384066938\n",
      "Balanced Accuracy : \t0.5018137700532763\n"
     ]
    }
   ],
   "source": [
    "model = SVC()\n",
    "metrics(model, X, y)"
   ]
  },
  {
   "cell_type": "markdown",
   "id": "1fe98189",
   "metadata": {},
   "source": [
    "## Normalization - MinMaxScaling"
   ]
  },
  {
   "cell_type": "code",
   "execution_count": 138,
   "id": "6b8c249f",
   "metadata": {},
   "outputs": [],
   "source": [
    "X_scaled = minMax(X)"
   ]
  },
  {
   "cell_type": "code",
   "execution_count": 139,
   "id": "13b0d329",
   "metadata": {},
   "outputs": [
    {
     "name": "stdout",
     "output_type": "stream",
     "text": [
      "Accuracy : \t\t0.7570683129871508\n",
      "Precision : \t\t0.7806051610981466\n",
      "Recall : \t\t0.8120081777591389\n",
      "F1 : \t\t\t0.7959507575765242\n",
      "Balanced Accuracy : \t0.746045781482827\n"
     ]
    }
   ],
   "source": [
    "model = LogisticRegression()\n",
    "metrics(model, X_scaled, y)"
   ]
  },
  {
   "cell_type": "code",
   "execution_count": 140,
   "id": "8b9b113b",
   "metadata": {},
   "outputs": [
    {
     "name": "stdout",
     "output_type": "stream",
     "text": [
      "Accuracy : \t\t0.8173524093346682\n",
      "Precision : \t\t0.8247344910074949\n",
      "Recall : \t\t0.8727803849259983\n",
      "F1 : \t\t\t0.8480104000143716\n",
      "Balanced Accuracy : \t0.8062300797302602\n"
     ]
    }
   ],
   "source": [
    "model = LGBMClassifier()\n",
    "metrics(model, X_scaled, y)"
   ]
  },
  {
   "cell_type": "code",
   "execution_count": 141,
   "id": "67afa00b",
   "metadata": {},
   "outputs": [
    {
     "name": "stdout",
     "output_type": "stream",
     "text": [
      "Accuracy : \t\t0.8461270853867069\n",
      "Precision : \t\t0.8525525314888064\n",
      "Recall : \t\t0.8925059240130887\n",
      "F1 : \t\t\t0.8731915667126604\n",
      "Balanced Accuracy : \t0.8372311524563469\n"
     ]
    }
   ],
   "source": [
    "model = RandomForestClassifier()\n",
    "metrics(model, X_scaled, y)"
   ]
  },
  {
   "cell_type": "code",
   "execution_count": 142,
   "id": "3f5e37b5",
   "metadata": {},
   "outputs": [
    {
     "name": "stdout",
     "output_type": "stream",
     "text": [
      "Accuracy : \t\t0.7921013351131393\n",
      "Precision : \t\t0.8170332544283878\n",
      "Recall : \t\t0.8297577289472464\n",
      "F1 : \t\t\t0.8232823743346224\n",
      "Balanced Accuracy : \t0.7845452191548234\n"
     ]
    }
   ],
   "source": [
    "model = KNeighborsClassifier()\n",
    "metrics(model, X_scaled, y)"
   ]
  },
  {
   "cell_type": "code",
   "execution_count": 144,
   "id": "b2a646d2",
   "metadata": {},
   "outputs": [
    {
     "name": "stdout",
     "output_type": "stream",
     "text": [
      "Accuracy : \t\t0.8060573935673467\n",
      "Precision : \t\t0.8139278410656692\n",
      "Recall : \t\t0.8656307715917837\n",
      "F1 : \t\t\t0.8389591902876393\n",
      "Balanced Accuracy : \t0.7941036618597399\n"
     ]
    }
   ],
   "source": [
    "model = SVC()\n",
    "metrics(model, X_scaled, y)"
   ]
  },
  {
   "cell_type": "markdown",
   "id": "e7fffbaa",
   "metadata": {},
   "source": [
    "## OverSampling - SMOTE"
   ]
  },
  {
   "cell_type": "code",
   "execution_count": 145,
   "id": "bea6cc2b",
   "metadata": {},
   "outputs": [],
   "source": [
    "X_over, y_over = smote(X_scaled,y)"
   ]
  },
  {
   "cell_type": "code",
   "execution_count": 146,
   "id": "71d8fc75",
   "metadata": {},
   "outputs": [
    {
     "name": "stdout",
     "output_type": "stream",
     "text": [
      "Accuracy : \t\t0.7658410644090595\n",
      "Precision : \t\t0.7699232531027214\n",
      "Recall : \t\t0.7582622033909894\n",
      "F1 : \t\t\t0.7640249521779277\n",
      "Balanced Accuracy : \t0.765842471014311\n"
     ]
    }
   ],
   "source": [
    "model = LogisticRegression()\n",
    "metrics(model, X_over, y_over)"
   ]
  },
  {
   "cell_type": "code",
   "execution_count": 147,
   "id": "59df6b60",
   "metadata": {},
   "outputs": [
    {
     "name": "stdout",
     "output_type": "stream",
     "text": [
      "Accuracy : \t\t0.8446741548697702\n",
      "Precision : \t\t0.8468490883453779\n",
      "Recall : \t\t0.8415921559153141\n",
      "F1 : \t\t\t0.8442046794428604\n",
      "Balanced Accuracy : \t0.8446747319854163\n"
     ]
    }
   ],
   "source": [
    "model = LGBMClassifier()\n",
    "metrics(model, X_over, y_over)"
   ]
  },
  {
   "cell_type": "code",
   "execution_count": 148,
   "id": "169010a4",
   "metadata": {},
   "outputs": [
    {
     "name": "stdout",
     "output_type": "stream",
     "text": [
      "Accuracy : \t\t0.8769726925042605\n",
      "Precision : \t\t0.8789207339638875\n",
      "Recall : \t\t0.8770974880968933\n",
      "F1 : \t\t\t0.8772311136573032\n",
      "Balanced Accuracy : \t0.8757403781795748\n"
     ]
    }
   ],
   "source": [
    "model = RandomForestClassifier()\n",
    "metrics(model, X_over, y_over)"
   ]
  },
  {
   "cell_type": "code",
   "execution_count": 149,
   "id": "0f33600e",
   "metadata": {},
   "outputs": [
    {
     "name": "stdout",
     "output_type": "stream",
     "text": [
      "Accuracy : \t\t0.8083701758752438\n",
      "Precision : \t\t0.8648833939484024\n",
      "Recall : \t\t0.7310150100322658\n",
      "F1 : \t\t\t0.7922919483004541\n",
      "Balanced Accuracy : \t0.808369059747632\n"
     ]
    }
   ],
   "source": [
    "model = KNeighborsClassifier()\n",
    "metrics(model, X_over, y_over)"
   ]
  },
  {
   "cell_type": "code",
   "execution_count": 150,
   "id": "6be3f8ce",
   "metadata": {},
   "outputs": [
    {
     "name": "stdout",
     "output_type": "stream",
     "text": [
      "Accuracy : \t\t0.835798810272467\n",
      "Precision : \t\t0.8464160993721304\n",
      "Recall : \t\t0.8205136094656573\n",
      "F1 : \t\t\t0.8332493369080302\n",
      "Balanced Accuracy : \t0.835799690485036\n"
     ]
    }
   ],
   "source": [
    "model = SVC()\n",
    "metrics(model, X_over, y_over)"
   ]
  },
  {
   "cell_type": "code",
   "execution_count": null,
   "id": "aa80c0e5",
   "metadata": {},
   "outputs": [],
   "source": []
  },
  {
   "cell_type": "code",
   "execution_count": null,
   "id": "40711115",
   "metadata": {},
   "outputs": [],
   "source": []
  },
  {
   "cell_type": "code",
   "execution_count": null,
   "id": "6a963977",
   "metadata": {},
   "outputs": [],
   "source": []
  },
  {
   "cell_type": "code",
   "execution_count": null,
   "id": "ddfc3a8f",
   "metadata": {},
   "outputs": [],
   "source": []
  },
  {
   "cell_type": "markdown",
   "id": "ff4e0e01",
   "metadata": {},
   "source": [
    "# Acute Oral Toxicity - EPA_category"
   ]
  },
  {
   "cell_type": "code",
   "execution_count": 250,
   "id": "864c18fa",
   "metadata": {},
   "outputs": [
    {
     "name": "stdout",
     "output_type": "stream",
     "text": [
      "3    49.906335\n",
      "2    22.411444\n",
      "4    19.337534\n",
      "1     8.344687\n",
      "Name: EPA_category, dtype: float64\n"
     ]
    },
    {
     "data": {
      "image/png": "[encoded data removed]",
      "text/plain": [
       "<Figure size 432x288 with 1 Axes>"
      ]
     },
     "metadata": {
      "needs_background": "light"
     },
     "output_type": "display_data"
    }
   ],
   "source": [
    "df_raw = pd.read_csv('Acute Oral Toxicity/final/AOT_EPA_GSD.csv') # Need to input Binary class Data\n",
    "\n",
    "\n",
    "df = df_raw.iloc[:, 3:]\n",
    "X = df.iloc[:,1:]\n",
    "y = df.iloc[:,0]\n",
    "y = y.astype('int').astype('category')\n",
    "\n",
    "y.value_counts(normalize=True).plot(kind='bar')\n",
    "print(y.value_counts(normalize=True)*100)"
   ]
  },
  {
   "cell_type": "code",
   "execution_count": 251,
   "id": "45bf4acc",
   "metadata": {},
   "outputs": [
    {
     "name": "stdout",
     "output_type": "stream",
     "text": [
      "Accuracy : \t\t0.5651385598134115\n",
      "Precision : \t\t0.5402035065370215\n",
      "Recall : \t\t0.4325352299495274\n",
      "F1 : \t\t\t0.4550325529741678\n",
      "Balanced Accuracy : \t0.4325352299495274\n"
     ]
    }
   ],
   "source": [
    "model = LogisticRegression(multi_class='multinomial')\n",
    "metrics(model, X, y)"
   ]
  },
  {
   "cell_type": "code",
   "execution_count": 252,
   "id": "66496f70",
   "metadata": {},
   "outputs": [
    {
     "name": "stdout",
     "output_type": "stream",
     "text": [
      "Accuracy : \t\t0.6367495175372753\n",
      "Precision : \t\t0.6459816137320482\n",
      "Recall : \t\t0.5517580847315623\n",
      "F1 : \t\t\t0.5826635526028828\n",
      "Balanced Accuracy : \t0.5517580847315623\n"
     ]
    }
   ],
   "source": [
    "model = LGBMClassifier()\n",
    "metrics(model, X, y)"
   ]
  },
  {
   "cell_type": "code",
   "execution_count": 253,
   "id": "a874e715",
   "metadata": {},
   "outputs": [
    {
     "name": "stdout",
     "output_type": "stream",
     "text": [
      "Accuracy : \t\t0.6479048317345523\n",
      "Precision : \t\t0.6708179156439249\n",
      "Recall : \t\t0.55075669742441\n",
      "F1 : \t\t\t0.5784439284056345\n",
      "Balanced Accuracy : \t0.5463463260967387\n"
     ]
    }
   ],
   "source": [
    "model = RandomForestClassifier()\n",
    "metrics(model, X, y)"
   ]
  },
  {
   "cell_type": "code",
   "execution_count": 254,
   "id": "5c0627f1",
   "metadata": {},
   "outputs": [
    {
     "name": "stdout",
     "output_type": "stream",
     "text": [
      "Accuracy : \t\t0.5241832944969878\n",
      "Precision : \t\t0.4749958231783783\n",
      "Recall : \t\t0.45560414427278806\n",
      "F1 : \t\t\t0.45964561914191193\n",
      "Balanced Accuracy : \t0.45560414427278806\n"
     ]
    }
   ],
   "source": [
    "model = KNeighborsClassifier()\n",
    "metrics(model, X, y)"
   ]
  },
  {
   "cell_type": "code",
   "execution_count": 255,
   "id": "929e9386",
   "metadata": {},
   "outputs": [
    {
     "name": "stdout",
     "output_type": "stream",
     "text": [
      "Accuracy : \t\t0.5180518296596544\n",
      "Precision : \t\t0.5837597871601025\n",
      "Recall : \t\t0.29677839806498535\n",
      "F1 : \t\t\t0.25642936558660534\n",
      "Balanced Accuracy : \t0.29677839806498535\n"
     ]
    }
   ],
   "source": [
    "model = SVC()\n",
    "metrics(model, X, y)"
   ]
  },
  {
   "cell_type": "markdown",
   "id": "ea24ddc2",
   "metadata": {},
   "source": [
    "## Normalization - MinMaxScaling"
   ]
  },
  {
   "cell_type": "code",
   "execution_count": 258,
   "id": "49266636",
   "metadata": {},
   "outputs": [],
   "source": [
    "X_scaled = minMax(X)"
   ]
  },
  {
   "cell_type": "code",
   "execution_count": 260,
   "id": "0aa875a6",
   "metadata": {},
   "outputs": [
    {
     "name": "stdout",
     "output_type": "stream",
     "text": [
      "LogisticRegression(multi_class='multinomial')\n",
      "Accuracy : \t\t0.5624150477603649\n",
      "Precision : \t\t0.5327999716173413\n",
      "Recall : \t\t0.4958225419529728\n",
      "F1 : \t\t\t0.5099525917931855\n",
      "Balanced Accuracy : \t0.4958225419529728\n",
      "\n",
      "\n"
     ]
    }
   ],
   "source": [
    "models = [LogisticRegression(multi_class='multinomial')]#,LGBMClassifier(), RandomForestClassifier(), KNeighborsClassifier(),SVC()]\n",
    "for model in models:\n",
    "    print(str(model))\n",
    "    metrics(model, X_scaled, y)\n",
    "    print('\\n')"
   ]
  },
  {
   "cell_type": "markdown",
   "id": "79b08f6c",
   "metadata": {},
   "source": [
    "## OverSampling - SMOTE"
   ]
  },
  {
   "cell_type": "code",
   "execution_count": 264,
   "id": "f94b7a12",
   "metadata": {},
   "outputs": [],
   "source": [
    "X_over, y_over = smote(X_scaled,y)"
   ]
  },
  {
   "cell_type": "code",
   "execution_count": null,
   "id": "0467073b",
   "metadata": {},
   "outputs": [
    {
     "name": "stdout",
     "output_type": "stream",
     "text": [
      "LogisticRegression(multi_class='multinomial')\n",
      "Accuracy : \t\t0.6826052022852119\n",
      "Precision : \t\t0.6747518803493141\n",
      "Recall : \t\t0.6826070953681963\n",
      "F1 : \t\t\t0.6771845645565129\n",
      "Balanced Accuracy : \t0.6826070953681963\n",
      "\n",
      "\n",
      "LGBMClassifier()\n",
      "Accuracy : \t\t0.8035318936848057\n",
      "Precision : \t\t0.807735038922039\n",
      "Recall : \t\t0.8035331724320536\n",
      "F1 : \t\t\t0.8043126129663131\n",
      "Balanced Accuracy : \t0.8035331724320536\n",
      "\n",
      "\n",
      "RandomForestClassifier()\n",
      "Accuracy : \t\t0.8376553996464022\n",
      "Precision : \t\t0.8399792399468448\n",
      "Recall : \t\t0.8394051380754112\n",
      "F1 : \t\t\t0.8384193674849545\n",
      "Balanced Accuracy : \t0.8363767097579498\n",
      "\n",
      "\n",
      "KNeighborsClassifier()\n",
      "Accuracy : \t\t0.7505540252147754\n",
      "Precision : \t\t0.7558755994951817\n",
      "Recall : \t\t0.7505534072955491\n",
      "F1 : \t\t\t0.7228679525797324\n",
      "Balanced Accuracy : \t0.7505534072955491\n",
      "\n",
      "\n",
      "SVC()\n"
     ]
    }
   ],
   "source": [
    "models = [LogisticRegression(multi_class='multinomial'),LGBMClassifier(), RandomForestClassifier(), KNeighborsClassifier(),SVC()]\n",
    "for model in models:\n",
    "    print(str(model))\n",
    "    metrics(model, X_over, y_over)\n",
    "    print('\\n')"
   ]
  },
  {
   "cell_type": "code",
   "execution_count": null,
   "id": "64d1ed5e",
   "metadata": {},
   "outputs": [],
   "source": []
  },
  {
   "cell_type": "code",
   "execution_count": null,
   "id": "17773c86",
   "metadata": {},
   "outputs": [],
   "source": []
  },
  {
   "cell_type": "code",
   "execution_count": null,
   "id": "438566af",
   "metadata": {},
   "outputs": [],
   "source": []
  },
  {
   "cell_type": "code",
   "execution_count": null,
   "id": "58882b31",
   "metadata": {},
   "outputs": [],
   "source": []
  },
  {
   "cell_type": "code",
   "execution_count": null,
   "id": "8e5e140a",
   "metadata": {},
   "outputs": [],
   "source": []
  },
  {
   "cell_type": "code",
   "execution_count": null,
   "id": "240593df",
   "metadata": {},
   "outputs": [],
   "source": []
  },
  {
   "cell_type": "code",
   "execution_count": null,
   "id": "43481ea2",
   "metadata": {},
   "outputs": [],
   "source": []
  },
  {
   "cell_type": "code",
   "execution_count": null,
   "id": "140cb159",
   "metadata": {},
   "outputs": [],
   "source": []
  },
  {
   "cell_type": "code",
   "execution_count": null,
   "id": "27be0080",
   "metadata": {},
   "outputs": [],
   "source": []
  },
  {
   "cell_type": "code",
   "execution_count": null,
   "id": "d3645f51",
   "metadata": {},
   "outputs": [],
   "source": []
  }
 ],
 "metadata": {
  "kernelspec": {
   "display_name": "Python [conda env:my-rdkit-env] *",
   "language": "python",
   "name": "conda-env-my-rdkit-env-py"
  },
  "language_info": {
   "codemirror_mode": {
    "name": "ipython",
    "version": 3
   },
   "file_extension": ".py",
   "mimetype": "text/x-python",
   "name": "python",
   "nbconvert_exporter": "python",
   "pygments_lexer": "ipython3",
   "version": "3.7.10"
  }
 },
 "nbformat": 4,
 "nbformat_minor": 5
}

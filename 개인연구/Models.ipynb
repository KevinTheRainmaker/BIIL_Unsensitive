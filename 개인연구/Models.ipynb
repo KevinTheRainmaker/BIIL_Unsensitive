{
 "cells": [
  {
   "cell_type": "code",
   "execution_count": 107,
   "id": "0606882e",
   "metadata": {},
   "outputs": [],
   "source": [
    "import pandas as pd\n",
    "import numpy as np\n",
    "\n",
    "from sklearn.model_selection import train_test_split\n",
    "from sklearn.model_selection import cross_val_score\n",
    "\n",
    "from sklearn.preprocessing import MinMaxScaler\n",
    "from sklearn.metrics import *\n",
    "\n",
    "from sklearn.linear_model import LogisticRegression\n",
    "from lightgbm import LGBMClassifier\n",
    "from sklearn.neighbors import KNeighborsClassifier\n",
    "from sklearn.ensemble import RandomForestClassifier\n",
    "from sklearn.naive_bayes import MultinomialNB\n",
    "from sklearn.svm import SVC\n",
    "\n",
    "from imblearn.over_sampling import SMOTE\n",
    "\n",
    "import warnings\n",
    "warnings.filterwarnings(\"ignore\")"
   ]
  },
  {
   "cell_type": "code",
   "execution_count": 92,
   "id": "223b1614",
   "metadata": {},
   "outputs": [],
   "source": [
    "#Modeling\n",
    "def modeling(model,x_train,x_test,y_train,y_test):\n",
    "    model.fit(x_train,y_train)\n",
    "    pred = model.predict(x_test)\n",
    "    metrics(y_test,pred)"
   ]
  },
  {
   "cell_type": "code",
   "execution_count": 93,
   "id": "bc38696c",
   "metadata": {},
   "outputs": [],
   "source": [
    "#Metircs\n",
    "def metrics(y_test,pred):\n",
    "    accuracy = accuracy_score(y_test,pred)\n",
    "    precision = precision_score(y_test,pred)\n",
    "    recall = recall_score(y_test,pred)\n",
    "    f1 = f1_score(y_test,pred)\n",
    "    balanced = balanced_accuracy_score(y_test,pred)\n",
    "    roc_score = roc_auc_score(y_test,pred,average='macro')\n",
    "    print('Accuracy : {0:.2f}, Precision : {1:.2f}, Recall : {2:.2f}'.format(accuracy,precision,recall))\n",
    "    print('f1-score : {0:.2f}, Balanced Accuracy : {1:.2f}'.format(f1, balanced))"
   ]
  },
  {
   "cell_type": "code",
   "execution_count": 109,
   "id": "2d409bce",
   "metadata": {},
   "outputs": [],
   "source": [
    "def scaler_splited(train, test):\n",
    "    scaler = MinMaxScaler()\n",
    "    scaler.fit(train)\n",
    "    train_scale = scaler.transform(train)\n",
    "    test_scale = scaler.transform(test)\n",
    "\n",
    "    train_scaled_df = pd.DataFrame(train_scale)\n",
    "    test_scaled_df = pd.DataFrame(test_scale)\n",
    "    \n",
    "    return train_scaled_df, test_scaled_df"
   ]
  },
  {
   "cell_type": "code",
   "execution_count": 78,
   "id": "36d94115",
   "metadata": {},
   "outputs": [],
   "source": [
    "# #SMOTE\n",
    "# smote = SMOTE(random_state=0)\n",
    "# X_train_over,y_train_over = smote.fit(X_train,y_train)\n",
    "# print('Features for train / label Dataset before SMOTE: ', X_train.shape, y_train.shape)\n",
    "# print('Features for train / label Dataset after SMOTE: ', X_train_over.shape, y_train_over.shape)\n",
    "# print('Label value distribution after SMOTE: \\n', pd.Series(y_train_over).value_counts())"
   ]
  },
  {
   "cell_type": "markdown",
   "id": "0251b7ab",
   "metadata": {},
   "source": [
    "# DILI"
   ]
  },
  {
   "cell_type": "code",
   "execution_count": 144,
   "id": "3f2de9fb",
   "metadata": {},
   "outputs": [
    {
     "name": "stdout",
     "output_type": "stream",
     "text": [
      "1    54.447439\n",
      "0    45.552561\n",
      "Name: DILI, dtype: float64\n"
     ]
    },
    {
     "data": {
      "text/html": [
       "<div>\n",
       "<style scoped>\n",
       "    .dataframe tbody tr th:only-of-type {\n",
       "        vertical-align: middle;\n",
       "    }\n",
       "\n",
       "    .dataframe tbody tr th {\n",
       "        vertical-align: top;\n",
       "    }\n",
       "\n",
       "    .dataframe thead th {\n",
       "        text-align: right;\n",
       "    }\n",
       "</style>\n",
       "<table border=\"1\" class=\"dataframe\">\n",
       "  <thead>\n",
       "    <tr style=\"text-align: right;\">\n",
       "      <th></th>\n",
       "      <th>DILI</th>\n",
       "      <th>MFPS_1</th>\n",
       "      <th>MFPS_2</th>\n",
       "      <th>MFPS_3</th>\n",
       "      <th>MFPS_4</th>\n",
       "      <th>MFPS_5</th>\n",
       "      <th>MFPS_6</th>\n",
       "      <th>MFPS_7</th>\n",
       "      <th>MFPS_8</th>\n",
       "      <th>MFPS_9</th>\n",
       "      <th>...</th>\n",
       "      <th>TPSA</th>\n",
       "      <th>EState_VSA3</th>\n",
       "      <th>EState_VSA8</th>\n",
       "      <th>VSA_EState2</th>\n",
       "      <th>VSA_EState3</th>\n",
       "      <th>VSA_EState4</th>\n",
       "      <th>VSA_EState6</th>\n",
       "      <th>VSA_EState8</th>\n",
       "      <th>FractionCSP3</th>\n",
       "      <th>MolLogP</th>\n",
       "    </tr>\n",
       "  </thead>\n",
       "  <tbody>\n",
       "    <tr>\n",
       "      <th>0</th>\n",
       "      <td>1</td>\n",
       "      <td>0</td>\n",
       "      <td>1</td>\n",
       "      <td>0</td>\n",
       "      <td>0</td>\n",
       "      <td>0</td>\n",
       "      <td>0</td>\n",
       "      <td>0</td>\n",
       "      <td>0</td>\n",
       "      <td>0</td>\n",
       "      <td>...</td>\n",
       "      <td>21.26</td>\n",
       "      <td>0.000000</td>\n",
       "      <td>42.572361</td>\n",
       "      <td>0.000000</td>\n",
       "      <td>3.188329</td>\n",
       "      <td>2.397122</td>\n",
       "      <td>18.560825</td>\n",
       "      <td>3.014781</td>\n",
       "      <td>0.294118</td>\n",
       "      <td>3.72462</td>\n",
       "    </tr>\n",
       "    <tr>\n",
       "      <th>1</th>\n",
       "      <td>0</td>\n",
       "      <td>0</td>\n",
       "      <td>0</td>\n",
       "      <td>0</td>\n",
       "      <td>0</td>\n",
       "      <td>1</td>\n",
       "      <td>0</td>\n",
       "      <td>0</td>\n",
       "      <td>0</td>\n",
       "      <td>0</td>\n",
       "      <td>...</td>\n",
       "      <td>12.47</td>\n",
       "      <td>6.041841</td>\n",
       "      <td>55.269521</td>\n",
       "      <td>2.449908</td>\n",
       "      <td>0.751613</td>\n",
       "      <td>1.854830</td>\n",
       "      <td>19.100274</td>\n",
       "      <td>4.115839</td>\n",
       "      <td>0.428571</td>\n",
       "      <td>5.10440</td>\n",
       "    </tr>\n",
       "    <tr>\n",
       "      <th>2</th>\n",
       "      <td>1</td>\n",
       "      <td>0</td>\n",
       "      <td>0</td>\n",
       "      <td>0</td>\n",
       "      <td>0</td>\n",
       "      <td>0</td>\n",
       "      <td>0</td>\n",
       "      <td>0</td>\n",
       "      <td>0</td>\n",
       "      <td>0</td>\n",
       "      <td>...</td>\n",
       "      <td>6.48</td>\n",
       "      <td>0.000000</td>\n",
       "      <td>60.293366</td>\n",
       "      <td>4.690135</td>\n",
       "      <td>0.815501</td>\n",
       "      <td>5.433896</td>\n",
       "      <td>15.070834</td>\n",
       "      <td>2.108236</td>\n",
       "      <td>0.368421</td>\n",
       "      <td>4.52840</td>\n",
       "    </tr>\n",
       "    <tr>\n",
       "      <th>3</th>\n",
       "      <td>1</td>\n",
       "      <td>0</td>\n",
       "      <td>0</td>\n",
       "      <td>0</td>\n",
       "      <td>0</td>\n",
       "      <td>0</td>\n",
       "      <td>0</td>\n",
       "      <td>0</td>\n",
       "      <td>0</td>\n",
       "      <td>0</td>\n",
       "      <td>...</td>\n",
       "      <td>30.87</td>\n",
       "      <td>5.022633</td>\n",
       "      <td>40.363381</td>\n",
       "      <td>9.688598</td>\n",
       "      <td>4.204200</td>\n",
       "      <td>4.115029</td>\n",
       "      <td>14.156846</td>\n",
       "      <td>4.076558</td>\n",
       "      <td>0.277778</td>\n",
       "      <td>3.72270</td>\n",
       "    </tr>\n",
       "    <tr>\n",
       "      <th>4</th>\n",
       "      <td>0</td>\n",
       "      <td>0</td>\n",
       "      <td>0</td>\n",
       "      <td>0</td>\n",
       "      <td>0</td>\n",
       "      <td>0</td>\n",
       "      <td>0</td>\n",
       "      <td>0</td>\n",
       "      <td>0</td>\n",
       "      <td>0</td>\n",
       "      <td>...</td>\n",
       "      <td>55.56</td>\n",
       "      <td>0.000000</td>\n",
       "      <td>23.099011</td>\n",
       "      <td>15.679694</td>\n",
       "      <td>0.000000</td>\n",
       "      <td>10.045208</td>\n",
       "      <td>26.747108</td>\n",
       "      <td>3.614608</td>\n",
       "      <td>0.321429</td>\n",
       "      <td>3.95750</td>\n",
       "    </tr>\n",
       "    <tr>\n",
       "      <th>...</th>\n",
       "      <td>...</td>\n",
       "      <td>...</td>\n",
       "      <td>...</td>\n",
       "      <td>...</td>\n",
       "      <td>...</td>\n",
       "      <td>...</td>\n",
       "      <td>...</td>\n",
       "      <td>...</td>\n",
       "      <td>...</td>\n",
       "      <td>...</td>\n",
       "      <td>...</td>\n",
       "      <td>...</td>\n",
       "      <td>...</td>\n",
       "      <td>...</td>\n",
       "      <td>...</td>\n",
       "      <td>...</td>\n",
       "      <td>...</td>\n",
       "      <td>...</td>\n",
       "      <td>...</td>\n",
       "      <td>...</td>\n",
       "      <td>...</td>\n",
       "    </tr>\n",
       "    <tr>\n",
       "      <th>2221</th>\n",
       "      <td>0</td>\n",
       "      <td>0</td>\n",
       "      <td>0</td>\n",
       "      <td>0</td>\n",
       "      <td>1</td>\n",
       "      <td>1</td>\n",
       "      <td>1</td>\n",
       "      <td>0</td>\n",
       "      <td>0</td>\n",
       "      <td>0</td>\n",
       "      <td>...</td>\n",
       "      <td>118.21</td>\n",
       "      <td>32.351978</td>\n",
       "      <td>46.644294</td>\n",
       "      <td>50.402231</td>\n",
       "      <td>16.230931</td>\n",
       "      <td>2.741398</td>\n",
       "      <td>14.444942</td>\n",
       "      <td>2.555836</td>\n",
       "      <td>0.484848</td>\n",
       "      <td>2.08110</td>\n",
       "    </tr>\n",
       "    <tr>\n",
       "      <th>2222</th>\n",
       "      <td>0</td>\n",
       "      <td>0</td>\n",
       "      <td>1</td>\n",
       "      <td>0</td>\n",
       "      <td>0</td>\n",
       "      <td>0</td>\n",
       "      <td>0</td>\n",
       "      <td>0</td>\n",
       "      <td>0</td>\n",
       "      <td>0</td>\n",
       "      <td>...</td>\n",
       "      <td>72.72</td>\n",
       "      <td>12.108208</td>\n",
       "      <td>5.316789</td>\n",
       "      <td>0.000000</td>\n",
       "      <td>30.430310</td>\n",
       "      <td>0.573750</td>\n",
       "      <td>4.261852</td>\n",
       "      <td>0.406960</td>\n",
       "      <td>0.333333</td>\n",
       "      <td>0.35060</td>\n",
       "    </tr>\n",
       "    <tr>\n",
       "      <th>2223</th>\n",
       "      <td>0</td>\n",
       "      <td>0</td>\n",
       "      <td>0</td>\n",
       "      <td>0</td>\n",
       "      <td>0</td>\n",
       "      <td>0</td>\n",
       "      <td>0</td>\n",
       "      <td>0</td>\n",
       "      <td>0</td>\n",
       "      <td>0</td>\n",
       "      <td>...</td>\n",
       "      <td>37.30</td>\n",
       "      <td>6.420822</td>\n",
       "      <td>19.075777</td>\n",
       "      <td>10.324075</td>\n",
       "      <td>8.508190</td>\n",
       "      <td>0.000000</td>\n",
       "      <td>0.000000</td>\n",
       "      <td>2.258829</td>\n",
       "      <td>0.833333</td>\n",
       "      <td>6.10850</td>\n",
       "    </tr>\n",
       "    <tr>\n",
       "      <th>2224</th>\n",
       "      <td>0</td>\n",
       "      <td>0</td>\n",
       "      <td>0</td>\n",
       "      <td>1</td>\n",
       "      <td>0</td>\n",
       "      <td>1</td>\n",
       "      <td>0</td>\n",
       "      <td>0</td>\n",
       "      <td>0</td>\n",
       "      <td>0</td>\n",
       "      <td>...</td>\n",
       "      <td>67.64</td>\n",
       "      <td>0.000000</td>\n",
       "      <td>9.892314</td>\n",
       "      <td>6.467162</td>\n",
       "      <td>0.000000</td>\n",
       "      <td>10.546288</td>\n",
       "      <td>0.000000</td>\n",
       "      <td>4.153002</td>\n",
       "      <td>0.900000</td>\n",
       "      <td>0.52590</td>\n",
       "    </tr>\n",
       "    <tr>\n",
       "      <th>2225</th>\n",
       "      <td>0</td>\n",
       "      <td>0</td>\n",
       "      <td>1</td>\n",
       "      <td>0</td>\n",
       "      <td>0</td>\n",
       "      <td>0</td>\n",
       "      <td>0</td>\n",
       "      <td>0</td>\n",
       "      <td>0</td>\n",
       "      <td>0</td>\n",
       "      <td>...</td>\n",
       "      <td>60.36</td>\n",
       "      <td>11.027787</td>\n",
       "      <td>0.000000</td>\n",
       "      <td>10.017511</td>\n",
       "      <td>19.136261</td>\n",
       "      <td>0.000000</td>\n",
       "      <td>0.000000</td>\n",
       "      <td>0.424583</td>\n",
       "      <td>0.857143</td>\n",
       "      <td>-1.80650</td>\n",
       "    </tr>\n",
       "  </tbody>\n",
       "</table>\n",
       "<p>2226 rows × 1061 columns</p>\n",
       "</div>"
      ],
      "text/plain": [
       "      DILI  MFPS_1  MFPS_2  MFPS_3  MFPS_4  MFPS_5  MFPS_6  MFPS_7  MFPS_8  \\\n",
       "0        1       0       1       0       0       0       0       0       0   \n",
       "1        0       0       0       0       0       1       0       0       0   \n",
       "2        1       0       0       0       0       0       0       0       0   \n",
       "3        1       0       0       0       0       0       0       0       0   \n",
       "4        0       0       0       0       0       0       0       0       0   \n",
       "...    ...     ...     ...     ...     ...     ...     ...     ...     ...   \n",
       "2221     0       0       0       0       1       1       1       0       0   \n",
       "2222     0       0       1       0       0       0       0       0       0   \n",
       "2223     0       0       0       0       0       0       0       0       0   \n",
       "2224     0       0       0       1       0       1       0       0       0   \n",
       "2225     0       0       1       0       0       0       0       0       0   \n",
       "\n",
       "      MFPS_9  ...    TPSA  EState_VSA3  EState_VSA8  VSA_EState2  VSA_EState3  \\\n",
       "0          0  ...   21.26     0.000000    42.572361     0.000000     3.188329   \n",
       "1          0  ...   12.47     6.041841    55.269521     2.449908     0.751613   \n",
       "2          0  ...    6.48     0.000000    60.293366     4.690135     0.815501   \n",
       "3          0  ...   30.87     5.022633    40.363381     9.688598     4.204200   \n",
       "4          0  ...   55.56     0.000000    23.099011    15.679694     0.000000   \n",
       "...      ...  ...     ...          ...          ...          ...          ...   \n",
       "2221       0  ...  118.21    32.351978    46.644294    50.402231    16.230931   \n",
       "2222       0  ...   72.72    12.108208     5.316789     0.000000    30.430310   \n",
       "2223       0  ...   37.30     6.420822    19.075777    10.324075     8.508190   \n",
       "2224       0  ...   67.64     0.000000     9.892314     6.467162     0.000000   \n",
       "2225       0  ...   60.36    11.027787     0.000000    10.017511    19.136261   \n",
       "\n",
       "      VSA_EState4  VSA_EState6  VSA_EState8  FractionCSP3  MolLogP  \n",
       "0        2.397122    18.560825     3.014781      0.294118  3.72462  \n",
       "1        1.854830    19.100274     4.115839      0.428571  5.10440  \n",
       "2        5.433896    15.070834     2.108236      0.368421  4.52840  \n",
       "3        4.115029    14.156846     4.076558      0.277778  3.72270  \n",
       "4       10.045208    26.747108     3.614608      0.321429  3.95750  \n",
       "...           ...          ...          ...           ...      ...  \n",
       "2221     2.741398    14.444942     2.555836      0.484848  2.08110  \n",
       "2222     0.573750     4.261852     0.406960      0.333333  0.35060  \n",
       "2223     0.000000     0.000000     2.258829      0.833333  6.10850  \n",
       "2224    10.546288     0.000000     4.153002      0.900000  0.52590  \n",
       "2225     0.000000     0.000000     0.424583      0.857143 -1.80650  \n",
       "\n",
       "[2226 rows x 1061 columns]"
      ]
     },
     "execution_count": 144,
     "metadata": {},
     "output_type": "execute_result"
    },
    {
     "data": {
      "image/png": "[encoded data removed]",
      "text/plain": [
       "<Figure size 432x288 with 1 Axes>"
      ]
     },
     "metadata": {
      "needs_background": "light"
     },
     "output_type": "display_data"
    }
   ],
   "source": [
    "df_raw = pd.read_csv('DILI/final/DILI_GSD.csv') # Need to input Binary class Data\n",
    "df_raw.DILI.value_counts(normalize=True).plot(kind='bar')\n",
    "print(df_raw.DILI.value_counts(normalize=True)*100)\n",
    "\n",
    "df = df_raw.iloc[:, 3:]\n",
    "df"
   ]
  },
  {
   "cell_type": "code",
   "execution_count": 145,
   "id": "fd5394b2",
   "metadata": {},
   "outputs": [],
   "source": [
    "X = df.iloc[:,1:]\n",
    "y = df.iloc[:,0]\n",
    "\n",
    "X_train, X_test, y_train, y_test = train_test_split(X,y,test_size=0.25, random_state = 10)"
   ]
  },
  {
   "cell_type": "code",
   "execution_count": 97,
   "id": "d28bd16f",
   "metadata": {},
   "outputs": [
    {
     "name": "stdout",
     "output_type": "stream",
     "text": [
      "Accuracy : 0.60, Precision : 0.60, Recall : 0.77\n",
      "f1-score : 0.68, Balanced Accuracy : 0.58\n"
     ]
    }
   ],
   "source": [
    "lr = LogisticRegression()\n",
    "modeling(lr, X_train, X_test, y_train, y_test)"
   ]
  },
  {
   "cell_type": "code",
   "execution_count": 99,
   "id": "8eaa580c",
   "metadata": {},
   "outputs": [
    {
     "name": "stdout",
     "output_type": "stream",
     "text": [
      "Accuracy : 0.72, Precision : 0.73, Recall : 0.76\n",
      "f1-score : 0.75, Balanced Accuracy : 0.71\n"
     ]
    }
   ],
   "source": [
    "lgbm = LGBMClassifier()\n",
    "modeling(lgbm, X_train, X_test, y_train, y_test)"
   ]
  },
  {
   "cell_type": "code",
   "execution_count": 100,
   "id": "e69a8a15",
   "metadata": {},
   "outputs": [
    {
     "name": "stdout",
     "output_type": "stream",
     "text": [
      "Accuracy : 0.73, Precision : 0.74, Recall : 0.78\n",
      "f1-score : 0.76, Balanced Accuracy : 0.72\n"
     ]
    }
   ],
   "source": [
    "rf = RandomForestClassifier()\n",
    "modeling(rf,X_train, X_test, y_train, y_test)"
   ]
  },
  {
   "cell_type": "code",
   "execution_count": 101,
   "id": "89228fab",
   "metadata": {},
   "outputs": [
    {
     "name": "stdout",
     "output_type": "stream",
     "text": [
      "Accuracy : 0.65, Precision : 0.67, Recall : 0.70\n",
      "f1-score : 0.68, Balanced Accuracy : 0.64\n"
     ]
    }
   ],
   "source": [
    "knn = KNeighborsClassifier()\n",
    "modeling(knn,X_train, X_test, y_train, y_test)"
   ]
  },
  {
   "cell_type": "code",
   "execution_count": 108,
   "id": "3c4581ef",
   "metadata": {},
   "outputs": [
    {
     "name": "stdout",
     "output_type": "stream",
     "text": [
      "Accuracy : 0.55, Precision : 0.55, Recall : 0.98\n",
      "f1-score : 0.70, Balanced Accuracy : 0.51\n"
     ]
    }
   ],
   "source": [
    "svm = SVC()\n",
    "modeling(svm, X_train, X_test, y_train, y_test)"
   ]
  },
  {
   "cell_type": "code",
   "execution_count": null,
   "id": "8f56895e",
   "metadata": {},
   "outputs": [],
   "source": []
  },
  {
   "cell_type": "code",
   "execution_count": 146,
   "id": "49e36b23",
   "metadata": {},
   "outputs": [],
   "source": [
    "X_train_scaled , X_test_scaled = scaler_splited(X_train, X_test)"
   ]
  },
  {
   "cell_type": "code",
   "execution_count": 112,
   "id": "d2e954e3",
   "metadata": {},
   "outputs": [
    {
     "name": "stdout",
     "output_type": "stream",
     "text": [
      "Accuracy : 0.68, Precision : 0.71, Recall : 0.69\n",
      "f1-score : 0.70, Balanced Accuracy : 0.68\n"
     ]
    }
   ],
   "source": [
    "lr = LogisticRegression()\n",
    "modeling(lr, X_train_scaled, X_test_scaled, y_train, y_test)"
   ]
  },
  {
   "cell_type": "code",
   "execution_count": 113,
   "id": "7a5e3b22",
   "metadata": {},
   "outputs": [
    {
     "name": "stdout",
     "output_type": "stream",
     "text": [
      "Accuracy : 0.71, Precision : 0.73, Recall : 0.76\n",
      "f1-score : 0.74, Balanced Accuracy : 0.71\n"
     ]
    }
   ],
   "source": [
    "lgbm = LGBMClassifier()\n",
    "modeling(lgbm, X_train_scaled, X_test_scaled, y_train, y_test)"
   ]
  },
  {
   "cell_type": "code",
   "execution_count": 114,
   "id": "8d0b92b3",
   "metadata": {},
   "outputs": [
    {
     "name": "stdout",
     "output_type": "stream",
     "text": [
      "Accuracy : 0.73, Precision : 0.75, Recall : 0.77\n",
      "f1-score : 0.76, Balanced Accuracy : 0.73\n"
     ]
    }
   ],
   "source": [
    "rf = RandomForestClassifier()\n",
    "modeling(rf,X_train_scaled, X_test_scaled, y_train, y_test)"
   ]
  },
  {
   "cell_type": "code",
   "execution_count": 116,
   "id": "0ab4534e",
   "metadata": {},
   "outputs": [
    {
     "name": "stdout",
     "output_type": "stream",
     "text": [
      "Accuracy : 0.65, Precision : 0.68, Recall : 0.70\n",
      "f1-score : 0.69, Balanced Accuracy : 0.65\n"
     ]
    }
   ],
   "source": [
    "knn = KNeighborsClassifier()\n",
    "modeling(knn,X_train_scaled, X_test_scaled, y_train, y_test)"
   ]
  },
  {
   "cell_type": "code",
   "execution_count": 117,
   "id": "5560a228",
   "metadata": {},
   "outputs": [
    {
     "name": "stdout",
     "output_type": "stream",
     "text": [
      "Accuracy : 0.73, Precision : 0.72, Recall : 0.83\n",
      "f1-score : 0.77, Balanced Accuracy : 0.72\n"
     ]
    }
   ],
   "source": [
    "svm = SVC()\n",
    "modeling(svm, X_train_scaled, X_test_scaled, y_train, y_test)"
   ]
  },
  {
   "cell_type": "code",
   "execution_count": 119,
   "id": "77f6276e",
   "metadata": {},
   "outputs": [],
   "source": [
    "smote = SMOTE(random_state=0)\n",
    "X_train_over,y_train_over = smote.fit_resample(X_train,y_train)"
   ]
  },
  {
   "cell_type": "code",
   "execution_count": 120,
   "id": "e856bb0b",
   "metadata": {},
   "outputs": [
    {
     "name": "stdout",
     "output_type": "stream",
     "text": [
      "Features for train / label Dataset before SMOTE:  (1669, 1060) (1669,)\n",
      "Features for train / label Dataset after SMOTE:  (1816, 1060) (1816,)\n",
      "Label value distribution after SMOTE: \n",
      " 1    908\n",
      "0    908\n",
      "Name: DILI, dtype: int64\n"
     ]
    }
   ],
   "source": [
    "print('Features for train / label Dataset before SMOTE: ', X_train.shape, y_train.shape)\n",
    "print('Features for train / label Dataset after SMOTE: ', X_train_over.shape, y_train_over.shape)\n",
    "print('Label value distribution after SMOTE: \\n', pd.Series(y_train_over).value_counts())"
   ]
  },
  {
   "cell_type": "code",
   "execution_count": 121,
   "id": "cbd04fdb",
   "metadata": {},
   "outputs": [
    {
     "name": "stdout",
     "output_type": "stream",
     "text": [
      "Accuracy : 0.61, Precision : 0.66, Recall : 0.60\n",
      "f1-score : 0.63, Balanced Accuracy : 0.61\n"
     ]
    }
   ],
   "source": [
    "lr = LogisticRegression()\n",
    "modeling(lr,X_train_over,X_test,y_train_over,y_test)"
   ]
  },
  {
   "cell_type": "code",
   "execution_count": 123,
   "id": "85344753",
   "metadata": {},
   "outputs": [
    {
     "name": "stdout",
     "output_type": "stream",
     "text": [
      "Accuracy : 0.73, Precision : 0.75, Recall : 0.74\n",
      "f1-score : 0.75, Balanced Accuracy : 0.72\n"
     ]
    }
   ],
   "source": [
    "lgbm = LGBMClassifier()\n",
    "modeling(lgbm, X_train_over, X_test, y_train_over, y_test)"
   ]
  },
  {
   "cell_type": "code",
   "execution_count": 124,
   "id": "13fe23c3",
   "metadata": {},
   "outputs": [
    {
     "name": "stdout",
     "output_type": "stream",
     "text": [
      "Accuracy : 0.73, Precision : 0.76, Recall : 0.72\n",
      "f1-score : 0.74, Balanced Accuracy : 0.73\n"
     ]
    }
   ],
   "source": [
    "model = RandomForestClassifier()\n",
    "modeling(model, X_train_over, X_test, y_train_over, y_test)"
   ]
  },
  {
   "cell_type": "code",
   "execution_count": 126,
   "id": "d4f032ca",
   "metadata": {},
   "outputs": [
    {
     "name": "stdout",
     "output_type": "stream",
     "text": [
      "Accuracy : 0.63, Precision : 0.67, Recall : 0.62\n",
      "f1-score : 0.65, Balanced Accuracy : 0.63\n"
     ]
    }
   ],
   "source": [
    "model = KNeighborsClassifier()\n",
    "modeling(model, X_train_over, X_test, y_train_over, y_test)"
   ]
  },
  {
   "cell_type": "code",
   "execution_count": 128,
   "id": "991f6a13",
   "metadata": {},
   "outputs": [
    {
     "name": "stdout",
     "output_type": "stream",
     "text": [
      "Accuracy : 0.55, Precision : 0.58, Recall : 0.65\n",
      "f1-score : 0.61, Balanced Accuracy : 0.55\n"
     ]
    }
   ],
   "source": [
    "model = SVC()\n",
    "modeling(model, X_train_over, X_test, y_train_over, y_test)"
   ]
  },
  {
   "cell_type": "code",
   "execution_count": 147,
   "id": "dba30d87",
   "metadata": {},
   "outputs": [],
   "source": [
    "smote = SMOTE(random_state=0)\n",
    "X_train_scaled_over,y_train_over = smote.fit_resample(X_train_scaled,y_train)"
   ]
  },
  {
   "cell_type": "code",
   "execution_count": 148,
   "id": "c3a352f6",
   "metadata": {},
   "outputs": [
    {
     "name": "stdout",
     "output_type": "stream",
     "text": [
      "Accuracy : 0.69, Precision : 0.73, Recall : 0.67\n",
      "f1-score : 0.70, Balanced Accuracy : 0.69\n"
     ]
    }
   ],
   "source": [
    "model = LogisticRegression()\n",
    "modeling(model, X_train_scaled_over, X_test_scaled, y_train_over, y_test)"
   ]
  },
  {
   "cell_type": "code",
   "execution_count": 149,
   "id": "18a0b3a3",
   "metadata": {},
   "outputs": [
    {
     "name": "stdout",
     "output_type": "stream",
     "text": [
      "Accuracy : 0.72, Precision : 0.74, Recall : 0.76\n",
      "f1-score : 0.75, Balanced Accuracy : 0.72\n"
     ]
    }
   ],
   "source": [
    "model = LGBMClassifier()\n",
    "modeling(model, X_train_scaled_over, X_test_scaled, y_train_over, y_test)"
   ]
  },
  {
   "cell_type": "code",
   "execution_count": 150,
   "id": "bb9f8d34",
   "metadata": {},
   "outputs": [
    {
     "name": "stdout",
     "output_type": "stream",
     "text": [
      "Accuracy : 0.71, Precision : 0.73, Recall : 0.74\n",
      "f1-score : 0.74, Balanced Accuracy : 0.71\n"
     ]
    }
   ],
   "source": [
    "model = RandomForestClassifier()\n",
    "modeling(model, X_train_scaled_over, X_test_scaled, y_train_over, y_test)"
   ]
  },
  {
   "cell_type": "code",
   "execution_count": 151,
   "id": "971b3e69",
   "metadata": {},
   "outputs": [
    {
     "name": "stdout",
     "output_type": "stream",
     "text": [
      "Accuracy : 0.58, Precision : 0.67, Recall : 0.45\n",
      "f1-score : 0.54, Balanced Accuracy : 0.59\n"
     ]
    }
   ],
   "source": [
    "model = KNeighborsClassifier()\n",
    "modeling(model, X_train_scaled_over, X_test_scaled, y_train_over, y_test)"
   ]
  },
  {
   "cell_type": "code",
   "execution_count": 152,
   "id": "7f2d2531",
   "metadata": {},
   "outputs": [
    {
     "name": "stdout",
     "output_type": "stream",
     "text": [
      "Accuracy : 0.72, Precision : 0.74, Recall : 0.76\n",
      "f1-score : 0.75, Balanced Accuracy : 0.72\n"
     ]
    }
   ],
   "source": [
    "model = SVC()\n",
    "modeling(model, X_train_scaled_over, X_test_scaled, y_train_over, y_test)"
   ]
  },
  {
   "cell_type": "code",
   "execution_count": 165,
   "id": "599c8614",
   "metadata": {},
   "outputs": [
    {
     "name": "stdout",
     "output_type": "stream",
     "text": [
      "Accuracy : 0.69, Precision : 0.71, Recall : 0.71\n",
      "f1-score : 0.71, Balanced Accuracy : 0.68\n",
      "\n",
      "\n",
      "Accuracy : 0.68, Precision : 0.71, Recall : 0.69\n",
      "f1-score : 0.70, Balanced Accuracy : 0.68\n",
      "\n",
      "\n",
      "Accuracy : 0.68, Precision : 0.72, Recall : 0.69\n",
      "f1-score : 0.70, Balanced Accuracy : 0.68\n",
      "\n",
      "\n",
      "Accuracy : 0.68, Precision : 0.71, Recall : 0.68\n",
      "f1-score : 0.70, Balanced Accuracy : 0.68\n",
      "\n",
      "\n",
      "Accuracy : 0.68, Precision : 0.71, Recall : 0.68\n",
      "f1-score : 0.70, Balanced Accuracy : 0.68\n",
      "\n",
      "\n",
      "Accuracy : 0.67, Precision : 0.70, Recall : 0.67\n",
      "f1-score : 0.69, Balanced Accuracy : 0.67\n",
      "\n",
      "\n",
      "Accuracy : 0.67, Precision : 0.71, Recall : 0.68\n",
      "f1-score : 0.70, Balanced Accuracy : 0.67\n",
      "\n",
      "\n",
      "Accuracy : 0.67, Precision : 0.70, Recall : 0.68\n",
      "f1-score : 0.69, Balanced Accuracy : 0.67\n",
      "\n",
      "\n",
      "Accuracy : 0.67, Precision : 0.71, Recall : 0.68\n",
      "f1-score : 0.69, Balanced Accuracy : 0.67\n",
      "\n",
      "\n",
      "Accuracy : 0.67, Precision : 0.71, Recall : 0.68\n",
      "f1-score : 0.70, Balanced Accuracy : 0.67\n",
      "\n",
      "\n",
      "Accuracy : 0.67, Precision : 0.71, Recall : 0.67\n",
      "f1-score : 0.69, Balanced Accuracy : 0.67\n",
      "\n",
      "\n",
      "Accuracy : 0.67, Precision : 0.71, Recall : 0.68\n",
      "f1-score : 0.69, Balanced Accuracy : 0.67\n",
      "\n",
      "\n",
      "Accuracy : 0.67, Precision : 0.71, Recall : 0.67\n",
      "f1-score : 0.69, Balanced Accuracy : 0.67\n",
      "\n",
      "\n",
      "Accuracy : 0.67, Precision : 0.71, Recall : 0.68\n",
      "f1-score : 0.69, Balanced Accuracy : 0.67\n",
      "\n",
      "\n",
      "Accuracy : 0.67, Precision : 0.71, Recall : 0.67\n",
      "f1-score : 0.69, Balanced Accuracy : 0.67\n",
      "\n",
      "\n",
      "Accuracy : 0.66, Precision : 0.70, Recall : 0.67\n",
      "f1-score : 0.68, Balanced Accuracy : 0.66\n",
      "\n",
      "\n",
      "Accuracy : 0.66, Precision : 0.70, Recall : 0.67\n",
      "f1-score : 0.68, Balanced Accuracy : 0.66\n",
      "\n",
      "\n",
      "Accuracy : 0.67, Precision : 0.70, Recall : 0.67\n",
      "f1-score : 0.69, Balanced Accuracy : 0.67\n",
      "\n",
      "\n",
      "Accuracy : 0.67, Precision : 0.70, Recall : 0.67\n",
      "f1-score : 0.69, Balanced Accuracy : 0.67\n",
      "\n",
      "\n",
      "Accuracy : 0.66, Precision : 0.70, Recall : 0.68\n",
      "f1-score : 0.69, Balanced Accuracy : 0.66\n",
      "\n",
      "\n",
      "Accuracy : 0.66, Precision : 0.70, Recall : 0.67\n",
      "f1-score : 0.68, Balanced Accuracy : 0.66\n",
      "\n",
      "\n",
      "Accuracy : 0.67, Precision : 0.70, Recall : 0.67\n",
      "f1-score : 0.69, Balanced Accuracy : 0.67\n",
      "\n",
      "\n",
      "Accuracy : 0.66, Precision : 0.70, Recall : 0.67\n",
      "f1-score : 0.69, Balanced Accuracy : 0.66\n",
      "\n",
      "\n",
      "Accuracy : 0.67, Precision : 0.71, Recall : 0.67\n",
      "f1-score : 0.69, Balanced Accuracy : 0.67\n",
      "\n",
      "\n",
      "Accuracy : 0.67, Precision : 0.70, Recall : 0.67\n",
      "f1-score : 0.69, Balanced Accuracy : 0.67\n",
      "\n",
      "\n",
      "Accuracy : 0.67, Precision : 0.70, Recall : 0.67\n",
      "f1-score : 0.69, Balanced Accuracy : 0.67\n",
      "\n",
      "\n",
      "Accuracy : 0.67, Precision : 0.70, Recall : 0.67\n",
      "f1-score : 0.69, Balanced Accuracy : 0.67\n",
      "\n",
      "\n",
      "Accuracy : 0.67, Precision : 0.70, Recall : 0.67\n",
      "f1-score : 0.69, Balanced Accuracy : 0.67\n",
      "\n",
      "\n",
      "Accuracy : 0.67, Precision : 0.71, Recall : 0.67\n",
      "f1-score : 0.69, Balanced Accuracy : 0.67\n",
      "\n",
      "\n",
      "Accuracy : 0.66, Precision : 0.70, Recall : 0.68\n",
      "f1-score : 0.69, Balanced Accuracy : 0.66\n",
      "\n",
      "\n",
      "Accuracy : 0.67, Precision : 0.70, Recall : 0.67\n",
      "f1-score : 0.69, Balanced Accuracy : 0.67\n",
      "\n",
      "\n",
      "Accuracy : 0.67, Precision : 0.71, Recall : 0.67\n",
      "f1-score : 0.69, Balanced Accuracy : 0.67\n",
      "\n",
      "\n",
      "Accuracy : 0.66, Precision : 0.70, Recall : 0.67\n",
      "f1-score : 0.68, Balanced Accuracy : 0.66\n",
      "\n",
      "\n",
      "Accuracy : 0.67, Precision : 0.70, Recall : 0.67\n",
      "f1-score : 0.69, Balanced Accuracy : 0.67\n",
      "\n",
      "\n",
      "Accuracy : 0.67, Precision : 0.71, Recall : 0.67\n",
      "f1-score : 0.69, Balanced Accuracy : 0.67\n",
      "\n",
      "\n",
      "Accuracy : 0.67, Precision : 0.70, Recall : 0.67\n",
      "f1-score : 0.69, Balanced Accuracy : 0.67\n",
      "\n",
      "\n",
      "Accuracy : 0.67, Precision : 0.70, Recall : 0.67\n",
      "f1-score : 0.69, Balanced Accuracy : 0.67\n",
      "\n",
      "\n",
      "Accuracy : 0.66, Precision : 0.70, Recall : 0.67\n",
      "f1-score : 0.69, Balanced Accuracy : 0.66\n",
      "\n",
      "\n",
      "Accuracy : 0.67, Precision : 0.70, Recall : 0.67\n",
      "f1-score : 0.69, Balanced Accuracy : 0.67\n",
      "\n",
      "\n",
      "Accuracy : 0.66, Precision : 0.70, Recall : 0.67\n",
      "f1-score : 0.69, Balanced Accuracy : 0.66\n",
      "\n",
      "\n",
      "Accuracy : 0.66, Precision : 0.69, Recall : 0.67\n",
      "f1-score : 0.68, Balanced Accuracy : 0.66\n",
      "\n",
      "\n",
      "Accuracy : 0.66, Precision : 0.69, Recall : 0.67\n",
      "f1-score : 0.68, Balanced Accuracy : 0.66\n",
      "\n",
      "\n",
      "Accuracy : 0.66, Precision : 0.69, Recall : 0.67\n",
      "f1-score : 0.68, Balanced Accuracy : 0.66\n",
      "\n",
      "\n",
      "Accuracy : 0.66, Precision : 0.69, Recall : 0.67\n",
      "f1-score : 0.68, Balanced Accuracy : 0.66\n",
      "\n",
      "\n",
      "Accuracy : 0.66, Precision : 0.70, Recall : 0.67\n",
      "f1-score : 0.69, Balanced Accuracy : 0.66\n",
      "\n",
      "\n",
      "Accuracy : 0.67, Precision : 0.70, Recall : 0.67\n",
      "f1-score : 0.69, Balanced Accuracy : 0.67\n",
      "\n",
      "\n",
      "Accuracy : 0.66, Precision : 0.69, Recall : 0.67\n",
      "f1-score : 0.68, Balanced Accuracy : 0.66\n",
      "\n",
      "\n",
      "Accuracy : 0.66, Precision : 0.70, Recall : 0.67\n",
      "f1-score : 0.68, Balanced Accuracy : 0.66\n",
      "\n",
      "\n",
      "Accuracy : 0.66, Precision : 0.69, Recall : 0.67\n",
      "f1-score : 0.68, Balanced Accuracy : 0.66\n",
      "\n",
      "\n",
      "Accuracy : 0.66, Precision : 0.69, Recall : 0.67\n",
      "f1-score : 0.68, Balanced Accuracy : 0.66\n",
      "\n",
      "\n",
      "Accuracy : 0.66, Precision : 0.69, Recall : 0.67\n",
      "f1-score : 0.68, Balanced Accuracy : 0.66\n",
      "\n",
      "\n",
      "Accuracy : 0.66, Precision : 0.69, Recall : 0.67\n",
      "f1-score : 0.68, Balanced Accuracy : 0.66\n",
      "\n",
      "\n",
      "Accuracy : 0.66, Precision : 0.69, Recall : 0.67\n",
      "f1-score : 0.68, Balanced Accuracy : 0.66\n",
      "\n",
      "\n",
      "Accuracy : 0.66, Precision : 0.70, Recall : 0.67\n",
      "f1-score : 0.69, Balanced Accuracy : 0.66\n",
      "\n",
      "\n",
      "Accuracy : 0.66, Precision : 0.69, Recall : 0.67\n",
      "f1-score : 0.68, Balanced Accuracy : 0.66\n",
      "\n",
      "\n",
      "Accuracy : 0.66, Precision : 0.69, Recall : 0.67\n",
      "f1-score : 0.68, Balanced Accuracy : 0.66\n",
      "\n",
      "\n",
      "Accuracy : 0.66, Precision : 0.69, Recall : 0.67\n",
      "f1-score : 0.68, Balanced Accuracy : 0.66\n",
      "\n",
      "\n",
      "Accuracy : 0.66, Precision : 0.69, Recall : 0.67\n",
      "f1-score : 0.68, Balanced Accuracy : 0.66\n",
      "\n",
      "\n",
      "Accuracy : 0.66, Precision : 0.69, Recall : 0.67\n",
      "f1-score : 0.68, Balanced Accuracy : 0.65\n",
      "\n",
      "\n",
      "Accuracy : 0.66, Precision : 0.69, Recall : 0.67\n",
      "f1-score : 0.68, Balanced Accuracy : 0.65\n",
      "\n",
      "\n",
      "Accuracy : 0.65, Precision : 0.69, Recall : 0.66\n",
      "f1-score : 0.68, Balanced Accuracy : 0.65\n",
      "\n",
      "\n",
      "Accuracy : 0.66, Precision : 0.70, Recall : 0.67\n",
      "f1-score : 0.68, Balanced Accuracy : 0.66\n",
      "\n",
      "\n",
      "Accuracy : 0.66, Precision : 0.69, Recall : 0.67\n",
      "f1-score : 0.68, Balanced Accuracy : 0.66\n",
      "\n",
      "\n",
      "Accuracy : 0.66, Precision : 0.69, Recall : 0.67\n",
      "f1-score : 0.68, Balanced Accuracy : 0.66\n",
      "\n",
      "\n",
      "Accuracy : 0.66, Precision : 0.69, Recall : 0.67\n",
      "f1-score : 0.68, Balanced Accuracy : 0.66\n",
      "\n",
      "\n",
      "Accuracy : 0.66, Precision : 0.69, Recall : 0.67\n",
      "f1-score : 0.68, Balanced Accuracy : 0.66\n",
      "\n",
      "\n",
      "Accuracy : 0.66, Precision : 0.69, Recall : 0.67\n",
      "f1-score : 0.68, Balanced Accuracy : 0.66\n",
      "\n",
      "\n",
      "Accuracy : 0.66, Precision : 0.69, Recall : 0.67\n",
      "f1-score : 0.68, Balanced Accuracy : 0.66\n",
      "\n",
      "\n",
      "Accuracy : 0.66, Precision : 0.69, Recall : 0.67\n",
      "f1-score : 0.68, Balanced Accuracy : 0.66\n",
      "\n",
      "\n",
      "Accuracy : 0.66, Precision : 0.69, Recall : 0.67\n",
      "f1-score : 0.68, Balanced Accuracy : 0.66\n",
      "\n",
      "\n",
      "Accuracy : 0.66, Precision : 0.69, Recall : 0.67\n",
      "f1-score : 0.68, Balanced Accuracy : 0.66\n",
      "\n",
      "\n",
      "Accuracy : 0.65, Precision : 0.69, Recall : 0.67\n",
      "f1-score : 0.68, Balanced Accuracy : 0.65\n",
      "\n",
      "\n",
      "Accuracy : 0.66, Precision : 0.70, Recall : 0.67\n",
      "f1-score : 0.68, Balanced Accuracy : 0.66\n",
      "\n",
      "\n",
      "Accuracy : 0.66, Precision : 0.69, Recall : 0.67\n",
      "f1-score : 0.68, Balanced Accuracy : 0.66\n",
      "\n",
      "\n",
      "Accuracy : 0.65, Precision : 0.69, Recall : 0.67\n",
      "f1-score : 0.68, Balanced Accuracy : 0.65\n",
      "\n",
      "\n",
      "Accuracy : 0.65, Precision : 0.69, Recall : 0.66\n",
      "f1-score : 0.68, Balanced Accuracy : 0.65\n",
      "\n",
      "\n",
      "Accuracy : 0.66, Precision : 0.69, Recall : 0.67\n",
      "f1-score : 0.68, Balanced Accuracy : 0.66\n",
      "\n",
      "\n",
      "Accuracy : 0.65, Precision : 0.69, Recall : 0.67\n",
      "f1-score : 0.68, Balanced Accuracy : 0.65\n",
      "\n",
      "\n",
      "Accuracy : 0.66, Precision : 0.69, Recall : 0.67\n",
      "f1-score : 0.68, Balanced Accuracy : 0.66\n",
      "\n",
      "\n",
      "Accuracy : 0.66, Precision : 0.69, Recall : 0.67\n",
      "f1-score : 0.68, Balanced Accuracy : 0.66\n",
      "\n",
      "\n",
      "Accuracy : 0.66, Precision : 0.70, Recall : 0.67\n",
      "f1-score : 0.68, Balanced Accuracy : 0.66\n",
      "\n",
      "\n",
      "Accuracy : 0.66, Precision : 0.70, Recall : 0.67\n",
      "f1-score : 0.68, Balanced Accuracy : 0.66\n",
      "\n",
      "\n",
      "Accuracy : 0.66, Precision : 0.69, Recall : 0.67\n",
      "f1-score : 0.68, Balanced Accuracy : 0.66\n",
      "\n",
      "\n",
      "Accuracy : 0.66, Precision : 0.69, Recall : 0.67\n",
      "f1-score : 0.68, Balanced Accuracy : 0.66\n",
      "\n",
      "\n",
      "Accuracy : 0.66, Precision : 0.69, Recall : 0.67\n",
      "f1-score : 0.68, Balanced Accuracy : 0.66\n",
      "\n",
      "\n",
      "Accuracy : 0.66, Precision : 0.70, Recall : 0.67\n",
      "f1-score : 0.68, Balanced Accuracy : 0.66\n",
      "\n",
      "\n",
      "Accuracy : 0.66, Precision : 0.70, Recall : 0.67\n",
      "f1-score : 0.68, Balanced Accuracy : 0.66\n",
      "\n",
      "\n",
      "Accuracy : 0.66, Precision : 0.70, Recall : 0.67\n",
      "f1-score : 0.68, Balanced Accuracy : 0.66\n",
      "\n",
      "\n",
      "Accuracy : 0.66, Precision : 0.70, Recall : 0.67\n",
      "f1-score : 0.68, Balanced Accuracy : 0.66\n",
      "\n",
      "\n"
     ]
    },
    {
     "name": "stdout",
     "output_type": "stream",
     "text": [
      "Accuracy : 0.66, Precision : 0.69, Recall : 0.67\n",
      "f1-score : 0.68, Balanced Accuracy : 0.66\n",
      "\n",
      "\n",
      "Accuracy : 0.66, Precision : 0.70, Recall : 0.67\n",
      "f1-score : 0.69, Balanced Accuracy : 0.66\n",
      "\n",
      "\n",
      "Accuracy : 0.66, Precision : 0.70, Recall : 0.67\n",
      "f1-score : 0.68, Balanced Accuracy : 0.66\n",
      "\n",
      "\n",
      "Accuracy : 0.66, Precision : 0.70, Recall : 0.67\n",
      "f1-score : 0.68, Balanced Accuracy : 0.66\n",
      "\n",
      "\n",
      "Accuracy : 0.66, Precision : 0.70, Recall : 0.67\n",
      "f1-score : 0.68, Balanced Accuracy : 0.66\n",
      "\n",
      "\n",
      "Accuracy : 0.66, Precision : 0.69, Recall : 0.67\n",
      "f1-score : 0.68, Balanced Accuracy : 0.66\n",
      "\n",
      "\n",
      "Accuracy : 0.66, Precision : 0.70, Recall : 0.67\n",
      "f1-score : 0.69, Balanced Accuracy : 0.66\n",
      "\n",
      "\n",
      "Accuracy : 0.66, Precision : 0.70, Recall : 0.67\n",
      "f1-score : 0.69, Balanced Accuracy : 0.66\n",
      "\n",
      "\n",
      "Accuracy : 0.66, Precision : 0.70, Recall : 0.67\n",
      "f1-score : 0.69, Balanced Accuracy : 0.66\n",
      "\n",
      "\n",
      "Accuracy : 0.66, Precision : 0.70, Recall : 0.67\n",
      "f1-score : 0.68, Balanced Accuracy : 0.66\n",
      "\n",
      "\n"
     ]
    }
   ],
   "source": [
    "for i in range(1,100):\n",
    "    model = LogisticRegression(C=i*10)\n",
    "    modeling(model, X_train_scaled, X_test_scaled, y_train, y_test)\n",
    "    print('\\n')"
   ]
  },
  {
   "cell_type": "code",
   "execution_count": null,
   "id": "1c86680f",
   "metadata": {},
   "outputs": [],
   "source": []
  }
 ],
 "metadata": {
  "kernelspec": {
   "display_name": "Python [conda env:my-rdkit-env] *",
   "language": "python",
   "name": "conda-env-my-rdkit-env-py"
  },
  "language_info": {
   "codemirror_mode": {
    "name": "ipython",
    "version": 3
   },
   "file_extension": ".py",
   "mimetype": "text/x-python",
   "name": "python",
   "nbconvert_exporter": "python",
   "pygments_lexer": "ipython3",
   "version": "3.7.10"
  }
 },
 "nbformat": 4,
 "nbformat_minor": 5
}

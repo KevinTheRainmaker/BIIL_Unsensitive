{
 "cells": [
  {
   "cell_type": "code",
   "execution_count": 2,
   "id": "0606882e",
   "metadata": {},
   "outputs": [],
   "source": [
    "import pandas as pd\n",
    "# import numpy as np\n",
    "# import torch\n",
    "\n",
    "from sklearn.model_selection import train_test_split\n",
    "# from sklearn.preprocessing import MinMaxScaler\n",
    "from sklearn.metrics import *\n",
    "from sklearn.linear_model import LogisticRegression\n",
    "from lightgbm import LGBMClassifier\n",
    "# import torch.utils.data as data_utils\n",
    "# from imblearn.over_sampling import SMOTE\n",
    "\n",
    "import warnings\n",
    "warnings.filterwarnings(\"ignore\")"
   ]
  },
  {
   "cell_type": "code",
   "execution_count": 3,
   "id": "223b1614",
   "metadata": {},
   "outputs": [],
   "source": [
    "#Modeling\n",
    "def modeling(model,x_train,x_test,y_train,y_test):\n",
    "    model.fit(x_train,y_train)\n",
    "    pred = model.predict(x_test)\n",
    "    metrics(y_test,pred)"
   ]
  },
  {
   "cell_type": "code",
   "execution_count": 4,
   "id": "bc38696c",
   "metadata": {},
   "outputs": [],
   "source": [
    "#Metircs\n",
    "def metrics(y_test,pred):\n",
    "    accuracy = accuracy_score(y_test,pred)\n",
    "    precision = precision_score(y_test,pred)\n",
    "    recall = recall_score(y_test,pred)\n",
    "    f1 = f1_score(y_test,pred)\n",
    "    roc_score = roc_auc_score(y_test,pred,average='macro')\n",
    "    print('Accuracy : {0:.2f}, Precision : {1:.2f}, Recall : {2:.2f}'.format(accuracy,precision,recall))\n",
    "    print('f1-score : {0:.2f}, auc : {1:.2f}'.format(f1,roc_score,recall))"
   ]
  },
  {
   "cell_type": "code",
   "execution_count": 5,
   "id": "36d94115",
   "metadata": {},
   "outputs": [],
   "source": [
    "#SMOTE\n",
    "# smote = SMOTE(random_state=0)\n",
    "# X_train_over,y_train_over = smote.fit_sample(X_train,y_train)\n",
    "# print('Features for train / label Dataset before SMOTE: ', X_train.shape, y_train.shape)\n",
    "# print('Features for train / label Dataset after SMOTE: ', X_train_over.shape, y_train_over.shape)\n",
    "# print('Label value distribution after SMOTE: \\n', pd.Series(y_train_over).value_counts())"
   ]
  },
  {
   "cell_type": "code",
   "execution_count": null,
   "id": "3f2de9fb",
   "metadata": {},
   "outputs": [],
   "source": [
    "###########################\n",
    "# Do not run this cell yet\n",
    "###########################\n",
    "\n",
    "df = pd.read_csv('data.csv') # Need to input Binary class Data\n",
    "df.Class.value_counts(normalize=True).plot(kind='bar')\n",
    "print(df.Class.value_counts(normalize=True)*100)\n",
    "\n",
    "X = df.iloc[:,:-1]\n",
    "y = df.iloc[:,-1]\n",
    "X_train, X_test, y_train, y_test = train_test_split(X,y,test_size=0.25,random_state=10)\n",
    "\n",
    "#Logistic\n",
    "lr = LogisticRegression()\n",
    "modeling(lr,X_train_over,X_test,y_train_over,y_test)\n",
    "\n",
    "#lightgbm\n",
    "lgb = LGBMClassifier(n_estimators=1000,num_leaves=64,n_jobs=-1,boost_from_average=False)\n",
    "modeling(lgb,X_train_over,X_test,y_train_over,y_test)"
   ]
  }
 ],
 "metadata": {
  "kernelspec": {
   "display_name": "Python [conda env:my-rdkit-env] *",
   "language": "python",
   "name": "conda-env-my-rdkit-env-py"
  },
  "language_info": {
   "codemirror_mode": {
    "name": "ipython",
    "version": 3
   },
   "file_extension": ".py",
   "mimetype": "text/x-python",
   "name": "python",
   "nbconvert_exporter": "python",
   "pygments_lexer": "ipython3",
   "version": "3.7.10"
  }
 },
 "nbformat": 4,
 "nbformat_minor": 5
}

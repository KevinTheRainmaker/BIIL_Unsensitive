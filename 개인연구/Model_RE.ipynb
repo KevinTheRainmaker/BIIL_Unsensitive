{
 "cells": [
  {
   "cell_type": "code",
   "execution_count": 20,
   "id": "9b3b4e84",
   "metadata": {},
   "outputs": [],
   "source": [
    "import pandas as pd\n",
    "import numpy as np\n",
    "\n",
    "from sklearn.model_selection import train_test_split\n",
    "from sklearn.model_selection import cross_val_score\n",
    "\n",
    "from sklearn.preprocessing import MinMaxScaler\n",
    "from sklearn.metrics import *\n",
    "from sklearn.model_selection import StratifiedKFold\n",
    "\n",
    "from sklearn.linear_model import LogisticRegression\n",
    "from lightgbm import LGBMClassifier\n",
    "from sklearn.neighbors import KNeighborsClassifier\n",
    "from sklearn.ensemble import RandomForestClassifier\n",
    "from sklearn.svm import SVC\n",
    "\n",
    "from imblearn.over_sampling import SMOTE\n",
    "\n",
    "import warnings\n",
    "warnings.filterwarnings(\"ignore\")"
   ]
  },
  {
   "cell_type": "code",
   "execution_count": 21,
   "id": "39d26fa9",
   "metadata": {},
   "outputs": [],
   "source": [
    "#Stratified CV\n",
    "skf = StratifiedKFold(n_splits=5, shuffle=True, random_state=10)"
   ]
  },
  {
   "cell_type": "code",
   "execution_count": 22,
   "id": "d7b28123",
   "metadata": {},
   "outputs": [],
   "source": [
    "#Metircs\n",
    "def metrics(model, data, target, cv=skf):\n",
    "    accuracy = cross_val_score(model, data, target, cv=skf, scoring = 'accuracy', error_score = 'raise').mean()\n",
    "    precision = cross_val_score(model, data, target, cv=skf, scoring = 'precision_macro', error_score = 'raise').mean()\n",
    "    recall = cross_val_score(model, data, target, cv=skf, scoring = 'recall_macro', error_score = 'raise').mean()\n",
    "    f1 = cross_val_score(model, data, target, cv=skf, scoring = 'f1_macro', error_score = 'raise').mean()\n",
    "    balanced = cross_val_score(model, data, target, cv=skf, scoring = 'balanced_accuracy', error_score = 'raise').mean()\n",
    "    print(f'Accuracy : \\t\\t{accuracy}')\n",
    "    print(f'Precision : \\t\\t{precision}')\n",
    "    print(f'Recall : \\t\\t{recall}')\n",
    "    print(f'F1 : \\t\\t\\t{f1}')\n",
    "    print(f'Balanced Accuracy : \\t{balanced}')"
   ]
  },
  {
   "cell_type": "code",
   "execution_count": 23,
   "id": "56b6bc22",
   "metadata": {},
   "outputs": [],
   "source": [
    "#MinMaxScaler\n",
    "def minMax(data):\n",
    "    scaler = MinMaxScaler()\n",
    "    scaler.fit(data)\n",
    "    scale = scaler.transform(data)\n",
    "\n",
    "    scaled_df = pd.DataFrame(scale)\n",
    "    \n",
    "    return scaled_df"
   ]
  },
  {
   "cell_type": "code",
   "execution_count": 24,
   "id": "0759a0e8",
   "metadata": {},
   "outputs": [],
   "source": [
    "#SMOTE\n",
    "def smote(data, target):\n",
    "    smote = SMOTE(random_state=0)\n",
    "    X_over, y_over = smote.fit_resample(data, target)\n",
    "    return X_over, y_over"
   ]
  },
  {
   "cell_type": "code",
   "execution_count": 25,
   "id": "16f48708",
   "metadata": {},
   "outputs": [],
   "source": [
    "#LogisticRegression\n",
    "def lr_increaseC(data, target):\n",
    "    print('Logistic Regression')\n",
    "    for i in [1,2,4,8,16,32,64,128]:\n",
    "        print(f'Cost Function: {i}')\n",
    "        model = LogisticRegression(C=i)\n",
    "        metrics(model, data, target)"
   ]
  },
  {
   "cell_type": "code",
   "execution_count": 26,
   "id": "ef8fa75b",
   "metadata": {},
   "outputs": [],
   "source": [
    "#LGBM\n",
    "def lgbm_increaseTree(data, target):\n",
    "    print('LGBM Classifier')\n",
    "    for i in range(10):\n",
    "        print(f'Tree: {i}')\n",
    "        model = LGBMClassifier(n_estimators = (i+1) * 100)\n",
    "        metrics(model, data, target)"
   ]
  },
  {
   "cell_type": "code",
   "execution_count": 27,
   "id": "e061c487",
   "metadata": {},
   "outputs": [],
   "source": [
    "#RandomForest\n",
    "def rf_increaseTree(data, target):\n",
    "    print('RandomForest')\n",
    "    for i in range(10):\n",
    "        print(f'Tree: {i}')\n",
    "        model = RandomForestClassifier(n_estimators = (i+1) * 100)\n",
    "        metrics(model, data, target)"
   ]
  },
  {
   "cell_type": "code",
   "execution_count": 28,
   "id": "719266ea",
   "metadata": {},
   "outputs": [],
   "source": [
    "#k-NN\n",
    "def knn_increaseK(data, target):\n",
    "    print('k-NN')\n",
    "    for i in [3,5,7]:\n",
    "        print(f'k: {i}')\n",
    "        model = KNeighborsClassifier(n_neighbors=i)\n",
    "        metrics(model, data, target)"
   ]
  },
  {
   "cell_type": "code",
   "execution_count": 29,
   "id": "4d08e0ac",
   "metadata": {},
   "outputs": [],
   "source": [
    "#SVC\n",
    "def svc_increaseCGamma(data, target):\n",
    "    print('SVM')\n",
    "    for i in [1,10,100]:\n",
    "        for j in [1,10,100]:\n",
    "            print(f'Cost: {i}')\n",
    "            print(f'Gamma: {j}')\n",
    "            model = SVC(C=i, gamma=j)\n",
    "            metrics(model, data, target)"
   ]
  },
  {
   "cell_type": "code",
   "execution_count": 30,
   "id": "510d56c6",
   "metadata": {},
   "outputs": [],
   "source": [
    "#Start\n",
    "def run_models(data, target):\n",
    "    lr_increaseC(data,target)\n",
    "    lgbm_increaseTree(data,target)\n",
    "    rf_increaseTree(data,target)\n",
    "    knn_increaseK(data,target)\n",
    "    svc_increaseCGamma(data,target)"
   ]
  },
  {
   "cell_type": "code",
   "execution_count": 31,
   "id": "f230f877",
   "metadata": {},
   "outputs": [],
   "source": [
    "def include_processing(X, y):\n",
    "    print('---------Basic---------')\n",
    "    run_models(X,y)\n",
    "    \n",
    "    print('---------MinMax---------')\n",
    "    X_scaled = minMax(X)\n",
    "    run_models(X_scaled, y)\n",
    "    \n",
    "    print('---------SMOTE---------')\n",
    "    X_over, y_over = smote(X_scaled,y)\n",
    "    run_models(X_over, y_over)"
   ]
  },
  {
   "cell_type": "markdown",
   "id": "67a4228e",
   "metadata": {},
   "source": [
    "# Binary Classification"
   ]
  },
  {
   "cell_type": "markdown",
   "id": "0275315b",
   "metadata": {},
   "source": [
    "## DILI"
   ]
  },
  {
   "cell_type": "code",
   "execution_count": 32,
   "id": "79b42f6b",
   "metadata": {},
   "outputs": [
    {
     "name": "stdout",
     "output_type": "stream",
     "text": [
      "1    54.447439\n",
      "0    45.552561\n",
      "Name: DILI, dtype: float64\n"
     ]
    },
    {
     "data": {
      "image/png": "[encoded data removed]",
      "text/plain": [
       "<Figure size 432x288 with 1 Axes>"
      ]
     },
     "metadata": {
      "needs_background": "light"
     },
     "output_type": "display_data"
    }
   ],
   "source": [
    "df_raw = pd.read_csv('DILI/final/DILI_GSD.csv') # Need to input Binary class Data\n",
    "df_raw\n",
    "\n",
    "df_raw.DILI.value_counts(normalize=True).plot(kind='bar')\n",
    "print(df_raw.DILI.value_counts(normalize=True)*100)\n",
    "\n",
    "df = df_raw.iloc[:, 3:]\n",
    "X = df.iloc[:,1:]\n",
    "y = df.iloc[:,0]"
   ]
  },
  {
   "cell_type": "code",
   "execution_count": null,
   "id": "6acbfcdf",
   "metadata": {},
   "outputs": [
    {
     "name": "stdout",
     "output_type": "stream",
     "text": [
      "---------Basic---------\n",
      "Logistic Regression\n",
      "Cost Function: 1\n",
      "Accuracy : \t\t0.5943447372398851\n",
      "Precision : \t\t0.5894545961386235\n",
      "Recall : \t\t0.5799959769906764\n",
      "F1 : \t\t\t0.5747369536689464\n",
      "Balanced Accuracy : \t0.5799959769906764\n",
      "Cost Function: 2\n",
      "Accuracy : \t\t0.5916501234443493\n",
      "Precision : \t\t0.5864301262909267\n",
      "Recall : \t\t0.5769255911675326\n",
      "F1 : \t\t\t0.5711129900781129\n",
      "Balanced Accuracy : \t0.5769255911675326\n",
      "Cost Function: 4\n",
      "Accuracy : \t\t0.5889484556859979\n",
      "Precision : \t\t0.5837279654544676\n",
      "Recall : \t\t0.5747878999971452\n",
      "F1 : \t\t\t0.5696037832035558\n",
      "Balanced Accuracy : \t0.5747878999971452\n",
      "Cost Function: 8\n",
      "Accuracy : \t\t0.5929954149241699\n",
      "Precision : \t\t0.589891751825063\n",
      "Recall : \t\t0.5753436645517233\n",
      "F1 : \t\t\t0.5654709657737975\n",
      "Balanced Accuracy : \t0.5753436645517233\n",
      "Cost Function: 16\n",
      "Accuracy : \t\t0.6046747619287549\n",
      "Precision : \t\t0.6015911243537555\n",
      "Recall : \t\t0.5901812609152308\n",
      "F1 : \t\t\t0.5848034503125394\n",
      "Balanced Accuracy : \t0.5901812609152308\n",
      "Cost Function: 32\n",
      "Accuracy : \t\t0.5862528341814884\n",
      "Precision : \t\t0.5811924886847958\n",
      "Recall : \t\t0.5695453671521967\n",
      "F1 : \t\t\t0.5610747257086478\n",
      "Balanced Accuracy : \t0.5695453671521967\n",
      "Cost Function: 64\n",
      "Accuracy : \t\t0.5929964226331437\n",
      "Precision : \t\t0.5880907024410312\n",
      "Recall : \t\t0.5782765803740315\n",
      "F1 : \t\t\t0.5726309846681001\n",
      "Balanced Accuracy : \t0.5782765803740315\n",
      "Cost Function: 128\n",
      "Accuracy : \t\t0.5893938630523505\n",
      "Precision : \t\t0.5841745413392987\n",
      "Recall : \t\t0.5748653203712504\n",
      "F1 : \t\t\t0.568877441958551\n",
      "Balanced Accuracy : \t0.5748653203712504\n",
      "LGBM Classifier\n",
      "Tree: 0\n",
      "Accuracy : \t\t0.7147306897767924\n",
      "Precision : \t\t0.7138328373373269\n",
      "Recall : \t\t0.7087856539049935\n",
      "F1 : \t\t\t0.7097287212816337\n",
      "Balanced Accuracy : \t0.7087856539049935\n",
      "Tree: 1\n",
      "Accuracy : \t\t0.7053005492013906\n",
      "Precision : \t\t0.7038741065189177\n",
      "Recall : \t\t0.6995624571164885\n",
      "F1 : \t\t\t0.7003757332688401\n",
      "Balanced Accuracy : \t0.6995624571164885\n",
      "Tree: 2\n",
      "Accuracy : \t\t0.702152466367713\n",
      "Precision : \t\t0.7007220318687628\n",
      "Recall : \t\t0.6967427049881846\n",
      "F1 : \t\t\t0.6974312502984973\n",
      "Balanced Accuracy : \t0.6967427049881846\n",
      "Tree: 3\n"
     ]
    }
   ],
   "source": [
    "include_processing(X,y)"
   ]
  },
  {
   "cell_type": "markdown",
   "id": "f5cb1d19",
   "metadata": {},
   "source": [
    "## AMES Mutagenicity"
   ]
  },
  {
   "cell_type": "code",
   "execution_count": null,
   "id": "3205cb95",
   "metadata": {},
   "outputs": [],
   "source": [
    "df_raw = pd.read_csv('AMES Mutagenesis/final/AMES_GSD.csv') # Need to input Binary class Data\n",
    "categorical_features = ['fr_Al_OH_noTert','fr_COO','fr_NH2','fr_N_O','fr_Ndealkylation2','fr_Nhpyrrole','fr_alkyl_halide','fr_allylic_oxid','fr_lactam']\n",
    "for var in categorical_features:\n",
    "    df_raw[var] = df_raw[var].astype(\"category\")\n",
    "df_raw['Mutagenicity'] = df_raw['Mutagenicity'].astype('category')\n",
    "\n",
    "df_raw.Mutagenicity.value_counts(normalize=True).plot(kind='bar')\n",
    "print(df_raw.Mutagenicity.value_counts(normalize=True)*100)\n",
    "\n",
    "df = df_raw.iloc[:, 3:]\n",
    "X = df.iloc[:,1:]\n",
    "y = df.iloc[:,0]\n",
    "y = y.astype('category')"
   ]
  },
  {
   "cell_type": "code",
   "execution_count": null,
   "id": "6c55c79a",
   "metadata": {},
   "outputs": [],
   "source": [
    "include_processing(X,y)"
   ]
  },
  {
   "cell_type": "markdown",
   "id": "714e96ea",
   "metadata": {},
   "source": [
    "## hERG"
   ]
  },
  {
   "cell_type": "code",
   "execution_count": null,
   "id": "a2ac346d",
   "metadata": {},
   "outputs": [],
   "source": [
    "df_raw = pd.read_csv('hERG/final/hERG_GSD.csv') # Need to input Binary class Data\n",
    "df_raw.hERG.value_counts(normalize=True).plot(kind='bar')\n",
    "print(df_raw.hERG.value_counts(normalize=True)*100)\n",
    "\n",
    "df = df_raw.iloc[:, 3:]\n",
    "X = df.iloc[:,1:]\n",
    "y = df.iloc[:,0]"
   ]
  },
  {
   "cell_type": "code",
   "execution_count": null,
   "id": "9997c7ac",
   "metadata": {},
   "outputs": [],
   "source": [
    "include_processing(X,y)"
   ]
  },
  {
   "cell_type": "markdown",
   "id": "c751ef58",
   "metadata": {},
   "source": [
    "# Multi-Class Classification"
   ]
  },
  {
   "cell_type": "code",
   "execution_count": null,
   "id": "3efdb5ef",
   "metadata": {},
   "outputs": [],
   "source": []
  },
  {
   "cell_type": "code",
   "execution_count": null,
   "id": "02a9ce51",
   "metadata": {},
   "outputs": [],
   "source": []
  },
  {
   "cell_type": "code",
   "execution_count": null,
   "id": "bd92b442",
   "metadata": {},
   "outputs": [],
   "source": []
  },
  {
   "cell_type": "code",
   "execution_count": null,
   "id": "e3b6e394",
   "metadata": {},
   "outputs": [],
   "source": []
  },
  {
   "cell_type": "code",
   "execution_count": null,
   "id": "e1aa5289",
   "metadata": {},
   "outputs": [],
   "source": []
  },
  {
   "cell_type": "code",
   "execution_count": null,
   "id": "b03bf4ce",
   "metadata": {},
   "outputs": [],
   "source": []
  },
  {
   "cell_type": "code",
   "execution_count": null,
   "id": "42de08e0",
   "metadata": {},
   "outputs": [],
   "source": []
  },
  {
   "cell_type": "code",
   "execution_count": null,
   "id": "41538952",
   "metadata": {},
   "outputs": [],
   "source": []
  },
  {
   "cell_type": "code",
   "execution_count": null,
   "id": "dc507012",
   "metadata": {},
   "outputs": [],
   "source": []
  },
  {
   "cell_type": "code",
   "execution_count": null,
   "id": "26a3f4b2",
   "metadata": {},
   "outputs": [],
   "source": []
  },
  {
   "cell_type": "code",
   "execution_count": null,
   "id": "14ce17b1",
   "metadata": {},
   "outputs": [],
   "source": []
  },
  {
   "cell_type": "code",
   "execution_count": null,
   "id": "909ce0d9",
   "metadata": {},
   "outputs": [],
   "source": []
  },
  {
   "cell_type": "code",
   "execution_count": null,
   "id": "c013f8ca",
   "metadata": {},
   "outputs": [],
   "source": []
  },
  {
   "cell_type": "code",
   "execution_count": null,
   "id": "0218273b",
   "metadata": {},
   "outputs": [],
   "source": []
  },
  {
   "cell_type": "code",
   "execution_count": null,
   "id": "472072ae",
   "metadata": {},
   "outputs": [],
   "source": []
  },
  {
   "cell_type": "code",
   "execution_count": null,
   "id": "246d656b",
   "metadata": {},
   "outputs": [],
   "source": []
  },
  {
   "cell_type": "code",
   "execution_count": null,
   "id": "2d956254",
   "metadata": {},
   "outputs": [],
   "source": []
  },
  {
   "cell_type": "code",
   "execution_count": null,
   "id": "f29b19fc",
   "metadata": {},
   "outputs": [],
   "source": []
  }
 ],
 "metadata": {
  "kernelspec": {
   "display_name": "Python [conda env:my-rdkit-env] *",
   "language": "python",
   "name": "conda-env-my-rdkit-env-py"
  },
  "language_info": {
   "codemirror_mode": {
    "name": "ipython",
    "version": 3
   },
   "file_extension": ".py",
   "mimetype": "text/x-python",
   "name": "python",
   "nbconvert_exporter": "python",
   "pygments_lexer": "ipython3",
   "version": "3.7.10"
  }
 },
 "nbformat": 4,
 "nbformat_minor": 5
}
